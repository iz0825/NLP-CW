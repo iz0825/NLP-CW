{
  "cells": [
    {
      "cell_type": "markdown",
      "metadata": {
        "id": "sC63fCyGWkb_"
      },
      "source": [
        "# NLP Coursework"
      ]
    },
    {
      "cell_type": "markdown",
      "metadata": {
        "id": "NIV8HEoTWxCt"
      },
      "source": [
        "# Packages Installment & Setup"
      ]
    },
    {
      "cell_type": "code",
      "execution_count": null,
      "metadata": {
        "id": "wFmuVxK5Vx1i"
      },
      "outputs": [],
      "source": [
        "# For HuggingFace Models\n",
        "!pip install -q transformers sentencepiece"
      ]
    },
    {
      "cell_type": "code",
      "execution_count": null,
      "metadata": {
        "colab": {
          "base_uri": "https://localhost:8080/"
        },
        "id": "yV-Xkd5rXxrJ",
        "outputId": "68442ef3-cf6d-4ca1-b48b-0dc6dfe88a50"
      },
      "outputs": [
        {
          "output_type": "stream",
          "name": "stdout",
          "text": [
            "[nltk_data] Downloading package stopwords to /root/nltk_data...\n",
            "[nltk_data]   Package stopwords is already up-to-date!\n",
            "[nltk_data] Downloading package wordnet to /root/nltk_data...\n",
            "[nltk_data]   Package wordnet is already up-to-date!\n"
          ]
        }
      ],
      "source": [
        "import nltk\n",
        "nltk.download('stopwords')\n",
        "nltk.download('wordnet')\n",
        "\n",
        "import matplotlib.pyplot as plt\n",
        "import numpy as np\n",
        "import os\n",
        "import pandas as pd\n",
        "import random\n",
        "import re\n",
        "import string\n",
        "import subprocess\n",
        "import transformers\n",
        "import torch\n",
        "import torch.nn as nn\n",
        "import torch.nn.functional as F\n",
        "import tqdm\n",
        "\n",
        "from collections import Counter\n",
        "from nltk.corpus import stopwords, wordnet\n",
        "from sklearn.linear_model import LogisticRegression\n",
        "from sklearn.metrics import balanced_accuracy_score, precision_recall_fscore_support\n",
        "from sklearn.model_selection import train_test_split\n",
        "from torch.nn.utils import clip_grad_norm_\n",
        "from torch.optim import Adam, AdamW\n",
        "from torch.utils.data import Dataset, DataLoader, WeightedRandomSampler\n",
        "from transformers import AutoTokenizer, AutoModelForSequenceClassification, get_linear_schedule_with_warmup\n",
        "from urllib import request"
      ]
    },
    {
      "cell_type": "markdown",
      "metadata": {
        "id": "3wHbcvPIXB1z"
      },
      "source": [
        "# Data Loading"
      ]
    },
    {
      "cell_type": "code",
      "execution_count": null,
      "metadata": {
        "colab": {
          "base_uri": "https://localhost:8080/"
        },
        "id": "uR8nRW1eAV6G",
        "outputId": "1dfb635a-2c0b-45dd-8c0a-860807a92a83"
      },
      "outputs": [
        {
          "output_type": "stream",
          "name": "stdout",
          "text": [
            "Drive already mounted at /content/drive/; to attempt to forcibly remount, call drive.mount(\"/content/drive/\", force_remount=True).\n"
          ]
        }
      ],
      "source": [
        "from google.colab import drive\n",
        "drive.mount(\"/content/drive/\")"
      ]
    },
    {
      "cell_type": "code",
      "execution_count": null,
      "metadata": {
        "id": "XuKv16GEaHO3"
      },
      "outputs": [],
      "source": [
        "def load_data_remote(working_dir_name):\n",
        "    os.chdir(\"/\")\n",
        "    \n",
        "    # Create & Switch to the working directory:\n",
        "    working_dir = f\"/content/drive/MyDrive/{working_dir_name}\"\n",
        "    if not os.path.exists(working_dir):\n",
        "        os.makedirs(working_dir)\n",
        "    os.chdir(working_dir)\n",
        "    \n",
        "    train_data_url = \"https://raw.githubusercontent.com/iz0825/NLP-CW/main/train_set.csv\"\n",
        "    print(f\"Fetching {train_data_url}\")\n",
        "    train_df = pd.read_csv(train_data_url)\n",
        "    train_df = train_df.dropna()\n",
        "    train_df.drop(train_df[train_df.text == \"\"].index, inplace=True)\n",
        "    print(f\"Train set loaded. Size = {len(train_df)}\")\n",
        "\n",
        "    dev_data_url = \"https://raw.githubusercontent.com/iz0825/NLP-CW/main/dev_set.csv\"\n",
        "    print(f\"Fetching {dev_data_url}\")\n",
        "    dev_df = pd.read_csv(dev_data_url)\n",
        "    dev_df = dev_df.dropna()\n",
        "    dev_df.drop(dev_df[dev_df.text == \"\"].index, inplace=True)\n",
        "    print(f\"Dev set loaded. Size = {len(dev_df)}\")\n",
        "    return train_df, dev_df\n"
      ]
    },
    {
      "cell_type": "code",
      "execution_count": null,
      "metadata": {
        "id": "1PG2Se3Ka5Db"
      },
      "outputs": [],
      "source": [
        "def load_data_local(working_dir_name):\n",
        "    os.chdir(\"/\")\n",
        "\n",
        "    # Find tsv file:\n",
        "    bashCommand = [\"find\", r\"/content/drive/MyDrive/\", \"-name\", \"dontpatronizeme_pcl.tsv\"]\n",
        "    process = subprocess.Popen(bashCommand, stdout=subprocess.PIPE)\n",
        "    output, error = process.communicate()\n",
        "    output = str(output, \"utf-8\")\n",
        "\n",
        "    bashCommand = [\"dirname\", output]\n",
        "    process = subprocess.Popen(bashCommand, stdout=subprocess.PIPE)\n",
        "    output, error = process.communicate()\n",
        "    data_dir = str(output, \"utf-8\").rstrip(\"\\r\\n\")\n",
        "\n",
        "    # Establish working directory in the same folder as the tsv data file:\n",
        "    working_dir = f\"{data_dir}/{working_dir_name}\"\n",
        "    if not os.path.exists(working_dir):\n",
        "        print(data_dir)\n",
        "        os.mkdir(working_dir)\n",
        "\n",
        "    # Fetch data loader:\n",
        "    os.chdir(data_dir)\n",
        "    module_url = f\"https://raw.githubusercontent.com/Perez-AlmendrosC/dontpatronizeme/master/semeval-2022/dont_patronize_me.py\"\n",
        "    module_name = module_url.split(\"/\")[-1]\n",
        "    print(f\"Fetching {module_url}\")\n",
        "    with request.urlopen(module_url) as f, open(module_name,\"w\") as outf:\n",
        "      a = f.read()\n",
        "      outf.write(a.decode(\"utf-8\"))\n",
        "\n",
        "    from dont_patronize_me import DontPatronizeMe\n",
        "\n",
        "    dpm = DontPatronizeMe(\".\", \"./dontpatronizeme_pcl.tsv\")\n",
        "    # This method loads the subtask 1 data:\n",
        "    dpm.load_task1()\n",
        "    # We can then access it as a dataframe:\n",
        "    dpm_data = dpm.train_task1_df\n",
        "    dpm_data = dpm_data.dropna()\n",
        "    # During data analysis, there is empty string present in validation set\n",
        "    # Drop all rows with text is empty string\n",
        "    dpm_data.drop(dpm_data[dpm_data.text == \"\"].index, inplace=True)\n",
        "\n",
        "    # Switch to the working directory:\n",
        "    os.chdir(working_dir)\n",
        "\n",
        "    url_train = \"https://raw.githubusercontent.com/Perez-AlmendrosC/dontpatronizeme/master/semeval-2022/practice%20splits/train_semeval_parids-labels.csv\"\n",
        "    print(f\"Fetching {url_train}\")\n",
        "    train_ids = pd.read_csv(url_train)\n",
        "    url_val = \"https://raw.githubusercontent.com/Perez-AlmendrosC/dontpatronizeme/master/semeval-2022/practice%20splits/dev_semeval_parids-labels.csv\"\n",
        "    print(f\"Fetching {url_val}\")\n",
        "    val_ids = pd.read_csv(url_val)\n",
        "\n",
        "    train_ids.par_id = train_ids.par_id.astype(str)\n",
        "    val_ids.par_id = val_ids.par_id.astype(str)\n",
        "\n",
        "    # Select all columns:\n",
        "    train_df = dpm_data.loc[dpm_data[\"par_id\"].isin(train_ids.loc[:, \"par_id\"])]\n",
        "    print(f\"Train set loaded. Size = {len(train_df)}\")\n",
        "    dev_df = dpm_data.loc[dpm_data[\"par_id\"].isin(val_ids.loc[:, \"par_id\"])]\n",
        "    print(f\"Dev set loaded. Size = {len(dev_df)}\")\n",
        "\n",
        "    return train_df, dev_df\n"
      ]
    },
    {
      "cell_type": "code",
      "execution_count": null,
      "metadata": {
        "colab": {
          "base_uri": "https://localhost:8080/"
        },
        "id": "wE2Q8lgu-vik",
        "outputId": "4e9a1672-8c2a-4900-b844-6c125345f45a"
      },
      "outputs": [
        {
          "output_type": "stream",
          "name": "stdout",
          "text": [
            "Fetching https://raw.githubusercontent.com/iz0825/NLP-CW/main/train_set.csv\n",
            "Train set loaded. Size = 8375\n",
            "Fetching https://raw.githubusercontent.com/iz0825/NLP-CW/main/dev_set.csv\n",
            "Dev set loaded. Size = 2093\n"
          ]
        }
      ],
      "source": [
        "# Data load remotely or locally:\n",
        "USE_REMOTE_DATA = True\n",
        "train_df = pd.DataFrame()\n",
        "dev_df = pd.DataFrame()\n",
        "\n",
        "# Current directory in \"NLP_CW\" after loading data:\n",
        "if USE_REMOTE_DATA:\n",
        "    train_df, dev_df = load_data_remote(\"NLP_CW/\")\n",
        "else:\n",
        "    train_df, dev_df = load_data_local(\"NLP_CW/\")"
      ]
    },
    {
      "cell_type": "markdown",
      "metadata": {
        "id": "H0QI3MtDFCub"
      },
      "source": [
        "# Basic Preprocessing"
      ]
    },
    {
      "cell_type": "code",
      "execution_count": null,
      "metadata": {
        "colab": {
          "base_uri": "https://localhost:8080/",
          "height": 754
        },
        "id": "9_Bnl2X9FExg",
        "outputId": "8a6c1fda-7350-4db1-f2b8-f471648c5ded"
      },
      "outputs": [
        {
          "output_type": "execute_result",
          "data": {
            "text/html": [
              "\n",
              "  <div id=\"df-5618d258-50a6-4309-bd7d-f59dff368b02\">\n",
              "    <div class=\"colab-df-container\">\n",
              "      <div>\n",
              "<style scoped>\n",
              "    .dataframe tbody tr th:only-of-type {\n",
              "        vertical-align: middle;\n",
              "    }\n",
              "\n",
              "    .dataframe tbody tr th {\n",
              "        vertical-align: top;\n",
              "    }\n",
              "\n",
              "    .dataframe thead th {\n",
              "        text-align: right;\n",
              "    }\n",
              "</style>\n",
              "<table border=\"1\" class=\"dataframe\">\n",
              "  <thead>\n",
              "    <tr style=\"text-align: right;\">\n",
              "      <th></th>\n",
              "      <th>par_id</th>\n",
              "      <th>art_id</th>\n",
              "      <th>keyword</th>\n",
              "      <th>country</th>\n",
              "      <th>text</th>\n",
              "      <th>label</th>\n",
              "      <th>orig_label</th>\n",
              "      <th>text_preprocessed</th>\n",
              "    </tr>\n",
              "  </thead>\n",
              "  <tbody>\n",
              "    <tr>\n",
              "      <th>0</th>\n",
              "      <td>1</td>\n",
              "      <td>@@24942188</td>\n",
              "      <td>hopeless</td>\n",
              "      <td>ph</td>\n",
              "      <td>We 're living in times of absolute insanity , ...</td>\n",
              "      <td>0</td>\n",
              "      <td>0</td>\n",
              "      <td>We 're living in times of absolute insanity , ...</td>\n",
              "    </tr>\n",
              "    <tr>\n",
              "      <th>1</th>\n",
              "      <td>2</td>\n",
              "      <td>@@21968160</td>\n",
              "      <td>migrant</td>\n",
              "      <td>gh</td>\n",
              "      <td>In Libya today , there are countless number of...</td>\n",
              "      <td>0</td>\n",
              "      <td>0</td>\n",
              "      <td>In Libya today , there are countless number of...</td>\n",
              "    </tr>\n",
              "    <tr>\n",
              "      <th>2</th>\n",
              "      <td>3</td>\n",
              "      <td>@@16584954</td>\n",
              "      <td>immigrant</td>\n",
              "      <td>ie</td>\n",
              "      <td>\"White House press secretary Sean Spicer said ...</td>\n",
              "      <td>0</td>\n",
              "      <td>0</td>\n",
              "      <td>White House press secretary Sean Spicer said t...</td>\n",
              "    </tr>\n",
              "    <tr>\n",
              "      <th>3</th>\n",
              "      <td>4</td>\n",
              "      <td>@@7811231</td>\n",
              "      <td>disabled</td>\n",
              "      <td>nz</td>\n",
              "      <td>Council customers only signs would be displaye...</td>\n",
              "      <td>0</td>\n",
              "      <td>0</td>\n",
              "      <td>Council customers only signs would be displaye...</td>\n",
              "    </tr>\n",
              "    <tr>\n",
              "      <th>4</th>\n",
              "      <td>5</td>\n",
              "      <td>@@1494111</td>\n",
              "      <td>refugee</td>\n",
              "      <td>ca</td>\n",
              "      <td>\"\"\" Just like we received migrants fleeing El ...</td>\n",
              "      <td>0</td>\n",
              "      <td>0</td>\n",
              "      <td>\" Just like we received migrants fleeing El Sa...</td>\n",
              "    </tr>\n",
              "    <tr>\n",
              "      <th>5</th>\n",
              "      <td>6</td>\n",
              "      <td>@@9382277</td>\n",
              "      <td>in-need</td>\n",
              "      <td>in</td>\n",
              "      <td>To bring down high blood sugar levels , insuli...</td>\n",
              "      <td>0</td>\n",
              "      <td>0</td>\n",
              "      <td>To bring down high blood sugar levels , insuli...</td>\n",
              "    </tr>\n",
              "    <tr>\n",
              "      <th>6</th>\n",
              "      <td>7</td>\n",
              "      <td>@@7562079</td>\n",
              "      <td>refugee</td>\n",
              "      <td>za</td>\n",
              "      <td>The European Union is making an historic mista...</td>\n",
              "      <td>0</td>\n",
              "      <td>0</td>\n",
              "      <td>The European Union is making an historic mista...</td>\n",
              "    </tr>\n",
              "    <tr>\n",
              "      <th>7</th>\n",
              "      <td>8</td>\n",
              "      <td>@@23663488</td>\n",
              "      <td>hopeless</td>\n",
              "      <td>nz</td>\n",
              "      <td>\"\"\" They 're either hopeless for being beaten ...</td>\n",
              "      <td>0</td>\n",
              "      <td>0</td>\n",
              "      <td>\" They 're either hopeless for being beaten by...</td>\n",
              "    </tr>\n",
              "    <tr>\n",
              "      <th>8</th>\n",
              "      <td>9</td>\n",
              "      <td>@@3449225</td>\n",
              "      <td>homeless</td>\n",
              "      <td>ph</td>\n",
              "      <td>NUEVA ERA , Ilocos Norte - No family shall be ...</td>\n",
              "      <td>0</td>\n",
              "      <td>1</td>\n",
              "      <td>NUEVA ERA , Ilocos Norte - No family shall be ...</td>\n",
              "    </tr>\n",
              "    <tr>\n",
              "      <th>9</th>\n",
              "      <td>10</td>\n",
              "      <td>@@2485090</td>\n",
              "      <td>in-need</td>\n",
              "      <td>nz</td>\n",
              "      <td>His spokesman said the Kremlin needed more inf...</td>\n",
              "      <td>0</td>\n",
              "      <td>0</td>\n",
              "      <td>His spokesman said the Kremlin needed more inf...</td>\n",
              "    </tr>\n",
              "  </tbody>\n",
              "</table>\n",
              "</div>\n",
              "      <button class=\"colab-df-convert\" onclick=\"convertToInteractive('df-5618d258-50a6-4309-bd7d-f59dff368b02')\"\n",
              "              title=\"Convert this dataframe to an interactive table.\"\n",
              "              style=\"display:none;\">\n",
              "        \n",
              "  <svg xmlns=\"http://www.w3.org/2000/svg\" height=\"24px\"viewBox=\"0 0 24 24\"\n",
              "       width=\"24px\">\n",
              "    <path d=\"M0 0h24v24H0V0z\" fill=\"none\"/>\n",
              "    <path d=\"M18.56 5.44l.94 2.06.94-2.06 2.06-.94-2.06-.94-.94-2.06-.94 2.06-2.06.94zm-11 1L8.5 8.5l.94-2.06 2.06-.94-2.06-.94L8.5 2.5l-.94 2.06-2.06.94zm10 10l.94 2.06.94-2.06 2.06-.94-2.06-.94-.94-2.06-.94 2.06-2.06.94z\"/><path d=\"M17.41 7.96l-1.37-1.37c-.4-.4-.92-.59-1.43-.59-.52 0-1.04.2-1.43.59L10.3 9.45l-7.72 7.72c-.78.78-.78 2.05 0 2.83L4 21.41c.39.39.9.59 1.41.59.51 0 1.02-.2 1.41-.59l7.78-7.78 2.81-2.81c.8-.78.8-2.07 0-2.86zM5.41 20L4 18.59l7.72-7.72 1.47 1.35L5.41 20z\"/>\n",
              "  </svg>\n",
              "      </button>\n",
              "      \n",
              "  <style>\n",
              "    .colab-df-container {\n",
              "      display:flex;\n",
              "      flex-wrap:wrap;\n",
              "      gap: 12px;\n",
              "    }\n",
              "\n",
              "    .colab-df-convert {\n",
              "      background-color: #E8F0FE;\n",
              "      border: none;\n",
              "      border-radius: 50%;\n",
              "      cursor: pointer;\n",
              "      display: none;\n",
              "      fill: #1967D2;\n",
              "      height: 32px;\n",
              "      padding: 0 0 0 0;\n",
              "      width: 32px;\n",
              "    }\n",
              "\n",
              "    .colab-df-convert:hover {\n",
              "      background-color: #E2EBFA;\n",
              "      box-shadow: 0px 1px 2px rgba(60, 64, 67, 0.3), 0px 1px 3px 1px rgba(60, 64, 67, 0.15);\n",
              "      fill: #174EA6;\n",
              "    }\n",
              "\n",
              "    [theme=dark] .colab-df-convert {\n",
              "      background-color: #3B4455;\n",
              "      fill: #D2E3FC;\n",
              "    }\n",
              "\n",
              "    [theme=dark] .colab-df-convert:hover {\n",
              "      background-color: #434B5C;\n",
              "      box-shadow: 0px 1px 3px 1px rgba(0, 0, 0, 0.15);\n",
              "      filter: drop-shadow(0px 1px 2px rgba(0, 0, 0, 0.3));\n",
              "      fill: #FFFFFF;\n",
              "    }\n",
              "  </style>\n",
              "\n",
              "      <script>\n",
              "        const buttonEl =\n",
              "          document.querySelector('#df-5618d258-50a6-4309-bd7d-f59dff368b02 button.colab-df-convert');\n",
              "        buttonEl.style.display =\n",
              "          google.colab.kernel.accessAllowed ? 'block' : 'none';\n",
              "\n",
              "        async function convertToInteractive(key) {\n",
              "          const element = document.querySelector('#df-5618d258-50a6-4309-bd7d-f59dff368b02');\n",
              "          const dataTable =\n",
              "            await google.colab.kernel.invokeFunction('convertToInteractive',\n",
              "                                                     [key], {});\n",
              "          if (!dataTable) return;\n",
              "\n",
              "          const docLinkHtml = 'Like what you see? Visit the ' +\n",
              "            '<a target=\"_blank\" href=https://colab.research.google.com/notebooks/data_table.ipynb>data table notebook</a>'\n",
              "            + ' to learn more about interactive tables.';\n",
              "          element.innerHTML = '';\n",
              "          dataTable['output_type'] = 'display_data';\n",
              "          await google.colab.output.renderOutput(dataTable, element);\n",
              "          const docLink = document.createElement('div');\n",
              "          docLink.innerHTML = docLinkHtml;\n",
              "          element.appendChild(docLink);\n",
              "        }\n",
              "      </script>\n",
              "    </div>\n",
              "  </div>\n",
              "  "
            ],
            "text/plain": [
              "   par_id      art_id    keyword country  \\\n",
              "0       1  @@24942188   hopeless      ph   \n",
              "1       2  @@21968160    migrant      gh   \n",
              "2       3  @@16584954  immigrant      ie   \n",
              "3       4   @@7811231   disabled      nz   \n",
              "4       5   @@1494111    refugee      ca   \n",
              "5       6   @@9382277    in-need      in   \n",
              "6       7   @@7562079    refugee      za   \n",
              "7       8  @@23663488   hopeless      nz   \n",
              "8       9   @@3449225   homeless      ph   \n",
              "9      10   @@2485090    in-need      nz   \n",
              "\n",
              "                                                text  label  orig_label  \\\n",
              "0  We 're living in times of absolute insanity , ...      0           0   \n",
              "1  In Libya today , there are countless number of...      0           0   \n",
              "2  \"White House press secretary Sean Spicer said ...      0           0   \n",
              "3  Council customers only signs would be displaye...      0           0   \n",
              "4  \"\"\" Just like we received migrants fleeing El ...      0           0   \n",
              "5  To bring down high blood sugar levels , insuli...      0           0   \n",
              "6  The European Union is making an historic mista...      0           0   \n",
              "7  \"\"\" They 're either hopeless for being beaten ...      0           0   \n",
              "8  NUEVA ERA , Ilocos Norte - No family shall be ...      0           1   \n",
              "9  His spokesman said the Kremlin needed more inf...      0           0   \n",
              "\n",
              "                                   text_preprocessed  \n",
              "0  We 're living in times of absolute insanity , ...  \n",
              "1  In Libya today , there are countless number of...  \n",
              "2  White House press secretary Sean Spicer said t...  \n",
              "3  Council customers only signs would be displaye...  \n",
              "4  \" Just like we received migrants fleeing El Sa...  \n",
              "5  To bring down high blood sugar levels , insuli...  \n",
              "6  The European Union is making an historic mista...  \n",
              "7  \" They 're either hopeless for being beaten by...  \n",
              "8  NUEVA ERA , Ilocos Norte - No family shall be ...  \n",
              "9  His spokesman said the Kremlin needed more inf...  "
            ]
          },
          "metadata": {},
          "execution_count": 7
        }
      ],
      "source": [
        "def basic_preprocess_fn(text):\n",
        "    text = re.sub(\" +\", \" \", text).strip()\n",
        "    if text[0] == \"\\\"\" and text[-1] == \"\\\"\":\n",
        "        text = text[1:-1]\n",
        "    text = re.sub(\"\\\"+\", \"\\\"\", text)\n",
        "    return text\n",
        "\n",
        "train_df[\"text_preprocessed\"] = train_df[\"text\"].apply(basic_preprocess_fn)\n",
        "dev_df[\"text_preprocessed\"] = dev_df[\"text\"].apply(basic_preprocess_fn)\n",
        "\n",
        "all_df = pd.concat([train_df, dev_df], ignore_index=True)\n",
        "all_df.head(10)"
      ]
    },
    {
      "cell_type": "markdown",
      "metadata": {
        "id": "tAXTZHHKaO0F"
      },
      "source": [
        "# Data Analysis\n",
        "\n",
        "For a written description of the training data. This should include:\n",
        "1. 5 marks – Analysis of the class labels: how frequent these are and how they correlate with any feature of the data, e.g. input length.\n",
        "2. 10 marks - Qualitative assessment of the dataset, considering either how hard or how subjective the task is, providing examples in your report."
      ]
    },
    {
      "cell_type": "markdown",
      "metadata": {
        "id": "FlPmu9-XhSdm"
      },
      "source": [
        "## Class Labels"
      ]
    },
    {
      "cell_type": "code",
      "execution_count": null,
      "metadata": {
        "colab": {
          "base_uri": "https://localhost:8080/"
        },
        "id": "Rorzvx_xRudQ",
        "outputId": "06d3d0ed-69c5-4a18-825e-972f4036d6e5"
      },
      "outputs": [
        {
          "output_type": "stream",
          "name": "stdout",
          "text": [
            "---Number of Positive / Negative Samples---\n",
            "Train set: 794 / 7581, 0.1047355230180715\n",
            "Dev set: 199 / 1894, 0.10506863780359028\n"
          ]
        }
      ],
      "source": [
        "train_pos = train_df[train_df[\"label\"] == 1]\n",
        "train_neg = train_df[train_df[\"label\"] == 0]\n",
        "dev_pos = dev_df[dev_df[\"label\"] == 1]\n",
        "dev_neg = dev_df[dev_df[\"label\"] == 0]\n",
        "all_pos = all_df[all_df[\"label\"] == 1]\n",
        "all_neg = all_df[all_df[\"label\"] == 0]\n",
        "print(\"---Number of Positive / Negative Samples---\")\n",
        "print(f\"Train set: {len(train_pos)} / {len(train_neg)}, {len(train_pos) / len(train_neg)}\")\n",
        "print(f\"Dev set: {len(dev_pos)} / {len(dev_neg)}, {len(dev_pos) / len(dev_neg)}\")"
      ]
    },
    {
      "cell_type": "code",
      "execution_count": null,
      "metadata": {
        "id": "qhUcVhSQQlW9"
      },
      "outputs": [],
      "source": [
        "def get_distribution_by_text_length(df):\n",
        "    bins = [0, 50, 100, 150, 200, 1000]\n",
        "    cuts = pd.cut(df.text_preprocessed.str.split().apply(len), bins)\n",
        "    lengths = df.groupby(cuts).size()\n",
        "    return lengths\n",
        "\n",
        "def get_distribution_by_column(df, column):\n",
        "    lengths = df.groupby(column).size()\n",
        "    return lengths\n",
        "\n",
        "def plot_label_distribution(train, dev, all, xlabel, ylabel, title):\n",
        "    fig, axes = plt.subplots(1, 3, figsize=(16, 4), dpi=80)\n",
        "    train.plot(y=[\"pos\", \"neg\"], kind=\"bar\", ax=axes[0], legend=0)\n",
        "    dev.plot(y=[\"pos\", \"neg\"], kind=\"bar\", ax=axes[1], legend=0)\n",
        "    all.plot(y=[\"pos\", \"neg\"], kind=\"bar\", ax=axes[2])\n",
        "\n",
        "    axes[0].set_title(\"Train\")\n",
        "    axes[1].set_title(\"Dev\")\n",
        "    axes[2].set_title(\"Combined\")\n",
        "    for ax in axes:\n",
        "        ax.set_xlabel(xlabel)\n",
        "        ax.set_ylabel(ylabel)\n",
        "\n",
        "    ax.legend(bbox_to_anchor=(1.25, 1))\n",
        "    plt.suptitle(title)\n",
        "    plt.show()\n",
        "\n",
        "def plot_label_distribution_single(df, xlabel, ylabel, title, adjust_legend=False):\n",
        "    fig, ax = plt.subplots(figsize=(8, 4), dpi=80)\n",
        "    df.plot(y=[\"pos\", \"neg\"], kind=\"bar\", ax=ax)\n",
        "\n",
        "    plt.xlabel(xlabel)\n",
        "    plt.ylabel(ylabel)\n",
        "    plt.title(title)\n",
        "    if adjust_legend:\n",
        "        plt.legend(bbox_to_anchor=(1.15, 1))\n",
        "    plt.show()\n"
      ]
    },
    {
      "cell_type": "code",
      "execution_count": null,
      "metadata": {
        "colab": {
          "base_uri": "https://localhost:8080/",
          "height": 1000
        },
        "id": "D6RM3MApZmR8",
        "outputId": "48b85cfd-a096-4811-c0de-b11de0fb21b2"
      },
      "outputs": [
        {
          "output_type": "stream",
          "name": "stdout",
          "text": [
            "Distribution of Labels VS Preprocessed Text Lengths - All Data:\n",
            "\n"
          ]
        },
        {
          "output_type": "display_data",
          "data": {
            "text/html": [
              "\n",
              "  <div id=\"df-0bc174ab-112a-426f-8a4b-fc19196a22cf\">\n",
              "    <div class=\"colab-df-container\">\n",
              "      <div>\n",
              "<style scoped>\n",
              "    .dataframe tbody tr th:only-of-type {\n",
              "        vertical-align: middle;\n",
              "    }\n",
              "\n",
              "    .dataframe tbody tr th {\n",
              "        vertical-align: top;\n",
              "    }\n",
              "\n",
              "    .dataframe thead th {\n",
              "        text-align: right;\n",
              "    }\n",
              "</style>\n",
              "<table border=\"1\" class=\"dataframe\">\n",
              "  <thead>\n",
              "    <tr style=\"text-align: right;\">\n",
              "      <th></th>\n",
              "      <th>pos</th>\n",
              "      <th>neg</th>\n",
              "      <th>ratio</th>\n",
              "    </tr>\n",
              "    <tr>\n",
              "      <th>text_preprocessed</th>\n",
              "      <th></th>\n",
              "      <th></th>\n",
              "      <th></th>\n",
              "    </tr>\n",
              "  </thead>\n",
              "  <tbody>\n",
              "    <tr>\n",
              "      <th>(0, 50]</th>\n",
              "      <td>547</td>\n",
              "      <td>6175</td>\n",
              "      <td>0.088583</td>\n",
              "    </tr>\n",
              "    <tr>\n",
              "      <th>(50, 100]</th>\n",
              "      <td>370</td>\n",
              "      <td>2830</td>\n",
              "      <td>0.130742</td>\n",
              "    </tr>\n",
              "    <tr>\n",
              "      <th>(100, 150]</th>\n",
              "      <td>69</td>\n",
              "      <td>410</td>\n",
              "      <td>0.168293</td>\n",
              "    </tr>\n",
              "    <tr>\n",
              "      <th>(150, 200]</th>\n",
              "      <td>4</td>\n",
              "      <td>52</td>\n",
              "      <td>0.076923</td>\n",
              "    </tr>\n",
              "    <tr>\n",
              "      <th>(200, 1000]</th>\n",
              "      <td>3</td>\n",
              "      <td>8</td>\n",
              "      <td>0.375000</td>\n",
              "    </tr>\n",
              "  </tbody>\n",
              "</table>\n",
              "</div>\n",
              "      <button class=\"colab-df-convert\" onclick=\"convertToInteractive('df-0bc174ab-112a-426f-8a4b-fc19196a22cf')\"\n",
              "              title=\"Convert this dataframe to an interactive table.\"\n",
              "              style=\"display:none;\">\n",
              "        \n",
              "  <svg xmlns=\"http://www.w3.org/2000/svg\" height=\"24px\"viewBox=\"0 0 24 24\"\n",
              "       width=\"24px\">\n",
              "    <path d=\"M0 0h24v24H0V0z\" fill=\"none\"/>\n",
              "    <path d=\"M18.56 5.44l.94 2.06.94-2.06 2.06-.94-2.06-.94-.94-2.06-.94 2.06-2.06.94zm-11 1L8.5 8.5l.94-2.06 2.06-.94-2.06-.94L8.5 2.5l-.94 2.06-2.06.94zm10 10l.94 2.06.94-2.06 2.06-.94-2.06-.94-.94-2.06-.94 2.06-2.06.94z\"/><path d=\"M17.41 7.96l-1.37-1.37c-.4-.4-.92-.59-1.43-.59-.52 0-1.04.2-1.43.59L10.3 9.45l-7.72 7.72c-.78.78-.78 2.05 0 2.83L4 21.41c.39.39.9.59 1.41.59.51 0 1.02-.2 1.41-.59l7.78-7.78 2.81-2.81c.8-.78.8-2.07 0-2.86zM5.41 20L4 18.59l7.72-7.72 1.47 1.35L5.41 20z\"/>\n",
              "  </svg>\n",
              "      </button>\n",
              "      \n",
              "  <style>\n",
              "    .colab-df-container {\n",
              "      display:flex;\n",
              "      flex-wrap:wrap;\n",
              "      gap: 12px;\n",
              "    }\n",
              "\n",
              "    .colab-df-convert {\n",
              "      background-color: #E8F0FE;\n",
              "      border: none;\n",
              "      border-radius: 50%;\n",
              "      cursor: pointer;\n",
              "      display: none;\n",
              "      fill: #1967D2;\n",
              "      height: 32px;\n",
              "      padding: 0 0 0 0;\n",
              "      width: 32px;\n",
              "    }\n",
              "\n",
              "    .colab-df-convert:hover {\n",
              "      background-color: #E2EBFA;\n",
              "      box-shadow: 0px 1px 2px rgba(60, 64, 67, 0.3), 0px 1px 3px 1px rgba(60, 64, 67, 0.15);\n",
              "      fill: #174EA6;\n",
              "    }\n",
              "\n",
              "    [theme=dark] .colab-df-convert {\n",
              "      background-color: #3B4455;\n",
              "      fill: #D2E3FC;\n",
              "    }\n",
              "\n",
              "    [theme=dark] .colab-df-convert:hover {\n",
              "      background-color: #434B5C;\n",
              "      box-shadow: 0px 1px 3px 1px rgba(0, 0, 0, 0.15);\n",
              "      filter: drop-shadow(0px 1px 2px rgba(0, 0, 0, 0.3));\n",
              "      fill: #FFFFFF;\n",
              "    }\n",
              "  </style>\n",
              "\n",
              "      <script>\n",
              "        const buttonEl =\n",
              "          document.querySelector('#df-0bc174ab-112a-426f-8a4b-fc19196a22cf button.colab-df-convert');\n",
              "        buttonEl.style.display =\n",
              "          google.colab.kernel.accessAllowed ? 'block' : 'none';\n",
              "\n",
              "        async function convertToInteractive(key) {\n",
              "          const element = document.querySelector('#df-0bc174ab-112a-426f-8a4b-fc19196a22cf');\n",
              "          const dataTable =\n",
              "            await google.colab.kernel.invokeFunction('convertToInteractive',\n",
              "                                                     [key], {});\n",
              "          if (!dataTable) return;\n",
              "\n",
              "          const docLinkHtml = 'Like what you see? Visit the ' +\n",
              "            '<a target=\"_blank\" href=https://colab.research.google.com/notebooks/data_table.ipynb>data table notebook</a>'\n",
              "            + ' to learn more about interactive tables.';\n",
              "          element.innerHTML = '';\n",
              "          dataTable['output_type'] = 'display_data';\n",
              "          await google.colab.output.renderOutput(dataTable, element);\n",
              "          const docLink = document.createElement('div');\n",
              "          docLink.innerHTML = docLinkHtml;\n",
              "          element.appendChild(docLink);\n",
              "        }\n",
              "      </script>\n",
              "    </div>\n",
              "  </div>\n",
              "  "
            ],
            "text/plain": [
              "                   pos   neg     ratio\n",
              "text_preprocessed                     \n",
              "(0, 50]            547  6175  0.088583\n",
              "(50, 100]          370  2830  0.130742\n",
              "(100, 150]          69   410  0.168293\n",
              "(150, 200]           4    52  0.076923\n",
              "(200, 1000]          3     8  0.375000"
            ]
          },
          "metadata": {}
        },
        {
          "output_type": "stream",
          "name": "stdout",
          "text": [
            "\n",
            "Distribution of Labels VS Preprocessed Text Lengths - Training Data:\n",
            "\n"
          ]
        },
        {
          "output_type": "display_data",
          "data": {
            "text/html": [
              "\n",
              "  <div id=\"df-1c6fc2fc-dad3-40ef-bb7f-8f4e74a0124f\">\n",
              "    <div class=\"colab-df-container\">\n",
              "      <div>\n",
              "<style scoped>\n",
              "    .dataframe tbody tr th:only-of-type {\n",
              "        vertical-align: middle;\n",
              "    }\n",
              "\n",
              "    .dataframe tbody tr th {\n",
              "        vertical-align: top;\n",
              "    }\n",
              "\n",
              "    .dataframe thead th {\n",
              "        text-align: right;\n",
              "    }\n",
              "</style>\n",
              "<table border=\"1\" class=\"dataframe\">\n",
              "  <thead>\n",
              "    <tr style=\"text-align: right;\">\n",
              "      <th></th>\n",
              "      <th>pos</th>\n",
              "      <th>neg</th>\n",
              "      <th>ratio</th>\n",
              "    </tr>\n",
              "    <tr>\n",
              "      <th>text_preprocessed</th>\n",
              "      <th></th>\n",
              "      <th></th>\n",
              "      <th></th>\n",
              "    </tr>\n",
              "  </thead>\n",
              "  <tbody>\n",
              "    <tr>\n",
              "      <th>(0, 50]</th>\n",
              "      <td>439</td>\n",
              "      <td>4921</td>\n",
              "      <td>0.089210</td>\n",
              "    </tr>\n",
              "    <tr>\n",
              "      <th>(50, 100]</th>\n",
              "      <td>292</td>\n",
              "      <td>2277</td>\n",
              "      <td>0.128239</td>\n",
              "    </tr>\n",
              "    <tr>\n",
              "      <th>(100, 150]</th>\n",
              "      <td>58</td>\n",
              "      <td>333</td>\n",
              "      <td>0.174174</td>\n",
              "    </tr>\n",
              "    <tr>\n",
              "      <th>(150, 200]</th>\n",
              "      <td>2</td>\n",
              "      <td>43</td>\n",
              "      <td>0.046512</td>\n",
              "    </tr>\n",
              "    <tr>\n",
              "      <th>(200, 1000]</th>\n",
              "      <td>3</td>\n",
              "      <td>7</td>\n",
              "      <td>0.428571</td>\n",
              "    </tr>\n",
              "  </tbody>\n",
              "</table>\n",
              "</div>\n",
              "      <button class=\"colab-df-convert\" onclick=\"convertToInteractive('df-1c6fc2fc-dad3-40ef-bb7f-8f4e74a0124f')\"\n",
              "              title=\"Convert this dataframe to an interactive table.\"\n",
              "              style=\"display:none;\">\n",
              "        \n",
              "  <svg xmlns=\"http://www.w3.org/2000/svg\" height=\"24px\"viewBox=\"0 0 24 24\"\n",
              "       width=\"24px\">\n",
              "    <path d=\"M0 0h24v24H0V0z\" fill=\"none\"/>\n",
              "    <path d=\"M18.56 5.44l.94 2.06.94-2.06 2.06-.94-2.06-.94-.94-2.06-.94 2.06-2.06.94zm-11 1L8.5 8.5l.94-2.06 2.06-.94-2.06-.94L8.5 2.5l-.94 2.06-2.06.94zm10 10l.94 2.06.94-2.06 2.06-.94-2.06-.94-.94-2.06-.94 2.06-2.06.94z\"/><path d=\"M17.41 7.96l-1.37-1.37c-.4-.4-.92-.59-1.43-.59-.52 0-1.04.2-1.43.59L10.3 9.45l-7.72 7.72c-.78.78-.78 2.05 0 2.83L4 21.41c.39.39.9.59 1.41.59.51 0 1.02-.2 1.41-.59l7.78-7.78 2.81-2.81c.8-.78.8-2.07 0-2.86zM5.41 20L4 18.59l7.72-7.72 1.47 1.35L5.41 20z\"/>\n",
              "  </svg>\n",
              "      </button>\n",
              "      \n",
              "  <style>\n",
              "    .colab-df-container {\n",
              "      display:flex;\n",
              "      flex-wrap:wrap;\n",
              "      gap: 12px;\n",
              "    }\n",
              "\n",
              "    .colab-df-convert {\n",
              "      background-color: #E8F0FE;\n",
              "      border: none;\n",
              "      border-radius: 50%;\n",
              "      cursor: pointer;\n",
              "      display: none;\n",
              "      fill: #1967D2;\n",
              "      height: 32px;\n",
              "      padding: 0 0 0 0;\n",
              "      width: 32px;\n",
              "    }\n",
              "\n",
              "    .colab-df-convert:hover {\n",
              "      background-color: #E2EBFA;\n",
              "      box-shadow: 0px 1px 2px rgba(60, 64, 67, 0.3), 0px 1px 3px 1px rgba(60, 64, 67, 0.15);\n",
              "      fill: #174EA6;\n",
              "    }\n",
              "\n",
              "    [theme=dark] .colab-df-convert {\n",
              "      background-color: #3B4455;\n",
              "      fill: #D2E3FC;\n",
              "    }\n",
              "\n",
              "    [theme=dark] .colab-df-convert:hover {\n",
              "      background-color: #434B5C;\n",
              "      box-shadow: 0px 1px 3px 1px rgba(0, 0, 0, 0.15);\n",
              "      filter: drop-shadow(0px 1px 2px rgba(0, 0, 0, 0.3));\n",
              "      fill: #FFFFFF;\n",
              "    }\n",
              "  </style>\n",
              "\n",
              "      <script>\n",
              "        const buttonEl =\n",
              "          document.querySelector('#df-1c6fc2fc-dad3-40ef-bb7f-8f4e74a0124f button.colab-df-convert');\n",
              "        buttonEl.style.display =\n",
              "          google.colab.kernel.accessAllowed ? 'block' : 'none';\n",
              "\n",
              "        async function convertToInteractive(key) {\n",
              "          const element = document.querySelector('#df-1c6fc2fc-dad3-40ef-bb7f-8f4e74a0124f');\n",
              "          const dataTable =\n",
              "            await google.colab.kernel.invokeFunction('convertToInteractive',\n",
              "                                                     [key], {});\n",
              "          if (!dataTable) return;\n",
              "\n",
              "          const docLinkHtml = 'Like what you see? Visit the ' +\n",
              "            '<a target=\"_blank\" href=https://colab.research.google.com/notebooks/data_table.ipynb>data table notebook</a>'\n",
              "            + ' to learn more about interactive tables.';\n",
              "          element.innerHTML = '';\n",
              "          dataTable['output_type'] = 'display_data';\n",
              "          await google.colab.output.renderOutput(dataTable, element);\n",
              "          const docLink = document.createElement('div');\n",
              "          docLink.innerHTML = docLinkHtml;\n",
              "          element.appendChild(docLink);\n",
              "        }\n",
              "      </script>\n",
              "    </div>\n",
              "  </div>\n",
              "  "
            ],
            "text/plain": [
              "                   pos   neg     ratio\n",
              "text_preprocessed                     \n",
              "(0, 50]            439  4921  0.089210\n",
              "(50, 100]          292  2277  0.128239\n",
              "(100, 150]          58   333  0.174174\n",
              "(150, 200]           2    43  0.046512\n",
              "(200, 1000]          3     7  0.428571"
            ]
          },
          "metadata": {}
        },
        {
          "output_type": "stream",
          "name": "stdout",
          "text": [
            "\n",
            "Distribution of Labels VS Preprocessed Text Lengths - Dev Data:\n",
            "\n"
          ]
        },
        {
          "output_type": "display_data",
          "data": {
            "text/html": [
              "\n",
              "  <div id=\"df-69e8b8f2-6d86-4e81-91e2-587562f4cd9e\">\n",
              "    <div class=\"colab-df-container\">\n",
              "      <div>\n",
              "<style scoped>\n",
              "    .dataframe tbody tr th:only-of-type {\n",
              "        vertical-align: middle;\n",
              "    }\n",
              "\n",
              "    .dataframe tbody tr th {\n",
              "        vertical-align: top;\n",
              "    }\n",
              "\n",
              "    .dataframe thead th {\n",
              "        text-align: right;\n",
              "    }\n",
              "</style>\n",
              "<table border=\"1\" class=\"dataframe\">\n",
              "  <thead>\n",
              "    <tr style=\"text-align: right;\">\n",
              "      <th></th>\n",
              "      <th>pos</th>\n",
              "      <th>neg</th>\n",
              "      <th>ratio</th>\n",
              "    </tr>\n",
              "    <tr>\n",
              "      <th>text_preprocessed</th>\n",
              "      <th></th>\n",
              "      <th></th>\n",
              "      <th></th>\n",
              "    </tr>\n",
              "  </thead>\n",
              "  <tbody>\n",
              "    <tr>\n",
              "      <th>(0, 50]</th>\n",
              "      <td>108</td>\n",
              "      <td>1254</td>\n",
              "      <td>0.086124</td>\n",
              "    </tr>\n",
              "    <tr>\n",
              "      <th>(50, 100]</th>\n",
              "      <td>78</td>\n",
              "      <td>553</td>\n",
              "      <td>0.141049</td>\n",
              "    </tr>\n",
              "    <tr>\n",
              "      <th>(100, 150]</th>\n",
              "      <td>11</td>\n",
              "      <td>77</td>\n",
              "      <td>0.142857</td>\n",
              "    </tr>\n",
              "    <tr>\n",
              "      <th>(150, 200]</th>\n",
              "      <td>2</td>\n",
              "      <td>9</td>\n",
              "      <td>0.222222</td>\n",
              "    </tr>\n",
              "    <tr>\n",
              "      <th>(200, 1000]</th>\n",
              "      <td>0</td>\n",
              "      <td>1</td>\n",
              "      <td>0.000000</td>\n",
              "    </tr>\n",
              "  </tbody>\n",
              "</table>\n",
              "</div>\n",
              "      <button class=\"colab-df-convert\" onclick=\"convertToInteractive('df-69e8b8f2-6d86-4e81-91e2-587562f4cd9e')\"\n",
              "              title=\"Convert this dataframe to an interactive table.\"\n",
              "              style=\"display:none;\">\n",
              "        \n",
              "  <svg xmlns=\"http://www.w3.org/2000/svg\" height=\"24px\"viewBox=\"0 0 24 24\"\n",
              "       width=\"24px\">\n",
              "    <path d=\"M0 0h24v24H0V0z\" fill=\"none\"/>\n",
              "    <path d=\"M18.56 5.44l.94 2.06.94-2.06 2.06-.94-2.06-.94-.94-2.06-.94 2.06-2.06.94zm-11 1L8.5 8.5l.94-2.06 2.06-.94-2.06-.94L8.5 2.5l-.94 2.06-2.06.94zm10 10l.94 2.06.94-2.06 2.06-.94-2.06-.94-.94-2.06-.94 2.06-2.06.94z\"/><path d=\"M17.41 7.96l-1.37-1.37c-.4-.4-.92-.59-1.43-.59-.52 0-1.04.2-1.43.59L10.3 9.45l-7.72 7.72c-.78.78-.78 2.05 0 2.83L4 21.41c.39.39.9.59 1.41.59.51 0 1.02-.2 1.41-.59l7.78-7.78 2.81-2.81c.8-.78.8-2.07 0-2.86zM5.41 20L4 18.59l7.72-7.72 1.47 1.35L5.41 20z\"/>\n",
              "  </svg>\n",
              "      </button>\n",
              "      \n",
              "  <style>\n",
              "    .colab-df-container {\n",
              "      display:flex;\n",
              "      flex-wrap:wrap;\n",
              "      gap: 12px;\n",
              "    }\n",
              "\n",
              "    .colab-df-convert {\n",
              "      background-color: #E8F0FE;\n",
              "      border: none;\n",
              "      border-radius: 50%;\n",
              "      cursor: pointer;\n",
              "      display: none;\n",
              "      fill: #1967D2;\n",
              "      height: 32px;\n",
              "      padding: 0 0 0 0;\n",
              "      width: 32px;\n",
              "    }\n",
              "\n",
              "    .colab-df-convert:hover {\n",
              "      background-color: #E2EBFA;\n",
              "      box-shadow: 0px 1px 2px rgba(60, 64, 67, 0.3), 0px 1px 3px 1px rgba(60, 64, 67, 0.15);\n",
              "      fill: #174EA6;\n",
              "    }\n",
              "\n",
              "    [theme=dark] .colab-df-convert {\n",
              "      background-color: #3B4455;\n",
              "      fill: #D2E3FC;\n",
              "    }\n",
              "\n",
              "    [theme=dark] .colab-df-convert:hover {\n",
              "      background-color: #434B5C;\n",
              "      box-shadow: 0px 1px 3px 1px rgba(0, 0, 0, 0.15);\n",
              "      filter: drop-shadow(0px 1px 2px rgba(0, 0, 0, 0.3));\n",
              "      fill: #FFFFFF;\n",
              "    }\n",
              "  </style>\n",
              "\n",
              "      <script>\n",
              "        const buttonEl =\n",
              "          document.querySelector('#df-69e8b8f2-6d86-4e81-91e2-587562f4cd9e button.colab-df-convert');\n",
              "        buttonEl.style.display =\n",
              "          google.colab.kernel.accessAllowed ? 'block' : 'none';\n",
              "\n",
              "        async function convertToInteractive(key) {\n",
              "          const element = document.querySelector('#df-69e8b8f2-6d86-4e81-91e2-587562f4cd9e');\n",
              "          const dataTable =\n",
              "            await google.colab.kernel.invokeFunction('convertToInteractive',\n",
              "                                                     [key], {});\n",
              "          if (!dataTable) return;\n",
              "\n",
              "          const docLinkHtml = 'Like what you see? Visit the ' +\n",
              "            '<a target=\"_blank\" href=https://colab.research.google.com/notebooks/data_table.ipynb>data table notebook</a>'\n",
              "            + ' to learn more about interactive tables.';\n",
              "          element.innerHTML = '';\n",
              "          dataTable['output_type'] = 'display_data';\n",
              "          await google.colab.output.renderOutput(dataTable, element);\n",
              "          const docLink = document.createElement('div');\n",
              "          docLink.innerHTML = docLinkHtml;\n",
              "          element.appendChild(docLink);\n",
              "        }\n",
              "      </script>\n",
              "    </div>\n",
              "  </div>\n",
              "  "
            ],
            "text/plain": [
              "                   pos   neg     ratio\n",
              "text_preprocessed                     \n",
              "(0, 50]            108  1254  0.086124\n",
              "(50, 100]           78   553  0.141049\n",
              "(100, 150]          11    77  0.142857\n",
              "(150, 200]           2     9  0.222222\n",
              "(200, 1000]          0     1  0.000000"
            ]
          },
          "metadata": {}
        },
        {
          "output_type": "stream",
          "name": "stdout",
          "text": [
            "\n",
            "\n"
          ]
        },
        {
          "output_type": "display_data",
          "data": {
            "image/png": "[encoded data removed]",
            "text/plain": [
              "<Figure size 1280x320 with 3 Axes>"
            ]
          },
          "metadata": {
            "needs_background": "light"
          }
        }
      ],
      "source": [
        "def display_stats_textlengths():\n",
        "    all_lengths_pos = get_distribution_by_text_length(all_pos).rename(\"pos\")\n",
        "    all_lengths_neg = get_distribution_by_text_length(all_neg).rename(\"neg\")\n",
        "    all_lengths_ratio = all_lengths_pos.div(all_lengths_neg).rename(\"ratio\") \n",
        "    all_lengths = pd.concat([all_lengths_pos, all_lengths_neg, all_lengths_ratio], axis=1)\n",
        "\n",
        "    train_lengths_pos = get_distribution_by_text_length(train_pos).rename(\"pos\")\n",
        "    train_lengths_neg = get_distribution_by_text_length(train_neg).rename(\"neg\")\n",
        "    train_lengths_ratio = train_lengths_pos.div(train_lengths_neg).rename(\"ratio\") \n",
        "    train_lengths = pd.concat([train_lengths_pos, train_lengths_neg, train_lengths_ratio], axis=1)\n",
        "\n",
        "    dev_lengths_pos = get_distribution_by_text_length(dev_pos).rename(\"pos\")\n",
        "    dev_lengths_neg = get_distribution_by_text_length(dev_neg).rename(\"neg\")\n",
        "    dev_lengths_ratio = dev_lengths_pos.div(dev_lengths_neg).rename(\"ratio\") \n",
        "    dev_lengths = pd.concat([dev_lengths_pos, dev_lengths_neg, dev_lengths_ratio], axis=1)\n",
        "\n",
        "    print(\"Distribution of Labels VS Preprocessed Text Lengths - All Data:\\n\")\n",
        "    display(all_lengths)\n",
        "    print(\"\\nDistribution of Labels VS Preprocessed Text Lengths - Training Data:\\n\")\n",
        "    display(train_lengths)\n",
        "    print(\"\\nDistribution of Labels VS Preprocessed Text Lengths - Dev Data:\\n\")\n",
        "    display(dev_lengths)\n",
        "    print(\"\\n\")\n",
        "\n",
        "    plot_label_distribution(train_lengths,\n",
        "                            dev_lengths,\n",
        "                            all_lengths,\n",
        "                            \"Text Length (# tokens)\",\n",
        "                            \"Frequency\",\n",
        "                            \"Label Distribution by Text Length (# tokens)\")\n",
        "\n",
        "display_stats_textlengths()"
      ]
    },
    {
      "cell_type": "code",
      "execution_count": null,
      "metadata": {
        "colab": {
          "base_uri": "https://localhost:8080/",
          "height": 1000
        },
        "id": "lREYmi7nYNEl",
        "outputId": "0ae4235d-0745-4818-b5ab-7a84fd9c4b67"
      },
      "outputs": [
        {
          "output_type": "stream",
          "name": "stdout",
          "text": [
            "Distribution of Labels VS Country Code - All Data:\n",
            "\n"
          ]
        },
        {
          "output_type": "display_data",
          "data": {
            "text/html": [
              "\n",
              "  <div id=\"df-35ce32fe-9744-441f-9fa9-9672a6ef18a5\">\n",
              "    <div class=\"colab-df-container\">\n",
              "      <div>\n",
              "<style scoped>\n",
              "    .dataframe tbody tr th:only-of-type {\n",
              "        vertical-align: middle;\n",
              "    }\n",
              "\n",
              "    .dataframe tbody tr th {\n",
              "        vertical-align: top;\n",
              "    }\n",
              "\n",
              "    .dataframe thead th {\n",
              "        text-align: right;\n",
              "    }\n",
              "</style>\n",
              "<table border=\"1\" class=\"dataframe\">\n",
              "  <thead>\n",
              "    <tr style=\"text-align: right;\">\n",
              "      <th></th>\n",
              "      <th>pos</th>\n",
              "      <th>neg</th>\n",
              "      <th>ratio</th>\n",
              "    </tr>\n",
              "    <tr>\n",
              "      <th>country</th>\n",
              "      <th></th>\n",
              "      <th></th>\n",
              "      <th></th>\n",
              "    </tr>\n",
              "  </thead>\n",
              "  <tbody>\n",
              "    <tr>\n",
              "      <th>gh</th>\n",
              "      <td>75</td>\n",
              "      <td>448</td>\n",
              "      <td>0.167411</td>\n",
              "    </tr>\n",
              "    <tr>\n",
              "      <th>ng</th>\n",
              "      <td>72</td>\n",
              "      <td>465</td>\n",
              "      <td>0.154839</td>\n",
              "    </tr>\n",
              "    <tr>\n",
              "      <th>ph</th>\n",
              "      <td>67</td>\n",
              "      <td>478</td>\n",
              "      <td>0.140167</td>\n",
              "    </tr>\n",
              "    <tr>\n",
              "      <th>jm</th>\n",
              "      <td>57</td>\n",
              "      <td>433</td>\n",
              "      <td>0.131640</td>\n",
              "    </tr>\n",
              "    <tr>\n",
              "      <th>za</th>\n",
              "      <td>58</td>\n",
              "      <td>491</td>\n",
              "      <td>0.118126</td>\n",
              "    </tr>\n",
              "    <tr>\n",
              "      <th>gb</th>\n",
              "      <td>57</td>\n",
              "      <td>483</td>\n",
              "      <td>0.118012</td>\n",
              "    </tr>\n",
              "    <tr>\n",
              "      <th>tz</th>\n",
              "      <td>41</td>\n",
              "      <td>374</td>\n",
              "      <td>0.109626</td>\n",
              "    </tr>\n",
              "    <tr>\n",
              "      <th>pk</th>\n",
              "      <td>53</td>\n",
              "      <td>492</td>\n",
              "      <td>0.107724</td>\n",
              "    </tr>\n",
              "    <tr>\n",
              "      <th>lk</th>\n",
              "      <td>49</td>\n",
              "      <td>455</td>\n",
              "      <td>0.107692</td>\n",
              "    </tr>\n",
              "    <tr>\n",
              "      <th>ie</th>\n",
              "      <td>52</td>\n",
              "      <td>485</td>\n",
              "      <td>0.107216</td>\n",
              "    </tr>\n",
              "    <tr>\n",
              "      <th>nz</th>\n",
              "      <td>47</td>\n",
              "      <td>471</td>\n",
              "      <td>0.099788</td>\n",
              "    </tr>\n",
              "    <tr>\n",
              "      <th>ca</th>\n",
              "      <td>46</td>\n",
              "      <td>484</td>\n",
              "      <td>0.095041</td>\n",
              "    </tr>\n",
              "    <tr>\n",
              "      <th>bd</th>\n",
              "      <td>44</td>\n",
              "      <td>468</td>\n",
              "      <td>0.094017</td>\n",
              "    </tr>\n",
              "    <tr>\n",
              "      <th>ke</th>\n",
              "      <td>45</td>\n",
              "      <td>493</td>\n",
              "      <td>0.091278</td>\n",
              "    </tr>\n",
              "    <tr>\n",
              "      <th>us</th>\n",
              "      <td>44</td>\n",
              "      <td>499</td>\n",
              "      <td>0.088176</td>\n",
              "    </tr>\n",
              "    <tr>\n",
              "      <th>my</th>\n",
              "      <td>43</td>\n",
              "      <td>503</td>\n",
              "      <td>0.085487</td>\n",
              "    </tr>\n",
              "    <tr>\n",
              "      <th>in</th>\n",
              "      <td>39</td>\n",
              "      <td>491</td>\n",
              "      <td>0.079430</td>\n",
              "    </tr>\n",
              "    <tr>\n",
              "      <th>sg</th>\n",
              "      <td>38</td>\n",
              "      <td>497</td>\n",
              "      <td>0.076459</td>\n",
              "    </tr>\n",
              "    <tr>\n",
              "      <th>au</th>\n",
              "      <td>37</td>\n",
              "      <td>504</td>\n",
              "      <td>0.073413</td>\n",
              "    </tr>\n",
              "    <tr>\n",
              "      <th>hk</th>\n",
              "      <td>29</td>\n",
              "      <td>461</td>\n",
              "      <td>0.062907</td>\n",
              "    </tr>\n",
              "  </tbody>\n",
              "</table>\n",
              "</div>\n",
              "      <button class=\"colab-df-convert\" onclick=\"convertToInteractive('df-35ce32fe-9744-441f-9fa9-9672a6ef18a5')\"\n",
              "              title=\"Convert this dataframe to an interactive table.\"\n",
              "              style=\"display:none;\">\n",
              "        \n",
              "  <svg xmlns=\"http://www.w3.org/2000/svg\" height=\"24px\"viewBox=\"0 0 24 24\"\n",
              "       width=\"24px\">\n",
              "    <path d=\"M0 0h24v24H0V0z\" fill=\"none\"/>\n",
              "    <path d=\"M18.56 5.44l.94 2.06.94-2.06 2.06-.94-2.06-.94-.94-2.06-.94 2.06-2.06.94zm-11 1L8.5 8.5l.94-2.06 2.06-.94-2.06-.94L8.5 2.5l-.94 2.06-2.06.94zm10 10l.94 2.06.94-2.06 2.06-.94-2.06-.94-.94-2.06-.94 2.06-2.06.94z\"/><path d=\"M17.41 7.96l-1.37-1.37c-.4-.4-.92-.59-1.43-.59-.52 0-1.04.2-1.43.59L10.3 9.45l-7.72 7.72c-.78.78-.78 2.05 0 2.83L4 21.41c.39.39.9.59 1.41.59.51 0 1.02-.2 1.41-.59l7.78-7.78 2.81-2.81c.8-.78.8-2.07 0-2.86zM5.41 20L4 18.59l7.72-7.72 1.47 1.35L5.41 20z\"/>\n",
              "  </svg>\n",
              "      </button>\n",
              "      \n",
              "  <style>\n",
              "    .colab-df-container {\n",
              "      display:flex;\n",
              "      flex-wrap:wrap;\n",
              "      gap: 12px;\n",
              "    }\n",
              "\n",
              "    .colab-df-convert {\n",
              "      background-color: #E8F0FE;\n",
              "      border: none;\n",
              "      border-radius: 50%;\n",
              "      cursor: pointer;\n",
              "      display: none;\n",
              "      fill: #1967D2;\n",
              "      height: 32px;\n",
              "      padding: 0 0 0 0;\n",
              "      width: 32px;\n",
              "    }\n",
              "\n",
              "    .colab-df-convert:hover {\n",
              "      background-color: #E2EBFA;\n",
              "      box-shadow: 0px 1px 2px rgba(60, 64, 67, 0.3), 0px 1px 3px 1px rgba(60, 64, 67, 0.15);\n",
              "      fill: #174EA6;\n",
              "    }\n",
              "\n",
              "    [theme=dark] .colab-df-convert {\n",
              "      background-color: #3B4455;\n",
              "      fill: #D2E3FC;\n",
              "    }\n",
              "\n",
              "    [theme=dark] .colab-df-convert:hover {\n",
              "      background-color: #434B5C;\n",
              "      box-shadow: 0px 1px 3px 1px rgba(0, 0, 0, 0.15);\n",
              "      filter: drop-shadow(0px 1px 2px rgba(0, 0, 0, 0.3));\n",
              "      fill: #FFFFFF;\n",
              "    }\n",
              "  </style>\n",
              "\n",
              "      <script>\n",
              "        const buttonEl =\n",
              "          document.querySelector('#df-35ce32fe-9744-441f-9fa9-9672a6ef18a5 button.colab-df-convert');\n",
              "        buttonEl.style.display =\n",
              "          google.colab.kernel.accessAllowed ? 'block' : 'none';\n",
              "\n",
              "        async function convertToInteractive(key) {\n",
              "          const element = document.querySelector('#df-35ce32fe-9744-441f-9fa9-9672a6ef18a5');\n",
              "          const dataTable =\n",
              "            await google.colab.kernel.invokeFunction('convertToInteractive',\n",
              "                                                     [key], {});\n",
              "          if (!dataTable) return;\n",
              "\n",
              "          const docLinkHtml = 'Like what you see? Visit the ' +\n",
              "            '<a target=\"_blank\" href=https://colab.research.google.com/notebooks/data_table.ipynb>data table notebook</a>'\n",
              "            + ' to learn more about interactive tables.';\n",
              "          element.innerHTML = '';\n",
              "          dataTable['output_type'] = 'display_data';\n",
              "          await google.colab.output.renderOutput(dataTable, element);\n",
              "          const docLink = document.createElement('div');\n",
              "          docLink.innerHTML = docLinkHtml;\n",
              "          element.appendChild(docLink);\n",
              "        }\n",
              "      </script>\n",
              "    </div>\n",
              "  </div>\n",
              "  "
            ],
            "text/plain": [
              "         pos  neg     ratio\n",
              "country                    \n",
              "gh        75  448  0.167411\n",
              "ng        72  465  0.154839\n",
              "ph        67  478  0.140167\n",
              "jm        57  433  0.131640\n",
              "za        58  491  0.118126\n",
              "gb        57  483  0.118012\n",
              "tz        41  374  0.109626\n",
              "pk        53  492  0.107724\n",
              "lk        49  455  0.107692\n",
              "ie        52  485  0.107216\n",
              "nz        47  471  0.099788\n",
              "ca        46  484  0.095041\n",
              "bd        44  468  0.094017\n",
              "ke        45  493  0.091278\n",
              "us        44  499  0.088176\n",
              "my        43  503  0.085487\n",
              "in        39  491  0.079430\n",
              "sg        38  497  0.076459\n",
              "au        37  504  0.073413\n",
              "hk        29  461  0.062907"
            ]
          },
          "metadata": {}
        },
        {
          "output_type": "stream",
          "name": "stdout",
          "text": [
            "\n",
            "Distribution of Labels VS Country Code - Training Data:\n",
            "\n"
          ]
        },
        {
          "output_type": "display_data",
          "data": {
            "text/html": [
              "\n",
              "  <div id=\"df-272867e5-62b3-4b51-833e-a546cb773225\">\n",
              "    <div class=\"colab-df-container\">\n",
              "      <div>\n",
              "<style scoped>\n",
              "    .dataframe tbody tr th:only-of-type {\n",
              "        vertical-align: middle;\n",
              "    }\n",
              "\n",
              "    .dataframe tbody tr th {\n",
              "        vertical-align: top;\n",
              "    }\n",
              "\n",
              "    .dataframe thead th {\n",
              "        text-align: right;\n",
              "    }\n",
              "</style>\n",
              "<table border=\"1\" class=\"dataframe\">\n",
              "  <thead>\n",
              "    <tr style=\"text-align: right;\">\n",
              "      <th></th>\n",
              "      <th>pos</th>\n",
              "      <th>neg</th>\n",
              "      <th>ratio</th>\n",
              "    </tr>\n",
              "    <tr>\n",
              "      <th>country</th>\n",
              "      <th></th>\n",
              "      <th></th>\n",
              "      <th></th>\n",
              "    </tr>\n",
              "  </thead>\n",
              "  <tbody>\n",
              "    <tr>\n",
              "      <th>gh</th>\n",
              "      <td>63</td>\n",
              "      <td>376</td>\n",
              "      <td>0.167553</td>\n",
              "    </tr>\n",
              "    <tr>\n",
              "      <th>ng</th>\n",
              "      <td>57</td>\n",
              "      <td>372</td>\n",
              "      <td>0.153226</td>\n",
              "    </tr>\n",
              "    <tr>\n",
              "      <th>jm</th>\n",
              "      <td>47</td>\n",
              "      <td>339</td>\n",
              "      <td>0.138643</td>\n",
              "    </tr>\n",
              "    <tr>\n",
              "      <th>ph</th>\n",
              "      <td>52</td>\n",
              "      <td>388</td>\n",
              "      <td>0.134021</td>\n",
              "    </tr>\n",
              "    <tr>\n",
              "      <th>gb</th>\n",
              "      <td>48</td>\n",
              "      <td>365</td>\n",
              "      <td>0.131507</td>\n",
              "    </tr>\n",
              "    <tr>\n",
              "      <th>za</th>\n",
              "      <td>47</td>\n",
              "      <td>392</td>\n",
              "      <td>0.119898</td>\n",
              "    </tr>\n",
              "    <tr>\n",
              "      <th>ie</th>\n",
              "      <td>42</td>\n",
              "      <td>383</td>\n",
              "      <td>0.109661</td>\n",
              "    </tr>\n",
              "    <tr>\n",
              "      <th>lk</th>\n",
              "      <td>40</td>\n",
              "      <td>379</td>\n",
              "      <td>0.105541</td>\n",
              "    </tr>\n",
              "    <tr>\n",
              "      <th>tz</th>\n",
              "      <td>30</td>\n",
              "      <td>291</td>\n",
              "      <td>0.103093</td>\n",
              "    </tr>\n",
              "    <tr>\n",
              "      <th>ca</th>\n",
              "      <td>38</td>\n",
              "      <td>374</td>\n",
              "      <td>0.101604</td>\n",
              "    </tr>\n",
              "    <tr>\n",
              "      <th>bd</th>\n",
              "      <td>37</td>\n",
              "      <td>372</td>\n",
              "      <td>0.099462</td>\n",
              "    </tr>\n",
              "    <tr>\n",
              "      <th>pk</th>\n",
              "      <td>39</td>\n",
              "      <td>397</td>\n",
              "      <td>0.098237</td>\n",
              "    </tr>\n",
              "    <tr>\n",
              "      <th>nz</th>\n",
              "      <td>35</td>\n",
              "      <td>382</td>\n",
              "      <td>0.091623</td>\n",
              "    </tr>\n",
              "    <tr>\n",
              "      <th>my</th>\n",
              "      <td>35</td>\n",
              "      <td>395</td>\n",
              "      <td>0.088608</td>\n",
              "    </tr>\n",
              "    <tr>\n",
              "      <th>us</th>\n",
              "      <td>34</td>\n",
              "      <td>395</td>\n",
              "      <td>0.086076</td>\n",
              "    </tr>\n",
              "    <tr>\n",
              "      <th>sg</th>\n",
              "      <td>34</td>\n",
              "      <td>406</td>\n",
              "      <td>0.083744</td>\n",
              "    </tr>\n",
              "    <tr>\n",
              "      <th>ke</th>\n",
              "      <td>32</td>\n",
              "      <td>393</td>\n",
              "      <td>0.081425</td>\n",
              "    </tr>\n",
              "    <tr>\n",
              "      <th>in</th>\n",
              "      <td>32</td>\n",
              "      <td>394</td>\n",
              "      <td>0.081218</td>\n",
              "    </tr>\n",
              "    <tr>\n",
              "      <th>au</th>\n",
              "      <td>32</td>\n",
              "      <td>411</td>\n",
              "      <td>0.077859</td>\n",
              "    </tr>\n",
              "    <tr>\n",
              "      <th>hk</th>\n",
              "      <td>20</td>\n",
              "      <td>377</td>\n",
              "      <td>0.053050</td>\n",
              "    </tr>\n",
              "  </tbody>\n",
              "</table>\n",
              "</div>\n",
              "      <button class=\"colab-df-convert\" onclick=\"convertToInteractive('df-272867e5-62b3-4b51-833e-a546cb773225')\"\n",
              "              title=\"Convert this dataframe to an interactive table.\"\n",
              "              style=\"display:none;\">\n",
              "        \n",
              "  <svg xmlns=\"http://www.w3.org/2000/svg\" height=\"24px\"viewBox=\"0 0 24 24\"\n",
              "       width=\"24px\">\n",
              "    <path d=\"M0 0h24v24H0V0z\" fill=\"none\"/>\n",
              "    <path d=\"M18.56 5.44l.94 2.06.94-2.06 2.06-.94-2.06-.94-.94-2.06-.94 2.06-2.06.94zm-11 1L8.5 8.5l.94-2.06 2.06-.94-2.06-.94L8.5 2.5l-.94 2.06-2.06.94zm10 10l.94 2.06.94-2.06 2.06-.94-2.06-.94-.94-2.06-.94 2.06-2.06.94z\"/><path d=\"M17.41 7.96l-1.37-1.37c-.4-.4-.92-.59-1.43-.59-.52 0-1.04.2-1.43.59L10.3 9.45l-7.72 7.72c-.78.78-.78 2.05 0 2.83L4 21.41c.39.39.9.59 1.41.59.51 0 1.02-.2 1.41-.59l7.78-7.78 2.81-2.81c.8-.78.8-2.07 0-2.86zM5.41 20L4 18.59l7.72-7.72 1.47 1.35L5.41 20z\"/>\n",
              "  </svg>\n",
              "      </button>\n",
              "      \n",
              "  <style>\n",
              "    .colab-df-container {\n",
              "      display:flex;\n",
              "      flex-wrap:wrap;\n",
              "      gap: 12px;\n",
              "    }\n",
              "\n",
              "    .colab-df-convert {\n",
              "      background-color: #E8F0FE;\n",
              "      border: none;\n",
              "      border-radius: 50%;\n",
              "      cursor: pointer;\n",
              "      display: none;\n",
              "      fill: #1967D2;\n",
              "      height: 32px;\n",
              "      padding: 0 0 0 0;\n",
              "      width: 32px;\n",
              "    }\n",
              "\n",
              "    .colab-df-convert:hover {\n",
              "      background-color: #E2EBFA;\n",
              "      box-shadow: 0px 1px 2px rgba(60, 64, 67, 0.3), 0px 1px 3px 1px rgba(60, 64, 67, 0.15);\n",
              "      fill: #174EA6;\n",
              "    }\n",
              "\n",
              "    [theme=dark] .colab-df-convert {\n",
              "      background-color: #3B4455;\n",
              "      fill: #D2E3FC;\n",
              "    }\n",
              "\n",
              "    [theme=dark] .colab-df-convert:hover {\n",
              "      background-color: #434B5C;\n",
              "      box-shadow: 0px 1px 3px 1px rgba(0, 0, 0, 0.15);\n",
              "      filter: drop-shadow(0px 1px 2px rgba(0, 0, 0, 0.3));\n",
              "      fill: #FFFFFF;\n",
              "    }\n",
              "  </style>\n",
              "\n",
              "      <script>\n",
              "        const buttonEl =\n",
              "          document.querySelector('#df-272867e5-62b3-4b51-833e-a546cb773225 button.colab-df-convert');\n",
              "        buttonEl.style.display =\n",
              "          google.colab.kernel.accessAllowed ? 'block' : 'none';\n",
              "\n",
              "        async function convertToInteractive(key) {\n",
              "          const element = document.querySelector('#df-272867e5-62b3-4b51-833e-a546cb773225');\n",
              "          const dataTable =\n",
              "            await google.colab.kernel.invokeFunction('convertToInteractive',\n",
              "                                                     [key], {});\n",
              "          if (!dataTable) return;\n",
              "\n",
              "          const docLinkHtml = 'Like what you see? Visit the ' +\n",
              "            '<a target=\"_blank\" href=https://colab.research.google.com/notebooks/data_table.ipynb>data table notebook</a>'\n",
              "            + ' to learn more about interactive tables.';\n",
              "          element.innerHTML = '';\n",
              "          dataTable['output_type'] = 'display_data';\n",
              "          await google.colab.output.renderOutput(dataTable, element);\n",
              "          const docLink = document.createElement('div');\n",
              "          docLink.innerHTML = docLinkHtml;\n",
              "          element.appendChild(docLink);\n",
              "        }\n",
              "      </script>\n",
              "    </div>\n",
              "  </div>\n",
              "  "
            ],
            "text/plain": [
              "         pos  neg     ratio\n",
              "country                    \n",
              "gh        63  376  0.167553\n",
              "ng        57  372  0.153226\n",
              "jm        47  339  0.138643\n",
              "ph        52  388  0.134021\n",
              "gb        48  365  0.131507\n",
              "za        47  392  0.119898\n",
              "ie        42  383  0.109661\n",
              "lk        40  379  0.105541\n",
              "tz        30  291  0.103093\n",
              "ca        38  374  0.101604\n",
              "bd        37  372  0.099462\n",
              "pk        39  397  0.098237\n",
              "nz        35  382  0.091623\n",
              "my        35  395  0.088608\n",
              "us        34  395  0.086076\n",
              "sg        34  406  0.083744\n",
              "ke        32  393  0.081425\n",
              "in        32  394  0.081218\n",
              "au        32  411  0.077859\n",
              "hk        20  377  0.053050"
            ]
          },
          "metadata": {}
        },
        {
          "output_type": "stream",
          "name": "stdout",
          "text": [
            "\n",
            "Distribution of Labels VS Country Code - Dev Data:\n",
            "\n"
          ]
        },
        {
          "output_type": "display_data",
          "data": {
            "text/html": [
              "\n",
              "  <div id=\"df-f594d606-c00f-4500-971a-1b89badfb520\">\n",
              "    <div class=\"colab-df-container\">\n",
              "      <div>\n",
              "<style scoped>\n",
              "    .dataframe tbody tr th:only-of-type {\n",
              "        vertical-align: middle;\n",
              "    }\n",
              "\n",
              "    .dataframe tbody tr th {\n",
              "        vertical-align: top;\n",
              "    }\n",
              "\n",
              "    .dataframe thead th {\n",
              "        text-align: right;\n",
              "    }\n",
              "</style>\n",
              "<table border=\"1\" class=\"dataframe\">\n",
              "  <thead>\n",
              "    <tr style=\"text-align: right;\">\n",
              "      <th></th>\n",
              "      <th>pos</th>\n",
              "      <th>neg</th>\n",
              "      <th>ratio</th>\n",
              "    </tr>\n",
              "    <tr>\n",
              "      <th>country</th>\n",
              "      <th></th>\n",
              "      <th></th>\n",
              "      <th></th>\n",
              "    </tr>\n",
              "  </thead>\n",
              "  <tbody>\n",
              "    <tr>\n",
              "      <th>gh</th>\n",
              "      <td>12</td>\n",
              "      <td>72</td>\n",
              "      <td>0.166667</td>\n",
              "    </tr>\n",
              "    <tr>\n",
              "      <th>ph</th>\n",
              "      <td>15</td>\n",
              "      <td>90</td>\n",
              "      <td>0.166667</td>\n",
              "    </tr>\n",
              "    <tr>\n",
              "      <th>ng</th>\n",
              "      <td>15</td>\n",
              "      <td>93</td>\n",
              "      <td>0.161290</td>\n",
              "    </tr>\n",
              "    <tr>\n",
              "      <th>pk</th>\n",
              "      <td>14</td>\n",
              "      <td>95</td>\n",
              "      <td>0.147368</td>\n",
              "    </tr>\n",
              "    <tr>\n",
              "      <th>nz</th>\n",
              "      <td>12</td>\n",
              "      <td>89</td>\n",
              "      <td>0.134831</td>\n",
              "    </tr>\n",
              "    <tr>\n",
              "      <th>tz</th>\n",
              "      <td>11</td>\n",
              "      <td>83</td>\n",
              "      <td>0.132530</td>\n",
              "    </tr>\n",
              "    <tr>\n",
              "      <th>ke</th>\n",
              "      <td>13</td>\n",
              "      <td>100</td>\n",
              "      <td>0.130000</td>\n",
              "    </tr>\n",
              "    <tr>\n",
              "      <th>lk</th>\n",
              "      <td>9</td>\n",
              "      <td>76</td>\n",
              "      <td>0.118421</td>\n",
              "    </tr>\n",
              "    <tr>\n",
              "      <th>za</th>\n",
              "      <td>11</td>\n",
              "      <td>99</td>\n",
              "      <td>0.111111</td>\n",
              "    </tr>\n",
              "    <tr>\n",
              "      <th>hk</th>\n",
              "      <td>9</td>\n",
              "      <td>84</td>\n",
              "      <td>0.107143</td>\n",
              "    </tr>\n",
              "    <tr>\n",
              "      <th>jm</th>\n",
              "      <td>10</td>\n",
              "      <td>94</td>\n",
              "      <td>0.106383</td>\n",
              "    </tr>\n",
              "    <tr>\n",
              "      <th>ie</th>\n",
              "      <td>10</td>\n",
              "      <td>102</td>\n",
              "      <td>0.098039</td>\n",
              "    </tr>\n",
              "    <tr>\n",
              "      <th>us</th>\n",
              "      <td>10</td>\n",
              "      <td>104</td>\n",
              "      <td>0.096154</td>\n",
              "    </tr>\n",
              "    <tr>\n",
              "      <th>gb</th>\n",
              "      <td>9</td>\n",
              "      <td>118</td>\n",
              "      <td>0.076271</td>\n",
              "    </tr>\n",
              "    <tr>\n",
              "      <th>my</th>\n",
              "      <td>8</td>\n",
              "      <td>108</td>\n",
              "      <td>0.074074</td>\n",
              "    </tr>\n",
              "    <tr>\n",
              "      <th>bd</th>\n",
              "      <td>7</td>\n",
              "      <td>96</td>\n",
              "      <td>0.072917</td>\n",
              "    </tr>\n",
              "    <tr>\n",
              "      <th>ca</th>\n",
              "      <td>8</td>\n",
              "      <td>110</td>\n",
              "      <td>0.072727</td>\n",
              "    </tr>\n",
              "    <tr>\n",
              "      <th>in</th>\n",
              "      <td>7</td>\n",
              "      <td>97</td>\n",
              "      <td>0.072165</td>\n",
              "    </tr>\n",
              "    <tr>\n",
              "      <th>au</th>\n",
              "      <td>5</td>\n",
              "      <td>93</td>\n",
              "      <td>0.053763</td>\n",
              "    </tr>\n",
              "    <tr>\n",
              "      <th>sg</th>\n",
              "      <td>4</td>\n",
              "      <td>91</td>\n",
              "      <td>0.043956</td>\n",
              "    </tr>\n",
              "  </tbody>\n",
              "</table>\n",
              "</div>\n",
              "      <button class=\"colab-df-convert\" onclick=\"convertToInteractive('df-f594d606-c00f-4500-971a-1b89badfb520')\"\n",
              "              title=\"Convert this dataframe to an interactive table.\"\n",
              "              style=\"display:none;\">\n",
              "        \n",
              "  <svg xmlns=\"http://www.w3.org/2000/svg\" height=\"24px\"viewBox=\"0 0 24 24\"\n",
              "       width=\"24px\">\n",
              "    <path d=\"M0 0h24v24H0V0z\" fill=\"none\"/>\n",
              "    <path d=\"M18.56 5.44l.94 2.06.94-2.06 2.06-.94-2.06-.94-.94-2.06-.94 2.06-2.06.94zm-11 1L8.5 8.5l.94-2.06 2.06-.94-2.06-.94L8.5 2.5l-.94 2.06-2.06.94zm10 10l.94 2.06.94-2.06 2.06-.94-2.06-.94-.94-2.06-.94 2.06-2.06.94z\"/><path d=\"M17.41 7.96l-1.37-1.37c-.4-.4-.92-.59-1.43-.59-.52 0-1.04.2-1.43.59L10.3 9.45l-7.72 7.72c-.78.78-.78 2.05 0 2.83L4 21.41c.39.39.9.59 1.41.59.51 0 1.02-.2 1.41-.59l7.78-7.78 2.81-2.81c.8-.78.8-2.07 0-2.86zM5.41 20L4 18.59l7.72-7.72 1.47 1.35L5.41 20z\"/>\n",
              "  </svg>\n",
              "      </button>\n",
              "      \n",
              "  <style>\n",
              "    .colab-df-container {\n",
              "      display:flex;\n",
              "      flex-wrap:wrap;\n",
              "      gap: 12px;\n",
              "    }\n",
              "\n",
              "    .colab-df-convert {\n",
              "      background-color: #E8F0FE;\n",
              "      border: none;\n",
              "      border-radius: 50%;\n",
              "      cursor: pointer;\n",
              "      display: none;\n",
              "      fill: #1967D2;\n",
              "      height: 32px;\n",
              "      padding: 0 0 0 0;\n",
              "      width: 32px;\n",
              "    }\n",
              "\n",
              "    .colab-df-convert:hover {\n",
              "      background-color: #E2EBFA;\n",
              "      box-shadow: 0px 1px 2px rgba(60, 64, 67, 0.3), 0px 1px 3px 1px rgba(60, 64, 67, 0.15);\n",
              "      fill: #174EA6;\n",
              "    }\n",
              "\n",
              "    [theme=dark] .colab-df-convert {\n",
              "      background-color: #3B4455;\n",
              "      fill: #D2E3FC;\n",
              "    }\n",
              "\n",
              "    [theme=dark] .colab-df-convert:hover {\n",
              "      background-color: #434B5C;\n",
              "      box-shadow: 0px 1px 3px 1px rgba(0, 0, 0, 0.15);\n",
              "      filter: drop-shadow(0px 1px 2px rgba(0, 0, 0, 0.3));\n",
              "      fill: #FFFFFF;\n",
              "    }\n",
              "  </style>\n",
              "\n",
              "      <script>\n",
              "        const buttonEl =\n",
              "          document.querySelector('#df-f594d606-c00f-4500-971a-1b89badfb520 button.colab-df-convert');\n",
              "        buttonEl.style.display =\n",
              "          google.colab.kernel.accessAllowed ? 'block' : 'none';\n",
              "\n",
              "        async function convertToInteractive(key) {\n",
              "          const element = document.querySelector('#df-f594d606-c00f-4500-971a-1b89badfb520');\n",
              "          const dataTable =\n",
              "            await google.colab.kernel.invokeFunction('convertToInteractive',\n",
              "                                                     [key], {});\n",
              "          if (!dataTable) return;\n",
              "\n",
              "          const docLinkHtml = 'Like what you see? Visit the ' +\n",
              "            '<a target=\"_blank\" href=https://colab.research.google.com/notebooks/data_table.ipynb>data table notebook</a>'\n",
              "            + ' to learn more about interactive tables.';\n",
              "          element.innerHTML = '';\n",
              "          dataTable['output_type'] = 'display_data';\n",
              "          await google.colab.output.renderOutput(dataTable, element);\n",
              "          const docLink = document.createElement('div');\n",
              "          docLink.innerHTML = docLinkHtml;\n",
              "          element.appendChild(docLink);\n",
              "        }\n",
              "      </script>\n",
              "    </div>\n",
              "  </div>\n",
              "  "
            ],
            "text/plain": [
              "         pos  neg     ratio\n",
              "country                    \n",
              "gh        12   72  0.166667\n",
              "ph        15   90  0.166667\n",
              "ng        15   93  0.161290\n",
              "pk        14   95  0.147368\n",
              "nz        12   89  0.134831\n",
              "tz        11   83  0.132530\n",
              "ke        13  100  0.130000\n",
              "lk         9   76  0.118421\n",
              "za        11   99  0.111111\n",
              "hk         9   84  0.107143\n",
              "jm        10   94  0.106383\n",
              "ie        10  102  0.098039\n",
              "us        10  104  0.096154\n",
              "gb         9  118  0.076271\n",
              "my         8  108  0.074074\n",
              "bd         7   96  0.072917\n",
              "ca         8  110  0.072727\n",
              "in         7   97  0.072165\n",
              "au         5   93  0.053763\n",
              "sg         4   91  0.043956"
            ]
          },
          "metadata": {}
        },
        {
          "output_type": "stream",
          "name": "stdout",
          "text": [
            "\n",
            "\n"
          ]
        },
        {
          "output_type": "display_data",
          "data": {
            "image/png": "[encoded data removed]",
            "text/plain": [
              "<Figure size 1280x320 with 3 Axes>"
            ]
          },
          "metadata": {
            "needs_background": "light"
          }
        }
      ],
      "source": [
        "def display_stats_country():\n",
        "    all_country_pos = get_distribution_by_column(all_pos, \"country\").rename(\"pos\")\n",
        "    all_country_neg = get_distribution_by_column(all_neg, \"country\").rename(\"neg\")\n",
        "    all_country_ratio = all_country_pos.div(all_country_neg).rename(\"ratio\") \n",
        "    all_country = pd.concat([all_country_pos, all_country_neg, all_country_ratio], axis=1)\n",
        "    all_country = all_country.sort_values(\"ratio\", ascending=False)\n",
        "\n",
        "    train_country_pos = get_distribution_by_column(train_pos, 'country').rename('pos')\n",
        "    train_country_neg = get_distribution_by_column(train_neg, 'country').rename('neg')\n",
        "    train_country_ratio = train_country_pos.div(train_country_neg).rename(\"ratio\") \n",
        "    train_country = pd.concat([train_country_pos, train_country_neg, train_country_ratio], axis=1)\n",
        "    train_country = train_country.sort_values(\"ratio\", ascending=False)\n",
        "\n",
        "    dev_country_pos = get_distribution_by_column(dev_pos, 'country').rename('pos')\n",
        "    dev_country_neg = get_distribution_by_column(dev_neg, 'country').rename('neg')\n",
        "    dev_country_ratio = dev_country_pos.div(dev_country_neg).rename(\"ratio\") \n",
        "    dev_country = pd.concat([dev_country_pos, dev_country_neg, dev_country_ratio], axis=1)\n",
        "    dev_country = dev_country.sort_values(\"ratio\", ascending=False)\n",
        "\n",
        "    print(\"Distribution of Labels VS Country Code - All Data:\\n\")\n",
        "    display(all_country)\n",
        "    print(\"\\nDistribution of Labels VS Country Code - Training Data:\\n\")\n",
        "    display(train_country)\n",
        "    print(\"\\nDistribution of Labels VS Country Code - Dev Data:\\n\")\n",
        "    display(dev_country)\n",
        "    print(\"\\n\")\n",
        "\n",
        "    plot_label_distribution(train_country,\n",
        "                            dev_country,\n",
        "                            all_country,\n",
        "                            \"Country\",\n",
        "                            \"Frequency\",\n",
        "                            \"Label Distribution by Country\")\n",
        "\n",
        "display_stats_country()"
      ]
    },
    {
      "cell_type": "code",
      "execution_count": null,
      "metadata": {
        "colab": {
          "base_uri": "https://localhost:8080/",
          "height": 1000
        },
        "id": "-rvOvvyYZ0rJ",
        "outputId": "bc763728-a9c2-4bb8-d57e-f668f761dbd1"
      },
      "outputs": [
        {
          "output_type": "stream",
          "name": "stdout",
          "text": [
            "Distribution of Labels VS Keyword - All Data:\n",
            "\n"
          ]
        },
        {
          "output_type": "display_data",
          "data": {
            "text/html": [
              "\n",
              "  <div id=\"df-08698c8e-b01d-477c-9166-0a920f4c5909\">\n",
              "    <div class=\"colab-df-container\">\n",
              "      <div>\n",
              "<style scoped>\n",
              "    .dataframe tbody tr th:only-of-type {\n",
              "        vertical-align: middle;\n",
              "    }\n",
              "\n",
              "    .dataframe tbody tr th {\n",
              "        vertical-align: top;\n",
              "    }\n",
              "\n",
              "    .dataframe thead th {\n",
              "        text-align: right;\n",
              "    }\n",
              "</style>\n",
              "<table border=\"1\" class=\"dataframe\">\n",
              "  <thead>\n",
              "    <tr style=\"text-align: right;\">\n",
              "      <th></th>\n",
              "      <th>pos</th>\n",
              "      <th>neg</th>\n",
              "      <th>ratio</th>\n",
              "    </tr>\n",
              "    <tr>\n",
              "      <th>keyword</th>\n",
              "      <th></th>\n",
              "      <th></th>\n",
              "      <th></th>\n",
              "    </tr>\n",
              "  </thead>\n",
              "  <tbody>\n",
              "    <tr>\n",
              "      <th>homeless</th>\n",
              "      <td>178</td>\n",
              "      <td>899</td>\n",
              "      <td>0.197998</td>\n",
              "    </tr>\n",
              "    <tr>\n",
              "      <th>poor-families</th>\n",
              "      <td>150</td>\n",
              "      <td>759</td>\n",
              "      <td>0.197628</td>\n",
              "    </tr>\n",
              "    <tr>\n",
              "      <th>in-need</th>\n",
              "      <td>176</td>\n",
              "      <td>906</td>\n",
              "      <td>0.194260</td>\n",
              "    </tr>\n",
              "    <tr>\n",
              "      <th>hopeless</th>\n",
              "      <td>124</td>\n",
              "      <td>881</td>\n",
              "      <td>0.140749</td>\n",
              "    </tr>\n",
              "    <tr>\n",
              "      <th>refugee</th>\n",
              "      <td>86</td>\n",
              "      <td>982</td>\n",
              "      <td>0.087576</td>\n",
              "    </tr>\n",
              "    <tr>\n",
              "      <th>disabled</th>\n",
              "      <td>81</td>\n",
              "      <td>947</td>\n",
              "      <td>0.085533</td>\n",
              "    </tr>\n",
              "    <tr>\n",
              "      <th>vulnerable</th>\n",
              "      <td>80</td>\n",
              "      <td>1000</td>\n",
              "      <td>0.080000</td>\n",
              "    </tr>\n",
              "    <tr>\n",
              "      <th>women</th>\n",
              "      <td>52</td>\n",
              "      <td>1018</td>\n",
              "      <td>0.051081</td>\n",
              "    </tr>\n",
              "    <tr>\n",
              "      <th>migrant</th>\n",
              "      <td>36</td>\n",
              "      <td>1052</td>\n",
              "      <td>0.034221</td>\n",
              "    </tr>\n",
              "    <tr>\n",
              "      <th>immigrant</th>\n",
              "      <td>30</td>\n",
              "      <td>1031</td>\n",
              "      <td>0.029098</td>\n",
              "    </tr>\n",
              "  </tbody>\n",
              "</table>\n",
              "</div>\n",
              "      <button class=\"colab-df-convert\" onclick=\"convertToInteractive('df-08698c8e-b01d-477c-9166-0a920f4c5909')\"\n",
              "              title=\"Convert this dataframe to an interactive table.\"\n",
              "              style=\"display:none;\">\n",
              "        \n",
              "  <svg xmlns=\"http://www.w3.org/2000/svg\" height=\"24px\"viewBox=\"0 0 24 24\"\n",
              "       width=\"24px\">\n",
              "    <path d=\"M0 0h24v24H0V0z\" fill=\"none\"/>\n",
              "    <path d=\"M18.56 5.44l.94 2.06.94-2.06 2.06-.94-2.06-.94-.94-2.06-.94 2.06-2.06.94zm-11 1L8.5 8.5l.94-2.06 2.06-.94-2.06-.94L8.5 2.5l-.94 2.06-2.06.94zm10 10l.94 2.06.94-2.06 2.06-.94-2.06-.94-.94-2.06-.94 2.06-2.06.94z\"/><path d=\"M17.41 7.96l-1.37-1.37c-.4-.4-.92-.59-1.43-.59-.52 0-1.04.2-1.43.59L10.3 9.45l-7.72 7.72c-.78.78-.78 2.05 0 2.83L4 21.41c.39.39.9.59 1.41.59.51 0 1.02-.2 1.41-.59l7.78-7.78 2.81-2.81c.8-.78.8-2.07 0-2.86zM5.41 20L4 18.59l7.72-7.72 1.47 1.35L5.41 20z\"/>\n",
              "  </svg>\n",
              "      </button>\n",
              "      \n",
              "  <style>\n",
              "    .colab-df-container {\n",
              "      display:flex;\n",
              "      flex-wrap:wrap;\n",
              "      gap: 12px;\n",
              "    }\n",
              "\n",
              "    .colab-df-convert {\n",
              "      background-color: #E8F0FE;\n",
              "      border: none;\n",
              "      border-radius: 50%;\n",
              "      cursor: pointer;\n",
              "      display: none;\n",
              "      fill: #1967D2;\n",
              "      height: 32px;\n",
              "      padding: 0 0 0 0;\n",
              "      width: 32px;\n",
              "    }\n",
              "\n",
              "    .colab-df-convert:hover {\n",
              "      background-color: #E2EBFA;\n",
              "      box-shadow: 0px 1px 2px rgba(60, 64, 67, 0.3), 0px 1px 3px 1px rgba(60, 64, 67, 0.15);\n",
              "      fill: #174EA6;\n",
              "    }\n",
              "\n",
              "    [theme=dark] .colab-df-convert {\n",
              "      background-color: #3B4455;\n",
              "      fill: #D2E3FC;\n",
              "    }\n",
              "\n",
              "    [theme=dark] .colab-df-convert:hover {\n",
              "      background-color: #434B5C;\n",
              "      box-shadow: 0px 1px 3px 1px rgba(0, 0, 0, 0.15);\n",
              "      filter: drop-shadow(0px 1px 2px rgba(0, 0, 0, 0.3));\n",
              "      fill: #FFFFFF;\n",
              "    }\n",
              "  </style>\n",
              "\n",
              "      <script>\n",
              "        const buttonEl =\n",
              "          document.querySelector('#df-08698c8e-b01d-477c-9166-0a920f4c5909 button.colab-df-convert');\n",
              "        buttonEl.style.display =\n",
              "          google.colab.kernel.accessAllowed ? 'block' : 'none';\n",
              "\n",
              "        async function convertToInteractive(key) {\n",
              "          const element = document.querySelector('#df-08698c8e-b01d-477c-9166-0a920f4c5909');\n",
              "          const dataTable =\n",
              "            await google.colab.kernel.invokeFunction('convertToInteractive',\n",
              "                                                     [key], {});\n",
              "          if (!dataTable) return;\n",
              "\n",
              "          const docLinkHtml = 'Like what you see? Visit the ' +\n",
              "            '<a target=\"_blank\" href=https://colab.research.google.com/notebooks/data_table.ipynb>data table notebook</a>'\n",
              "            + ' to learn more about interactive tables.';\n",
              "          element.innerHTML = '';\n",
              "          dataTable['output_type'] = 'display_data';\n",
              "          await google.colab.output.renderOutput(dataTable, element);\n",
              "          const docLink = document.createElement('div');\n",
              "          docLink.innerHTML = docLinkHtml;\n",
              "          element.appendChild(docLink);\n",
              "        }\n",
              "      </script>\n",
              "    </div>\n",
              "  </div>\n",
              "  "
            ],
            "text/plain": [
              "               pos   neg     ratio\n",
              "keyword                           \n",
              "homeless       178   899  0.197998\n",
              "poor-families  150   759  0.197628\n",
              "in-need        176   906  0.194260\n",
              "hopeless       124   881  0.140749\n",
              "refugee         86   982  0.087576\n",
              "disabled        81   947  0.085533\n",
              "vulnerable      80  1000  0.080000\n",
              "women           52  1018  0.051081\n",
              "migrant         36  1052  0.034221\n",
              "immigrant       30  1031  0.029098"
            ]
          },
          "metadata": {}
        },
        {
          "output_type": "stream",
          "name": "stdout",
          "text": [
            "\n",
            "Distribution of Labels VS Keyword - Training Data:\n",
            "\n"
          ]
        },
        {
          "output_type": "display_data",
          "data": {
            "text/html": [
              "\n",
              "  <div id=\"df-081fefa4-4c8a-48eb-a558-1c39c3db2d65\">\n",
              "    <div class=\"colab-df-container\">\n",
              "      <div>\n",
              "<style scoped>\n",
              "    .dataframe tbody tr th:only-of-type {\n",
              "        vertical-align: middle;\n",
              "    }\n",
              "\n",
              "    .dataframe tbody tr th {\n",
              "        vertical-align: top;\n",
              "    }\n",
              "\n",
              "    .dataframe thead th {\n",
              "        text-align: right;\n",
              "    }\n",
              "</style>\n",
              "<table border=\"1\" class=\"dataframe\">\n",
              "  <thead>\n",
              "    <tr style=\"text-align: right;\">\n",
              "      <th></th>\n",
              "      <th>pos</th>\n",
              "      <th>neg</th>\n",
              "      <th>ratio</th>\n",
              "    </tr>\n",
              "    <tr>\n",
              "      <th>keyword</th>\n",
              "      <th></th>\n",
              "      <th></th>\n",
              "      <th></th>\n",
              "    </tr>\n",
              "  </thead>\n",
              "  <tbody>\n",
              "    <tr>\n",
              "      <th>homeless</th>\n",
              "      <td>149</td>\n",
              "      <td>716</td>\n",
              "      <td>0.208101</td>\n",
              "    </tr>\n",
              "    <tr>\n",
              "      <th>in-need</th>\n",
              "      <td>143</td>\n",
              "      <td>713</td>\n",
              "      <td>0.200561</td>\n",
              "    </tr>\n",
              "    <tr>\n",
              "      <th>poor-families</th>\n",
              "      <td>112</td>\n",
              "      <td>607</td>\n",
              "      <td>0.184514</td>\n",
              "    </tr>\n",
              "    <tr>\n",
              "      <th>hopeless</th>\n",
              "      <td>98</td>\n",
              "      <td>690</td>\n",
              "      <td>0.142029</td>\n",
              "    </tr>\n",
              "    <tr>\n",
              "      <th>refugee</th>\n",
              "      <td>73</td>\n",
              "      <td>807</td>\n",
              "      <td>0.090458</td>\n",
              "    </tr>\n",
              "    <tr>\n",
              "      <th>disabled</th>\n",
              "      <td>67</td>\n",
              "      <td>767</td>\n",
              "      <td>0.087353</td>\n",
              "    </tr>\n",
              "    <tr>\n",
              "      <th>vulnerable</th>\n",
              "      <td>60</td>\n",
              "      <td>811</td>\n",
              "      <td>0.073983</td>\n",
              "    </tr>\n",
              "    <tr>\n",
              "      <th>women</th>\n",
              "      <td>38</td>\n",
              "      <td>799</td>\n",
              "      <td>0.047559</td>\n",
              "    </tr>\n",
              "    <tr>\n",
              "      <th>migrant</th>\n",
              "      <td>31</td>\n",
              "      <td>851</td>\n",
              "      <td>0.036428</td>\n",
              "    </tr>\n",
              "    <tr>\n",
              "      <th>immigrant</th>\n",
              "      <td>23</td>\n",
              "      <td>820</td>\n",
              "      <td>0.028049</td>\n",
              "    </tr>\n",
              "  </tbody>\n",
              "</table>\n",
              "</div>\n",
              "      <button class=\"colab-df-convert\" onclick=\"convertToInteractive('df-081fefa4-4c8a-48eb-a558-1c39c3db2d65')\"\n",
              "              title=\"Convert this dataframe to an interactive table.\"\n",
              "              style=\"display:none;\">\n",
              "        \n",
              "  <svg xmlns=\"http://www.w3.org/2000/svg\" height=\"24px\"viewBox=\"0 0 24 24\"\n",
              "       width=\"24px\">\n",
              "    <path d=\"M0 0h24v24H0V0z\" fill=\"none\"/>\n",
              "    <path d=\"M18.56 5.44l.94 2.06.94-2.06 2.06-.94-2.06-.94-.94-2.06-.94 2.06-2.06.94zm-11 1L8.5 8.5l.94-2.06 2.06-.94-2.06-.94L8.5 2.5l-.94 2.06-2.06.94zm10 10l.94 2.06.94-2.06 2.06-.94-2.06-.94-.94-2.06-.94 2.06-2.06.94z\"/><path d=\"M17.41 7.96l-1.37-1.37c-.4-.4-.92-.59-1.43-.59-.52 0-1.04.2-1.43.59L10.3 9.45l-7.72 7.72c-.78.78-.78 2.05 0 2.83L4 21.41c.39.39.9.59 1.41.59.51 0 1.02-.2 1.41-.59l7.78-7.78 2.81-2.81c.8-.78.8-2.07 0-2.86zM5.41 20L4 18.59l7.72-7.72 1.47 1.35L5.41 20z\"/>\n",
              "  </svg>\n",
              "      </button>\n",
              "      \n",
              "  <style>\n",
              "    .colab-df-container {\n",
              "      display:flex;\n",
              "      flex-wrap:wrap;\n",
              "      gap: 12px;\n",
              "    }\n",
              "\n",
              "    .colab-df-convert {\n",
              "      background-color: #E8F0FE;\n",
              "      border: none;\n",
              "      border-radius: 50%;\n",
              "      cursor: pointer;\n",
              "      display: none;\n",
              "      fill: #1967D2;\n",
              "      height: 32px;\n",
              "      padding: 0 0 0 0;\n",
              "      width: 32px;\n",
              "    }\n",
              "\n",
              "    .colab-df-convert:hover {\n",
              "      background-color: #E2EBFA;\n",
              "      box-shadow: 0px 1px 2px rgba(60, 64, 67, 0.3), 0px 1px 3px 1px rgba(60, 64, 67, 0.15);\n",
              "      fill: #174EA6;\n",
              "    }\n",
              "\n",
              "    [theme=dark] .colab-df-convert {\n",
              "      background-color: #3B4455;\n",
              "      fill: #D2E3FC;\n",
              "    }\n",
              "\n",
              "    [theme=dark] .colab-df-convert:hover {\n",
              "      background-color: #434B5C;\n",
              "      box-shadow: 0px 1px 3px 1px rgba(0, 0, 0, 0.15);\n",
              "      filter: drop-shadow(0px 1px 2px rgba(0, 0, 0, 0.3));\n",
              "      fill: #FFFFFF;\n",
              "    }\n",
              "  </style>\n",
              "\n",
              "      <script>\n",
              "        const buttonEl =\n",
              "          document.querySelector('#df-081fefa4-4c8a-48eb-a558-1c39c3db2d65 button.colab-df-convert');\n",
              "        buttonEl.style.display =\n",
              "          google.colab.kernel.accessAllowed ? 'block' : 'none';\n",
              "\n",
              "        async function convertToInteractive(key) {\n",
              "          const element = document.querySelector('#df-081fefa4-4c8a-48eb-a558-1c39c3db2d65');\n",
              "          const dataTable =\n",
              "            await google.colab.kernel.invokeFunction('convertToInteractive',\n",
              "                                                     [key], {});\n",
              "          if (!dataTable) return;\n",
              "\n",
              "          const docLinkHtml = 'Like what you see? Visit the ' +\n",
              "            '<a target=\"_blank\" href=https://colab.research.google.com/notebooks/data_table.ipynb>data table notebook</a>'\n",
              "            + ' to learn more about interactive tables.';\n",
              "          element.innerHTML = '';\n",
              "          dataTable['output_type'] = 'display_data';\n",
              "          await google.colab.output.renderOutput(dataTable, element);\n",
              "          const docLink = document.createElement('div');\n",
              "          docLink.innerHTML = docLinkHtml;\n",
              "          element.appendChild(docLink);\n",
              "        }\n",
              "      </script>\n",
              "    </div>\n",
              "  </div>\n",
              "  "
            ],
            "text/plain": [
              "               pos  neg     ratio\n",
              "keyword                          \n",
              "homeless       149  716  0.208101\n",
              "in-need        143  713  0.200561\n",
              "poor-families  112  607  0.184514\n",
              "hopeless        98  690  0.142029\n",
              "refugee         73  807  0.090458\n",
              "disabled        67  767  0.087353\n",
              "vulnerable      60  811  0.073983\n",
              "women           38  799  0.047559\n",
              "migrant         31  851  0.036428\n",
              "immigrant       23  820  0.028049"
            ]
          },
          "metadata": {}
        },
        {
          "output_type": "stream",
          "name": "stdout",
          "text": [
            "\n",
            "Distribution of Labels VS Keyword - Dev Data:\n",
            "\n"
          ]
        },
        {
          "output_type": "display_data",
          "data": {
            "text/html": [
              "\n",
              "  <div id=\"df-19a75c65-ca79-4836-a0aa-3eccb85c125b\">\n",
              "    <div class=\"colab-df-container\">\n",
              "      <div>\n",
              "<style scoped>\n",
              "    .dataframe tbody tr th:only-of-type {\n",
              "        vertical-align: middle;\n",
              "    }\n",
              "\n",
              "    .dataframe tbody tr th {\n",
              "        vertical-align: top;\n",
              "    }\n",
              "\n",
              "    .dataframe thead th {\n",
              "        text-align: right;\n",
              "    }\n",
              "</style>\n",
              "<table border=\"1\" class=\"dataframe\">\n",
              "  <thead>\n",
              "    <tr style=\"text-align: right;\">\n",
              "      <th></th>\n",
              "      <th>pos</th>\n",
              "      <th>neg</th>\n",
              "      <th>ratio</th>\n",
              "    </tr>\n",
              "    <tr>\n",
              "      <th>keyword</th>\n",
              "      <th></th>\n",
              "      <th></th>\n",
              "      <th></th>\n",
              "    </tr>\n",
              "  </thead>\n",
              "  <tbody>\n",
              "    <tr>\n",
              "      <th>poor-families</th>\n",
              "      <td>38</td>\n",
              "      <td>152</td>\n",
              "      <td>0.250000</td>\n",
              "    </tr>\n",
              "    <tr>\n",
              "      <th>in-need</th>\n",
              "      <td>33</td>\n",
              "      <td>193</td>\n",
              "      <td>0.170984</td>\n",
              "    </tr>\n",
              "    <tr>\n",
              "      <th>homeless</th>\n",
              "      <td>29</td>\n",
              "      <td>183</td>\n",
              "      <td>0.158470</td>\n",
              "    </tr>\n",
              "    <tr>\n",
              "      <th>hopeless</th>\n",
              "      <td>26</td>\n",
              "      <td>191</td>\n",
              "      <td>0.136126</td>\n",
              "    </tr>\n",
              "    <tr>\n",
              "      <th>vulnerable</th>\n",
              "      <td>20</td>\n",
              "      <td>189</td>\n",
              "      <td>0.105820</td>\n",
              "    </tr>\n",
              "    <tr>\n",
              "      <th>disabled</th>\n",
              "      <td>14</td>\n",
              "      <td>180</td>\n",
              "      <td>0.077778</td>\n",
              "    </tr>\n",
              "    <tr>\n",
              "      <th>refugee</th>\n",
              "      <td>13</td>\n",
              "      <td>175</td>\n",
              "      <td>0.074286</td>\n",
              "    </tr>\n",
              "    <tr>\n",
              "      <th>women</th>\n",
              "      <td>14</td>\n",
              "      <td>219</td>\n",
              "      <td>0.063927</td>\n",
              "    </tr>\n",
              "    <tr>\n",
              "      <th>immigrant</th>\n",
              "      <td>7</td>\n",
              "      <td>211</td>\n",
              "      <td>0.033175</td>\n",
              "    </tr>\n",
              "    <tr>\n",
              "      <th>migrant</th>\n",
              "      <td>5</td>\n",
              "      <td>201</td>\n",
              "      <td>0.024876</td>\n",
              "    </tr>\n",
              "  </tbody>\n",
              "</table>\n",
              "</div>\n",
              "      <button class=\"colab-df-convert\" onclick=\"convertToInteractive('df-19a75c65-ca79-4836-a0aa-3eccb85c125b')\"\n",
              "              title=\"Convert this dataframe to an interactive table.\"\n",
              "              style=\"display:none;\">\n",
              "        \n",
              "  <svg xmlns=\"http://www.w3.org/2000/svg\" height=\"24px\"viewBox=\"0 0 24 24\"\n",
              "       width=\"24px\">\n",
              "    <path d=\"M0 0h24v24H0V0z\" fill=\"none\"/>\n",
              "    <path d=\"M18.56 5.44l.94 2.06.94-2.06 2.06-.94-2.06-.94-.94-2.06-.94 2.06-2.06.94zm-11 1L8.5 8.5l.94-2.06 2.06-.94-2.06-.94L8.5 2.5l-.94 2.06-2.06.94zm10 10l.94 2.06.94-2.06 2.06-.94-2.06-.94-.94-2.06-.94 2.06-2.06.94z\"/><path d=\"M17.41 7.96l-1.37-1.37c-.4-.4-.92-.59-1.43-.59-.52 0-1.04.2-1.43.59L10.3 9.45l-7.72 7.72c-.78.78-.78 2.05 0 2.83L4 21.41c.39.39.9.59 1.41.59.51 0 1.02-.2 1.41-.59l7.78-7.78 2.81-2.81c.8-.78.8-2.07 0-2.86zM5.41 20L4 18.59l7.72-7.72 1.47 1.35L5.41 20z\"/>\n",
              "  </svg>\n",
              "      </button>\n",
              "      \n",
              "  <style>\n",
              "    .colab-df-container {\n",
              "      display:flex;\n",
              "      flex-wrap:wrap;\n",
              "      gap: 12px;\n",
              "    }\n",
              "\n",
              "    .colab-df-convert {\n",
              "      background-color: #E8F0FE;\n",
              "      border: none;\n",
              "      border-radius: 50%;\n",
              "      cursor: pointer;\n",
              "      display: none;\n",
              "      fill: #1967D2;\n",
              "      height: 32px;\n",
              "      padding: 0 0 0 0;\n",
              "      width: 32px;\n",
              "    }\n",
              "\n",
              "    .colab-df-convert:hover {\n",
              "      background-color: #E2EBFA;\n",
              "      box-shadow: 0px 1px 2px rgba(60, 64, 67, 0.3), 0px 1px 3px 1px rgba(60, 64, 67, 0.15);\n",
              "      fill: #174EA6;\n",
              "    }\n",
              "\n",
              "    [theme=dark] .colab-df-convert {\n",
              "      background-color: #3B4455;\n",
              "      fill: #D2E3FC;\n",
              "    }\n",
              "\n",
              "    [theme=dark] .colab-df-convert:hover {\n",
              "      background-color: #434B5C;\n",
              "      box-shadow: 0px 1px 3px 1px rgba(0, 0, 0, 0.15);\n",
              "      filter: drop-shadow(0px 1px 2px rgba(0, 0, 0, 0.3));\n",
              "      fill: #FFFFFF;\n",
              "    }\n",
              "  </style>\n",
              "\n",
              "      <script>\n",
              "        const buttonEl =\n",
              "          document.querySelector('#df-19a75c65-ca79-4836-a0aa-3eccb85c125b button.colab-df-convert');\n",
              "        buttonEl.style.display =\n",
              "          google.colab.kernel.accessAllowed ? 'block' : 'none';\n",
              "\n",
              "        async function convertToInteractive(key) {\n",
              "          const element = document.querySelector('#df-19a75c65-ca79-4836-a0aa-3eccb85c125b');\n",
              "          const dataTable =\n",
              "            await google.colab.kernel.invokeFunction('convertToInteractive',\n",
              "                                                     [key], {});\n",
              "          if (!dataTable) return;\n",
              "\n",
              "          const docLinkHtml = 'Like what you see? Visit the ' +\n",
              "            '<a target=\"_blank\" href=https://colab.research.google.com/notebooks/data_table.ipynb>data table notebook</a>'\n",
              "            + ' to learn more about interactive tables.';\n",
              "          element.innerHTML = '';\n",
              "          dataTable['output_type'] = 'display_data';\n",
              "          await google.colab.output.renderOutput(dataTable, element);\n",
              "          const docLink = document.createElement('div');\n",
              "          docLink.innerHTML = docLinkHtml;\n",
              "          element.appendChild(docLink);\n",
              "        }\n",
              "      </script>\n",
              "    </div>\n",
              "  </div>\n",
              "  "
            ],
            "text/plain": [
              "               pos  neg     ratio\n",
              "keyword                          \n",
              "poor-families   38  152  0.250000\n",
              "in-need         33  193  0.170984\n",
              "homeless        29  183  0.158470\n",
              "hopeless        26  191  0.136126\n",
              "vulnerable      20  189  0.105820\n",
              "disabled        14  180  0.077778\n",
              "refugee         13  175  0.074286\n",
              "women           14  219  0.063927\n",
              "immigrant        7  211  0.033175\n",
              "migrant          5  201  0.024876"
            ]
          },
          "metadata": {}
        },
        {
          "output_type": "stream",
          "name": "stdout",
          "text": [
            "\n",
            "\n"
          ]
        },
        {
          "output_type": "display_data",
          "data": {
            "image/png": "[encoded data removed]",
            "text/plain": [
              "<Figure size 1280x320 with 3 Axes>"
            ]
          },
          "metadata": {
            "needs_background": "light"
          }
        }
      ],
      "source": [
        "def display_stats_keyword():\n",
        "    all_keyword_pos = get_distribution_by_column(all_pos, \"keyword\").rename(\"pos\")\n",
        "    all_keyword_neg = get_distribution_by_column(all_neg, \"keyword\").rename(\"neg\")\n",
        "    all_keyword_ratio = all_keyword_pos.div(all_keyword_neg).rename(\"ratio\") \n",
        "    all_keyword = pd.concat([all_keyword_pos, all_keyword_neg, all_keyword_ratio], axis=1)\n",
        "    all_keyword = all_keyword.sort_values(\"ratio\", ascending=False)\n",
        "\n",
        "\n",
        "    train_keyword_pos = get_distribution_by_column(train_pos, \"keyword\").rename(\"pos\")\n",
        "    train_keyword_neg = get_distribution_by_column(train_neg, \"keyword\").rename(\"neg\")\n",
        "    train_keyword_ratio = train_keyword_pos.div(train_keyword_neg).rename(\"ratio\") \n",
        "    train_keyword = pd.concat([train_keyword_pos, train_keyword_neg, train_keyword_ratio], axis=1)\n",
        "    train_keyword = train_keyword.sort_values(\"ratio\", ascending=False)\n",
        "\n",
        "    dev_keyword_pos = get_distribution_by_column(dev_pos, \"keyword\").rename(\"pos\")\n",
        "    dev_keyword_neg = get_distribution_by_column(dev_neg, \"keyword\").rename(\"neg\")\n",
        "    dev_keyword_ratio = dev_keyword_pos.div(dev_keyword_neg).rename(\"ratio\") \n",
        "    dev_keyword = pd.concat([dev_keyword_pos, dev_keyword_neg, dev_keyword_ratio], axis=1)\n",
        "    dev_keyword = dev_keyword.sort_values(\"ratio\", ascending=False)\n",
        "\n",
        "    print(\"Distribution of Labels VS Keyword - All Data:\\n\")\n",
        "    display(all_keyword)\n",
        "    print(\"\\nDistribution of Labels VS Keyword - Training Data:\\n\")\n",
        "    display(train_keyword)\n",
        "    print(\"\\nDistribution of Labels VS Keyword - Dev Data:\\n\")\n",
        "    display(dev_keyword)\n",
        "    print(\"\\n\")\n",
        "    plot_label_distribution(train_keyword,\n",
        "                            dev_keyword,\n",
        "                            all_keyword,\"Keyword\",\n",
        "                            \"Frequency\",\n",
        "                            \"Label Distribution by Keyword\")\n",
        "  \n",
        "display_stats_keyword()"
      ]
    },
    {
      "cell_type": "markdown",
      "metadata": {
        "id": "Q6soW3nWhdz_"
      },
      "source": [
        "## Training data"
      ]
    },
    {
      "cell_type": "code",
      "execution_count": null,
      "metadata": {
        "colab": {
          "base_uri": "https://localhost:8080/",
          "height": 313
        },
        "id": "HB570lz0qJPH",
        "outputId": "1b149da1-95f7-4b34-a2db-8930e092362e"
      },
      "outputs": [
        {
          "output_type": "display_data",
          "data": {
            "image/png": "[encoded data removed]",
            "text/plain": [
              "<Figure size 1080x288 with 3 Axes>"
            ]
          },
          "metadata": {
            "needs_background": "light"
          }
        },
        {
          "output_type": "stream",
          "name": "stdout",
          "text": [
            "Max text length in training set: 5493\n",
            "Max text length in dev set: 1446\n"
          ]
        }
      ],
      "source": [
        "def display_lengths_char():\n",
        "    train_char_lens = [len(text) for text in train_df[\"text_preprocessed\"]]\n",
        "    dev_char_lens = [len(text) for text in dev_df[\"text_preprocessed\"]]\n",
        "    all_char_lens = [len(text) for text in all_df[\"text_preprocessed\"]]\n",
        "\n",
        "    fig, axs = plt.subplots(1, 3, figsize=(15, 4))\n",
        "    axs[0].hist(train_char_lens)\n",
        "    axs[0].set_title(\"Train\")\n",
        "    axs[1].hist(dev_char_lens)\n",
        "    axs[1].set_title(\"Dev\")\n",
        "    axs[2].hist(all_char_lens)\n",
        "    axs[2].set_title(\"Combined\")\n",
        "    plt.suptitle(\"Text length (# chars) distribution\")\n",
        "    plt.show()\n",
        "\n",
        "    print(f\"Max text length in training set: {np.max(train_char_lens)}\")\n",
        "    print(f\"Max text length in dev set: {np.max(dev_char_lens)}\")\n",
        "\n",
        "display_lengths_char()"
      ]
    },
    {
      "cell_type": "code",
      "execution_count": null,
      "metadata": {
        "colab": {
          "base_uri": "https://localhost:8080/",
          "height": 313
        },
        "id": "PJyo0FxTp8sU",
        "outputId": "3692b6a3-03d9-411f-e36c-44ab4fccd25f"
      },
      "outputs": [
        {
          "output_type": "display_data",
          "data": {
            "image/png": "[encoded data removed]",
            "text/plain": [
              "<Figure size 1080x288 with 3 Axes>"
            ]
          },
          "metadata": {
            "needs_background": "light"
          }
        },
        {
          "output_type": "stream",
          "name": "stdout",
          "text": [
            "Max text length in training set: 909\n",
            "Max text length in dev set: 272\n"
          ]
        }
      ],
      "source": [
        "def display_lengths_vocab():\n",
        "    train_word_lens = [len(text.split()) for text in train_df[\"text_preprocessed\"]]\n",
        "    dev_word_lens = [len(text.split()) for text in dev_df[\"text_preprocessed\"]]\n",
        "    all_word_lens = [len(text.split()) for text in all_df[\"text_preprocessed\"]]\n",
        "\n",
        "    fig, axs = plt.subplots(1, 3, figsize=(15, 4))\n",
        "    axs[0].hist(train_word_lens)\n",
        "    axs[0].set_title(\"Train\")\n",
        "    axs[1].hist(dev_word_lens)\n",
        "    axs[1].set_title(\"Dev\")\n",
        "    axs[2].hist(all_word_lens)\n",
        "    axs[2].set_title(\"Combined\")\n",
        "    plt.suptitle(\"Text length (# tokens) distribution\")\n",
        "    plt.show()\n",
        "\n",
        "    print(f\"Max text length in training set: {np.max(train_word_lens)}\")\n",
        "    print(f\"Max text length in dev set: {np.max(dev_word_lens)}\")\n",
        "\n",
        "display_lengths_vocab()"
      ]
    },
    {
      "cell_type": "code",
      "execution_count": null,
      "metadata": {
        "colab": {
          "base_uri": "https://localhost:8080/"
        },
        "id": "9s1yUx5Ih0I3",
        "outputId": "382bf722-86c9-4c57-de80-ac2d5c75c6bc"
      },
      "outputs": [
        {
          "output_type": "stream",
          "name": "stdout",
          "text": [
            "Vocabulary size of train set: 33099\n",
            "Vocabulary size of val set: 14523\n",
            "Vocabulary size of combined set: 37411\n",
            "Number of words in val but not in train: 4312\n",
            "Number of words in train but not in val: 22888\n"
          ]
        }
      ],
      "source": [
        "def get_vocab(df):\n",
        "    vocab = set()\n",
        "    for text in df[\"text_preprocessed\"]:\n",
        "        vocab.update(text.split())\n",
        "    return vocab\n",
        "\n",
        "def display_stats_sizes():\n",
        "    train_vocab = get_vocab(train_df)\n",
        "    dev_vocab = get_vocab(dev_df)\n",
        "    all_vocab = get_vocab(all_df)\n",
        "\n",
        "    print(f\"Vocabulary size of train set: {len(train_vocab)}\")\n",
        "    print(f\"Vocabulary size of val set: {len(dev_vocab)}\")\n",
        "    print(f\"Vocabulary size of combined set: {len(all_vocab)}\")\n",
        "    print(f\"Number of words in val but not in train: {len(dev_vocab.difference(train_vocab))}\")\n",
        "    print(f\"Number of words in train but not in val: {len(train_vocab.difference(dev_vocab))}\")\n",
        "\n",
        "display_stats_sizes()"
      ]
    },
    {
      "cell_type": "markdown",
      "metadata": {
        "id": "1M2E75XgEYxr"
      },
      "source": [
        "# Data Augmentation:"
      ]
    },
    {
      "cell_type": "markdown",
      "source": [
        "## Synonym Replacement:"
      ],
      "metadata": {
        "id": "mPcZSnjY8tqk"
      }
    },
    {
      "cell_type": "code",
      "execution_count": null,
      "metadata": {
        "id": "CVv_wcsbyYF6",
        "colab": {
          "base_uri": "https://localhost:8080/"
        },
        "outputId": "5b87cdbf-0179-4f4b-9407-883133bab613"
      },
      "outputs": [
        {
          "output_type": "stream",
          "name": "stdout",
          "text": [
            "794\n",
            "7581\n"
          ]
        }
      ],
      "source": [
        "def get_synonyms(word):\n",
        "    # Return synonyms of a word:\n",
        "    synonyms = set()\n",
        "    for syn in wordnet.synsets(word):\n",
        "        for l in syn.lemmas():\n",
        "            synonym = l.name().replace(\"_\", \" \").replace(\"-\", \" \").lower()\n",
        "            synonym = \"\".join([char for char in synonym if char in ' qwertyuiopasdfghjklzxcvbnm'])\n",
        "            synonyms.add(synonym) \n",
        "    if word in synonyms:\n",
        "        synonyms.remove(word)\n",
        "    return list(synonyms)\n",
        "\n",
        "def synonym_replacement(words, n=1):\n",
        "    # Remove stop words:\n",
        "    stop_words = []\n",
        "    for w in stopwords.words('english'):\n",
        "        stop_words.append(w)\n",
        "    words = words.split()\n",
        "    new_words = words.copy()\n",
        "    random_word_list = list(set([word for word in words if word not in stop_words]))\n",
        "    random.shuffle(random_word_list)\n",
        "    num_replaced = 0\n",
        "    \n",
        "    # Replace n word with random synonym:\n",
        "    for random_word in random_word_list:\n",
        "        synonyms = get_synonyms(random_word)\n",
        "        if len(synonyms) >= 1:\n",
        "            synonym = random.choice(list(synonyms))\n",
        "            new_words = [synonym if word == random_word else word for word in new_words]\n",
        "            num_replaced += 1\n",
        "        if num_replaced >= n:\n",
        "            break\n",
        "    sentence = ' '.join(new_words)\n",
        "\n",
        "    return sentence\n",
        "\n",
        "def syn_aug(train_df, num=1):\n",
        "    # Dataframe operations:\n",
        "    new_train_df = train_df.copy(deep=True)\n",
        "    for index, row in new_train_df.iterrows():\n",
        "        if row['orig_label'] > 1:\n",
        "            for i in range(num):\n",
        "                new_row = row.copy(deep=True)\n",
        "                new_row[\"text_preprocessed\"] = synonym_replacement(row[\"text_preprocessed\"])\n",
        "                \n",
        "                new_train_df = new_train_df.append(new_row,ignore_index=True)\n",
        "    return new_train_df\n",
        "\n",
        "USE_SYN_AUG = False\n",
        "if USE_SYN_AUG:\n",
        "    train_df = syn_aug(train_df)\n",
        "print(len(train_df[train_df[\"label\"] == 1]))\n",
        "print(len(train_df[train_df[\"label\"] == 0]))"
      ]
    },
    {
      "cell_type": "markdown",
      "source": [
        "## Random Swap:"
      ],
      "metadata": {
        "id": "iy1XWR5c81lJ"
      }
    },
    {
      "cell_type": "code",
      "source": [
        "def swap_word(new_words):\n",
        "    random_idx_1 = random.randint(0, len(new_words) - 1)\n",
        "    random_idx_2 = random_idx_1\n",
        "    counter = 0\n",
        "    while random_idx_2 == random_idx_1:\n",
        "        random_idx_2 = random.randint(0, len(new_words) - 1)\n",
        "        counter += 1  \n",
        "        if counter > 3:\n",
        "            return new_words\n",
        "    new_words[random_idx_1], new_words[random_idx_2] = new_words[random_idx_2], new_words[random_idx_1] \n",
        "    return new_words\n",
        "\n",
        "def random_swap(words, n=1):\n",
        "    words = words.split()\n",
        "    new_words = words.copy()\n",
        "    for _ in range(n):\n",
        "        new_words = swap_word(new_words)\n",
        "    sentence = ' '.join(new_words)\n",
        "    return sentence\n",
        "\n",
        "\n",
        "def swap_aug(train_df, num=1):\n",
        "    # Dataframe operations:\n",
        "    new_train_df = train_df.copy(deep=True)\n",
        "    for index, row in new_train_df.iterrows():\n",
        "        if row['orig_label'] > 1:\n",
        "            for i in range(num):\n",
        "                new_row = row.copy(deep=True)\n",
        "                new_row[\"text_preprocessed\"] = random_swap(row[\"text_preprocessed\"])\n",
        "                new_train_df = new_train_df.append(new_row,ignore_index=True)\n",
        "    return new_train_df\n",
        "\n",
        "USE_SWAP_AUG = False\n",
        "if (USE_SWAP_AUG):\n",
        "      train_df = swap_aug(train_df)\n",
        "print(len(train_df[train_df[\"label\"] == 1]))\n",
        "print(len(train_df[train_df[\"label\"] == 0]))"
      ],
      "metadata": {
        "colab": {
          "base_uri": "https://localhost:8080/"
        },
        "id": "hYHF-qhI8rHC",
        "outputId": "f5cc58dd-90b7-4d6b-8615-8d29ba432a54"
      },
      "execution_count": null,
      "outputs": [
        {
          "output_type": "stream",
          "name": "stdout",
          "text": [
            "794\n",
            "7581\n"
          ]
        }
      ]
    },
    {
      "cell_type": "markdown",
      "metadata": {
        "id": "SwrOFj8qhRjT"
      },
      "source": [
        "# Model"
      ]
    },
    {
      "cell_type": "code",
      "execution_count": null,
      "metadata": {
        "id": "AhnfzEEt78jB",
        "colab": {
          "base_uri": "https://localhost:8080/"
        },
        "outputId": "6dbf1860-2b4d-4ad5-c03b-4d8222f5cdf7"
      },
      "outputs": [
        {
          "output_type": "stream",
          "name": "stdout",
          "text": [
            "Using cuda\n"
          ]
        }
      ],
      "source": [
        "# Set up CUDA:\n",
        "# Set a random seed to ensure that results are reproducible:\n",
        "SEED = 0\n",
        "\n",
        "use_cuda = torch.cuda.is_available()\n",
        "if use_cuda:\n",
        "    torch.backends.cudnn.deterministic = True\n",
        "\n",
        "torch.manual_seed(SEED)\n",
        "\n",
        "device = torch.device(\"cuda\" if use_cuda else \"cpu\")\n",
        "print(f\"Using {device}\")"
      ]
    },
    {
      "cell_type": "code",
      "source": [
        "country_dict = {'gh': 0, 'ph': 1, 'ng': 2, 'pk': 3, 'nz': 4, 'tz': 5, 'ke': 6, 'lk': 7, 'za': 8, 'hk': 9, 'jm': 10, \n",
        "                'ie': 11, 'us': 12, 'gb': 13, 'my': 14, 'bd': 15, 'ca': 16, 'in': 17, 'au': 18, 'sg': 19}\n",
        "\n",
        "keyword_dict = {'poor-families': 0, 'in-need': 1, 'homeless': 2, 'hopeless': 3, 'vulnerable': 4, 'disabled': 5, 'refugee': 6,\n",
        "                'women': 7, 'immigrant': 8, 'migrant': 9}\n",
        "\n",
        "def to_one_hot(input, is_country=False):\n",
        "    if is_country:\n",
        "        output = [0] * 20\n",
        "        country_num = country_dict[input]\n",
        "        output[country_num] = 1\n",
        "    else:\n",
        "        output = [0] * 10\n",
        "        keyword_num = keyword_dict[input]\n",
        "        output[keyword_num] = 1\n",
        "    return torch.Tensor(output)"
      ],
      "metadata": {
        "id": "AOZfH5rT0wnI"
      },
      "execution_count": null,
      "outputs": []
    },
    {
      "cell_type": "code",
      "execution_count": null,
      "metadata": {
        "id": "TjnjE7ynzQ0A"
      },
      "outputs": [],
      "source": [
        "class DPMDataset(Dataset):\n",
        "    def __init__(self, df, is_test=False):\n",
        "        self.df = df\n",
        "        self.is_test = is_test\n",
        "    \n",
        "    def __len__(self):\n",
        "        return len(self.df)\n",
        "    \n",
        "    def __getitem__(self, index):\n",
        "        text = self.df.iloc[index][\"text_preprocessed\"]\n",
        "\n",
        "        keyword_one_hot = to_one_hot(self.df.iloc[index]['keyword'])\n",
        "        country_one_hot = to_one_hot(self.df.iloc[index]['country'], is_country=True)\n",
        "\n",
        "        if self.is_test:\n",
        "            return text, keyword_one_hot, country_one_hot\n",
        "\n",
        "        label = torch.tensor(self.df.iloc[index][\"label\"], dtype=torch.long)\n",
        "        return text, keyword_one_hot, country_one_hot, label"
      ]
    },
    {
      "cell_type": "code",
      "execution_count": null,
      "metadata": {
        "id": "u6ukya-McT-8"
      },
      "outputs": [],
      "source": [
        "class CustomBERT(nn.Module):\n",
        "    def __init__(self, model_name=\"roberta-base\", use_categorical=False, dropout_prob=0.2):\n",
        "        super(CustomBERT, self).__init__()\n",
        "        self.bert = AutoModelForSequenceClassification.from_pretrained(model_name,\n",
        "                                                                       num_labels=2)\n",
        "        self.use_categorical = use_categorical\n",
        "\n",
        "        self.dense = torch.nn.Linear(768, 768)\n",
        "\n",
        "        self.dropout = torch.nn.Dropout(dropout_prob)\n",
        "\n",
        "        self.outproj = torch.nn.Linear(768, 2)\n",
        "\n",
        "        self.mlp = nn.Sequential(\n",
        "            nn.Linear(798, 798),\n",
        "            nn.LeakyReLU(0.2),\n",
        "            nn.Dropout(dropout_prob),\n",
        "            nn.Linear(798, 200),\n",
        "            nn.LeakyReLU(0.2),\n",
        "            nn.Dropout(dropout_prob),\n",
        "            nn.Linear(200, 50),\n",
        "            nn.LeakyReLU(0.2),\n",
        "            nn.Dropout(dropout_prob),\n",
        "            nn.Linear(50, 2),\n",
        "        )\n",
        "\n",
        "    def forward(self, input_ids, attention_mask, labels, cat_feats=None):\n",
        "        # Output shape: batch_size x sequence_length x 768:\n",
        "        outputs = self.bert(input_ids=input_ids,\n",
        "                            attention_mask=attention_mask,\n",
        "                            output_hidden_states=True)\n",
        "\n",
        "        hidden_states = outputs.hidden_states\n",
        "        outputs = hidden_states[-1][:, 0, :]    # Get hidden states from last layer.\n",
        "\n",
        "        if self.use_categorical:\n",
        "            outputs = self.dropout(outputs)\n",
        "            combined_feats = torch.cat((outputs, cat_feats), 1)\n",
        "            outputs = self.mlp(combined_feats)\n",
        "\n",
        "        else:\n",
        "            outputs = self.dropout(outputs)\n",
        "\n",
        "            outputs = self.dense(outputs)\n",
        "            outputs = torch.tanh(outputs)\n",
        "\n",
        "            outputs = self.dropout(outputs)\n",
        "            \n",
        "            outputs = self.outproj(outputs)\n",
        "\n",
        "        return outputs"
      ]
    },
    {
      "cell_type": "code",
      "execution_count": null,
      "metadata": {
        "id": "Qz-5-S6LzQ0B"
      },
      "outputs": [],
      "source": [
        "class CollateSequence:\n",
        "    def __init__(self, tokenizer, max_len=128, is_test=False):\n",
        "        self.tokenizer = tokenizer\n",
        "        self.max_len = max_len\n",
        "        self.is_test = is_test\n",
        "    \n",
        "    def __call__(self, batch):\n",
        "        texts = [sample[0] for sample in batch]\n",
        "        tokens = self.tokenizer(texts,\n",
        "                                return_tensors=\"pt\",\n",
        "                                padding=True,\n",
        "                                truncation=True,\n",
        "                                max_length=self.max_len)\n",
        "        input_ids, attn_masks = tokens[\"input_ids\"], tokens[\"attention_mask\"]\n",
        "        keywords = torch.stack([sample[1] for sample in batch])\n",
        "        countries = torch.stack([sample[2] for sample in batch])\n",
        "\n",
        "        if self.is_test:\n",
        "            return input_ids, attn_masks, keywords, countries\n",
        "\n",
        "        labels = torch.stack([sample[3] for sample in batch])\n",
        "        return input_ids, attn_masks, labels, keywords, countries"
      ]
    },
    {
      "cell_type": "code",
      "execution_count": null,
      "metadata": {
        "id": "gndsfdhJzQ0C"
      },
      "outputs": [],
      "source": [
        "def get_dataloaders(train_df,\n",
        "                    dev_df,\n",
        "                    batch_size,\n",
        "                    tokenizer,\n",
        "                    tokenizer_max_len,\n",
        "                    use_weighted_sampler=True,\n",
        "                    train_samples_modification=None):\n",
        "\n",
        "    train_pos = train_df[train_df[\"label\"] == 1]\n",
        "    train_neg = train_df[train_df[\"label\"] == 0]\n",
        "\n",
        "    if train_samples_modification == \"DOWNSAMPLING\":\n",
        "        train_neg = train_neg.sample(len(train_pos) * 2, random_state=SEED)\n",
        "        train_df = pd.concat([train_pos, train_neg])\n",
        "\n",
        "    train_pos = train_df[train_df[\"label\"] == 1]\n",
        "    train_neg = train_df[train_df[\"label\"] == 0]\n",
        "\n",
        "    train_dataset = DPMDataset(train_df)\n",
        "    dev_dataset = DPMDataset(dev_df)\n",
        "\n",
        "    collate_fn = CollateSequence(tokenizer, tokenizer_max_len)\n",
        "\n",
        "    if use_weighted_sampler:\n",
        "        train_class_count = np.array([len(train_neg), len(train_pos)])\n",
        "        weight = 1. / train_class_count\n",
        "        samples_weight = np.array([weight[l] for l in train_df.loc[:, 'label']])\n",
        "        samples_weight = torch.from_numpy(samples_weight)\n",
        "        sampler = WeightedRandomSampler(samples_weight,\n",
        "                                        len(samples_weight),\n",
        "                                        replacement=True)\n",
        "\n",
        "        train_loader = DataLoader(train_dataset,\n",
        "                                  batch_size=batch_size,\n",
        "                                  collate_fn=collate_fn,\n",
        "                                  sampler=sampler)\n",
        "    else:\n",
        "        train_loader = DataLoader(train_dataset,\n",
        "                                  batch_size=batch_size,\n",
        "                                  shuffle=True,\n",
        "                                  collate_fn=collate_fn)\n",
        "\n",
        "    dev_loader = DataLoader(dev_dataset,\n",
        "                            batch_size=batch_size,\n",
        "                            shuffle=False,\n",
        "                            collate_fn=collate_fn)\n",
        "\n",
        "    return train_loader, dev_loader"
      ]
    },
    {
      "cell_type": "code",
      "execution_count": null,
      "metadata": {
        "id": "3Pw_GiNGzQ0B"
      },
      "outputs": [],
      "source": [
        "def eval_model(model, data_loader):\n",
        "    model.eval()\n",
        "    all_preds = []\n",
        "    all_labels = []\n",
        "\n",
        "    with torch.no_grad():\n",
        "        for idx, data in enumerate(data_loader):\n",
        "            input_ids, attn_mask, labels, keywords, countries = data\n",
        "            input_ids = input_ids.to(device)\n",
        "            attn_mask = attn_mask.to(device)\n",
        "            labels = labels.to(device)\n",
        "            cat_feats = torch.cat((keywords, countries), 1).to(device)\n",
        "\n",
        "            outputs = model(input_ids=input_ids,\n",
        "                            attention_mask=attn_mask,\n",
        "                            labels=labels,\n",
        "                            cat_feats=cat_feats)\n",
        "            \n",
        "            predictions = torch.argmax(outputs, dim=1).detach().cpu().numpy()\n",
        "            all_preds.extend(predictions)\n",
        "\n",
        "            labels = labels.detach().cpu().numpy()\n",
        "            all_labels.extend(labels)\n",
        "            \n",
        "    acc = balanced_accuracy_score(all_labels, all_preds)\n",
        "    precision, recall, f1, _ = precision_recall_fscore_support(all_labels,\n",
        "                                                               all_preds,\n",
        "                                                               average=None)\n",
        "\n",
        "    return acc, precision, recall, f1"
      ]
    },
    {
      "cell_type": "code",
      "execution_count": null,
      "metadata": {
        "id": "UK5Zz7qRzQ0B"
      },
      "outputs": [],
      "source": [
        "def train_model(model, optimizer, scheduler, train_loader, dev_loader, num_epochs, criterion):\n",
        "\n",
        "    train_losses = []\n",
        "    dev_f1s = []\n",
        "\n",
        "    for epoch in range(num_epochs):\n",
        "        total_loss = 0\n",
        "        model.train()\n",
        "\n",
        "        with tqdm.tqdm(train_loader, unit=\"batch\") as tepoch: \n",
        "            for i, data in enumerate(tepoch):   \n",
        "                input_ids, attn_mask, labels, keywords, countries = data\n",
        "                input_ids = input_ids.to(device)\n",
        "                attn_mask = attn_mask.to(device)\n",
        "                labels = labels.to(device)\n",
        "                cat_feats = torch.cat((keywords, countries), 1).to(device)\n",
        "                \n",
        "                outputs = model(input_ids=input_ids,\n",
        "                                attention_mask=attn_mask,\n",
        "                                labels=labels,\n",
        "                                cat_feats=cat_feats)\n",
        "\n",
        "                optimizer.zero_grad()\n",
        "                loss = criterion(outputs, labels)    # Output is logits for each sample.\n",
        "                loss.backward()\n",
        "\n",
        "                clip_grad_norm_(model.parameters(), 1)\n",
        "\n",
        "                optimizer.step()\n",
        "                scheduler.step()\n",
        "\n",
        "                total_loss += loss.item()\n",
        "\n",
        "                tepoch.set_description(f\"Epoch {epoch + 1}\")\n",
        "                tepoch.set_postfix(loss=loss.item())\n",
        "    \n",
        "        # Evaluate on the dev set:\n",
        "        dev_acc, dev_precision, dev_recall, dev_f1 = eval_model(model, dev_loader)\n",
        "\n",
        "        train_losses.append(total_loss)\n",
        "        dev_f1s.append(dev_f1)\n",
        "\n",
        "        print(f\"Epoch: {epoch + 1}. Loss: {total_loss:.4f}. Dev Acc: {dev_acc:.4f}. Dev Precision {dev_precision}. Dev Recall: {dev_recall}. Dev F1: {dev_f1}.\")\n",
        "    \n",
        "    return train_losses, dev_f1s"
      ]
    },
    {
      "cell_type": "code",
      "execution_count": null,
      "metadata": {
        "id": "YCReYVRculeU"
      },
      "outputs": [],
      "source": [
        "def run_train(train_df,\n",
        "              dev_df,\n",
        "              model,\n",
        "              tokenizer,\n",
        "              optimizer,\n",
        "              batch_size,\n",
        "              tokenizer_max_len,\n",
        "              loss_pos_weight=0.5,\n",
        "              epochs=1,\n",
        "              train_samples_modification=\"UPSAMPLING\",\n",
        "              use_categorical=False):\n",
        "    \n",
        "    train_loader, dev_loader = get_dataloaders(train_df,\n",
        "                                               dev_df,\n",
        "                                               batch_size,\n",
        "                                               tokenizer, \n",
        "                                               tokenizer_max_len,\n",
        "                                               train_samples_modification=train_samples_modification)\n",
        "    \n",
        "    # If wish to weigh classes differently in loss computation:\n",
        "    weight = torch.tensor([1 - loss_pos_weight, loss_pos_weight])\n",
        "    criterion = nn.CrossEntropyLoss(weight=weight).to(device)\n",
        "\n",
        "    num_warmup_steps = 0\n",
        "    num_training_steps= int(len(train_loader) * epochs)\n",
        "\n",
        "    scheduler = get_linear_schedule_with_warmup(optimizer,\n",
        "                                                num_warmup_steps=num_warmup_steps,\n",
        "                                                num_training_steps=num_training_steps)\n",
        "\n",
        "    train_losses, dev_f1s = train_model(model,\n",
        "                                        optimizer,\n",
        "                                        scheduler,\n",
        "                                        train_loader,\n",
        "                                        dev_loader,\n",
        "                                        num_epochs=epochs,\n",
        "                                        criterion=criterion)\n",
        "    return train_losses, dev_f1s"
      ]
    },
    {
      "cell_type": "code",
      "source": [
        "BATCH_SIZE = 32 # fixed due to memory capacity\n",
        "EPOCHS = 10\n",
        "EPSILON = 1e-6  # same as HuggingFace default\n",
        "LEARNING_RATE = 1e-5\n",
        "MAX_LEN = 128\n",
        "WEIGHT_DECAY = 0.02\n",
        "DROPOUT_PROB = 0.2\n",
        "MODEL_NAME = \"microsoft/deberta-v3-base\"\n",
        "\n",
        "tokenizer = AutoTokenizer.from_pretrained(MODEL_NAME)\n",
        "model = CustomBERT(MODEL_NAME, use_categorical=False, dropout_prob=DROPOUT_PROB).to(device)\n",
        "for name, param in model.named_parameters():\n",
        "    if name.startswith(\"bert.deberta.embeddings\"):\n",
        "        param.requires_grad = False\n",
        "optimizer = AdamW(model.parameters(),\n",
        "                  lr=LEARNING_RATE,\n",
        "                  eps=EPSILON,\n",
        "                  weight_decay=WEIGHT_DECAY)\n",
        "train_losses, dev_f1s = run_train(train_df,\n",
        "                                  dev_df,\n",
        "                                  model,\n",
        "                                  tokenizer,\n",
        "                                  optimizer,\n",
        "                                  BATCH_SIZE,\n",
        "                                  MAX_LEN,\n",
        "                                  epochs=EPOCHS)\n",
        "plt.plot(train_losses)\n",
        "plt.title(f\"Train Losses - Deberta Base (v3): lr = {LEARNING_RATE}, Max_Len = {MAX_LEN}\")\n",
        "plt.show()\n",
        "plt.plot([dev[1] for dev in dev_f1s])\n",
        "plt.title(f\"Positive Dev F1 - Deberta Base (v3): lr = {LEARNING_RATE}, Max_Len = {MAX_LEN}\")\n",
        "plt.show()"
      ],
      "metadata": {
        "id": "RNh0qzOkW_Kk"
      },
      "execution_count": null,
      "outputs": []
    },
    {
      "cell_type": "code",
      "source": [
        "torch.save(model, \"./model.pt\")"
      ],
      "metadata": {
        "id": "tlTUvOrYkVjh"
      },
      "execution_count": null,
      "outputs": []
    },
    {
      "cell_type": "markdown",
      "source": [
        "## Ensembling"
      ],
      "metadata": {
        "id": "CXG4SqwuHROc"
      }
    },
    {
      "cell_type": "code",
      "source": [
        "def stacked_dataset(df, members):\n",
        "    stackX = None\n",
        "    for model in members:\n",
        "        # Make prediction:\n",
        "        preds = predict(df,\n",
        "                        model,\n",
        "                        tokenizer,\n",
        "                        BATCH_SIZE,\n",
        "                        MAX_LEN)\n",
        "        preds_a = []\n",
        "        for p in preds:\n",
        "            for pp in p:\n",
        "                preds_a.append(pp)\n",
        "        preds_a = np.array(preds_a)\n",
        "        # Stack predictions into [rows, members, probabilities]:\n",
        "        if stackX is None:\n",
        "            stackX = preds_a\n",
        "        else:\n",
        "            stackX = np.dstack((stackX, preds_a))\n",
        "    # Flatten predictions to [rows, members x probabilities]:\n",
        "    stackX = np.array(stackX)\n",
        "    stackX = stackX.reshape((stackX.shape[0], 4))\n",
        "    return stackX\n",
        "\n",
        "def predict(df, model, tokenizer, batch_size, tokenizer_max_len):\n",
        "    test_dataset = DPMDataset(df, is_test=True)\n",
        "    collate_fn = CollateSequence(tokenizer,\n",
        "                                 tokenizer_max_len,\n",
        "                                 is_test=True)\n",
        "    test_loader = DataLoader(test_dataset,\n",
        "                             batch_size=batch_size,\n",
        "                             shuffle=False,\n",
        "                             collate_fn=collate_fn)\n",
        "    \n",
        "    model.eval()\n",
        "    all_preds = []\n",
        "\n",
        "    with torch.no_grad():\n",
        "        for _, data in enumerate(test_loader):\n",
        "            input_ids, attn_mask, keywords, countries = data\n",
        "            input_ids = input_ids.to(device)\n",
        "            attn_mask = attn_mask.to(device)\n",
        "\n",
        "            cat_feats = torch.cat((keywords, countries), 1).to(device)\n",
        "\n",
        "            outputs = model(input_ids=input_ids,\n",
        "                            attention_mask=attn_mask,\n",
        "                            cat_feats=cat_feats,\n",
        "                            labels=None).cpu().numpy()\n",
        "            \n",
        "            all_preds.append(outputs)\n",
        "    \n",
        "    return all_preds\n",
        "\n",
        "# Make a prediction with the stacked model:\n",
        "def stacked_prediction(members, model):\n",
        "\t# Create dataset using ensemble:\n",
        "\tstackedX = stacked_dataset(test_df, members)\n",
        "\t# Make a prediction:\n",
        "\tyhat = model.predict(stackedX)\n",
        "\treturn yhat\n",
        "\n",
        "def simple_ensembling(members):\n",
        "    stackedX = stacked_dataset(train_df, members)  \n",
        "    model = LogisticRegression()\n",
        "    model.fit(stackedX,  train_df[\"label\"].to_numpy())\n"
      ],
      "metadata": {
        "id": "h4_pwadNHPaB"
      },
      "execution_count": null,
      "outputs": []
    },
    {
      "cell_type": "markdown",
      "source": [
        "# Test"
      ],
      "metadata": {
        "id": "ebS1rzrYoLP9"
      }
    },
    {
      "cell_type": "code",
      "source": [
        "# Function taken from https://raw.githubusercontent.com/Perez-AlmendrosC/dontpatronizeme/master/semeval-2022/dont_patronize_me.py\n",
        "def load_test_data():\n",
        "    \"\"\"\n",
        "    Load task 1 test set data (text and other categorical columns) \n",
        "    It returns a pandas dataframe with the loaded data.\n",
        "    \"\"\"\n",
        "    test_url = \"https://raw.githubusercontent.com/Perez-AlmendrosC/dontpatronizeme/master/semeval-2022/TEST/task4_test.tsv\"\n",
        "    rows = []\n",
        "    with request.urlopen(test_url) as f:\n",
        "        for line in f:\n",
        "            line = line.decode('utf-8')\n",
        "            par_id = line.strip().split('\\t')[0]\n",
        "            art_id = line.strip().split('\\t')[1]\n",
        "            keyword = line.strip().split('\\t')[2]\n",
        "            country = line.strip().split('\\t')[3]\n",
        "            text = line.strip().split('\\t')[4]\n",
        "            rows.append({\n",
        "                'par_id': par_id,\n",
        "                'art_id': art_id,\n",
        "                'keyword': keyword,\n",
        "                'country': country,\n",
        "                'text': text,\n",
        "            })\n",
        "    df = pd.DataFrame(rows, columns=['par_id', 'art_id', 'keyword', 'country', 'text'])\n",
        "    return df\n",
        "\n",
        "test_df = load_test_data()\n",
        "print(f'Number of samples: {len(test_df)}')\n",
        "test_df[\"text_preprocessed\"] = test_df[\"text\"].apply(basic_preprocess_fn)\n",
        "test_df.head()"
      ],
      "metadata": {
        "id": "bw9NSXg5Vk1k",
        "colab": {
          "base_uri": "https://localhost:8080/",
          "height": 355
        },
        "outputId": "fff38384-5e23-4f1b-e2c6-587741ad4c22"
      },
      "execution_count": null,
      "outputs": [
        {
          "output_type": "stream",
          "name": "stdout",
          "text": [
            "Number of samples: 3832\n"
          ]
        },
        {
          "output_type": "execute_result",
          "data": {
            "text/html": [
              "\n",
              "  <div id=\"df-c000020f-a28a-49d6-a0b4-61d6eff2a911\">\n",
              "    <div class=\"colab-df-container\">\n",
              "      <div>\n",
              "<style scoped>\n",
              "    .dataframe tbody tr th:only-of-type {\n",
              "        vertical-align: middle;\n",
              "    }\n",
              "\n",
              "    .dataframe tbody tr th {\n",
              "        vertical-align: top;\n",
              "    }\n",
              "\n",
              "    .dataframe thead th {\n",
              "        text-align: right;\n",
              "    }\n",
              "</style>\n",
              "<table border=\"1\" class=\"dataframe\">\n",
              "  <thead>\n",
              "    <tr style=\"text-align: right;\">\n",
              "      <th></th>\n",
              "      <th>par_id</th>\n",
              "      <th>art_id</th>\n",
              "      <th>keyword</th>\n",
              "      <th>country</th>\n",
              "      <th>text</th>\n",
              "      <th>text_preprocessed</th>\n",
              "    </tr>\n",
              "  </thead>\n",
              "  <tbody>\n",
              "    <tr>\n",
              "      <th>0</th>\n",
              "      <td>t_0</td>\n",
              "      <td>@@7258997</td>\n",
              "      <td>vulnerable</td>\n",
              "      <td>us</td>\n",
              "      <td>In the meantime , conservatives are working to...</td>\n",
              "      <td>In the meantime , conservatives are working to...</td>\n",
              "    </tr>\n",
              "    <tr>\n",
              "      <th>1</th>\n",
              "      <td>t_1</td>\n",
              "      <td>@@16397324</td>\n",
              "      <td>women</td>\n",
              "      <td>pk</td>\n",
              "      <td>In most poor households with no education chil...</td>\n",
              "      <td>In most poor households with no education chil...</td>\n",
              "    </tr>\n",
              "    <tr>\n",
              "      <th>2</th>\n",
              "      <td>t_2</td>\n",
              "      <td>@@16257812</td>\n",
              "      <td>migrant</td>\n",
              "      <td>ca</td>\n",
              "      <td>The real question is not whether immigration i...</td>\n",
              "      <td>The real question is not whether immigration i...</td>\n",
              "    </tr>\n",
              "    <tr>\n",
              "      <th>3</th>\n",
              "      <td>t_3</td>\n",
              "      <td>@@3509652</td>\n",
              "      <td>migrant</td>\n",
              "      <td>gb</td>\n",
              "      <td>In total , the country 's immigrant population...</td>\n",
              "      <td>In total , the country 's immigrant population...</td>\n",
              "    </tr>\n",
              "    <tr>\n",
              "      <th>4</th>\n",
              "      <td>t_4</td>\n",
              "      <td>@@477506</td>\n",
              "      <td>vulnerable</td>\n",
              "      <td>ca</td>\n",
              "      <td>Members of the church , which is part of Ken C...</td>\n",
              "      <td>Members of the church , which is part of Ken C...</td>\n",
              "    </tr>\n",
              "  </tbody>\n",
              "</table>\n",
              "</div>\n",
              "      <button class=\"colab-df-convert\" onclick=\"convertToInteractive('df-c000020f-a28a-49d6-a0b4-61d6eff2a911')\"\n",
              "              title=\"Convert this dataframe to an interactive table.\"\n",
              "              style=\"display:none;\">\n",
              "        \n",
              "  <svg xmlns=\"http://www.w3.org/2000/svg\" height=\"24px\"viewBox=\"0 0 24 24\"\n",
              "       width=\"24px\">\n",
              "    <path d=\"M0 0h24v24H0V0z\" fill=\"none\"/>\n",
              "    <path d=\"M18.56 5.44l.94 2.06.94-2.06 2.06-.94-2.06-.94-.94-2.06-.94 2.06-2.06.94zm-11 1L8.5 8.5l.94-2.06 2.06-.94-2.06-.94L8.5 2.5l-.94 2.06-2.06.94zm10 10l.94 2.06.94-2.06 2.06-.94-2.06-.94-.94-2.06-.94 2.06-2.06.94z\"/><path d=\"M17.41 7.96l-1.37-1.37c-.4-.4-.92-.59-1.43-.59-.52 0-1.04.2-1.43.59L10.3 9.45l-7.72 7.72c-.78.78-.78 2.05 0 2.83L4 21.41c.39.39.9.59 1.41.59.51 0 1.02-.2 1.41-.59l7.78-7.78 2.81-2.81c.8-.78.8-2.07 0-2.86zM5.41 20L4 18.59l7.72-7.72 1.47 1.35L5.41 20z\"/>\n",
              "  </svg>\n",
              "      </button>\n",
              "      \n",
              "  <style>\n",
              "    .colab-df-container {\n",
              "      display:flex;\n",
              "      flex-wrap:wrap;\n",
              "      gap: 12px;\n",
              "    }\n",
              "\n",
              "    .colab-df-convert {\n",
              "      background-color: #E8F0FE;\n",
              "      border: none;\n",
              "      border-radius: 50%;\n",
              "      cursor: pointer;\n",
              "      display: none;\n",
              "      fill: #1967D2;\n",
              "      height: 32px;\n",
              "      padding: 0 0 0 0;\n",
              "      width: 32px;\n",
              "    }\n",
              "\n",
              "    .colab-df-convert:hover {\n",
              "      background-color: #E2EBFA;\n",
              "      box-shadow: 0px 1px 2px rgba(60, 64, 67, 0.3), 0px 1px 3px 1px rgba(60, 64, 67, 0.15);\n",
              "      fill: #174EA6;\n",
              "    }\n",
              "\n",
              "    [theme=dark] .colab-df-convert {\n",
              "      background-color: #3B4455;\n",
              "      fill: #D2E3FC;\n",
              "    }\n",
              "\n",
              "    [theme=dark] .colab-df-convert:hover {\n",
              "      background-color: #434B5C;\n",
              "      box-shadow: 0px 1px 3px 1px rgba(0, 0, 0, 0.15);\n",
              "      filter: drop-shadow(0px 1px 2px rgba(0, 0, 0, 0.3));\n",
              "      fill: #FFFFFF;\n",
              "    }\n",
              "  </style>\n",
              "\n",
              "      <script>\n",
              "        const buttonEl =\n",
              "          document.querySelector('#df-c000020f-a28a-49d6-a0b4-61d6eff2a911 button.colab-df-convert');\n",
              "        buttonEl.style.display =\n",
              "          google.colab.kernel.accessAllowed ? 'block' : 'none';\n",
              "\n",
              "        async function convertToInteractive(key) {\n",
              "          const element = document.querySelector('#df-c000020f-a28a-49d6-a0b4-61d6eff2a911');\n",
              "          const dataTable =\n",
              "            await google.colab.kernel.invokeFunction('convertToInteractive',\n",
              "                                                     [key], {});\n",
              "          if (!dataTable) return;\n",
              "\n",
              "          const docLinkHtml = 'Like what you see? Visit the ' +\n",
              "            '<a target=\"_blank\" href=https://colab.research.google.com/notebooks/data_table.ipynb>data table notebook</a>'\n",
              "            + ' to learn more about interactive tables.';\n",
              "          element.innerHTML = '';\n",
              "          dataTable['output_type'] = 'display_data';\n",
              "          await google.colab.output.renderOutput(dataTable, element);\n",
              "          const docLink = document.createElement('div');\n",
              "          docLink.innerHTML = docLinkHtml;\n",
              "          element.appendChild(docLink);\n",
              "        }\n",
              "      </script>\n",
              "    </div>\n",
              "  </div>\n",
              "  "
            ],
            "text/plain": [
              "  par_id      art_id     keyword country  \\\n",
              "0    t_0   @@7258997  vulnerable      us   \n",
              "1    t_1  @@16397324       women      pk   \n",
              "2    t_2  @@16257812     migrant      ca   \n",
              "3    t_3   @@3509652     migrant      gb   \n",
              "4    t_4    @@477506  vulnerable      ca   \n",
              "\n",
              "                                                text  \\\n",
              "0  In the meantime , conservatives are working to...   \n",
              "1  In most poor households with no education chil...   \n",
              "2  The real question is not whether immigration i...   \n",
              "3  In total , the country 's immigrant population...   \n",
              "4  Members of the church , which is part of Ken C...   \n",
              "\n",
              "                                   text_preprocessed  \n",
              "0  In the meantime , conservatives are working to...  \n",
              "1  In most poor households with no education chil...  \n",
              "2  The real question is not whether immigration i...  \n",
              "3  In total , the country 's immigrant population...  \n",
              "4  Members of the church , which is part of Ken C...  "
            ]
          },
          "metadata": {},
          "execution_count": 38
        }
      ]
    },
    {
      "cell_type": "code",
      "source": [
        "def test_model(test_df, model, tokenizer, batch_size, tokenizer_max_len, is_test=True):\n",
        "    test_dataset = DPMDataset(test_df, is_test=is_test)\n",
        "    collate_fn = CollateSequence(tokenizer, tokenizer_max_len, is_test=is_test)\n",
        "    test_loader = DataLoader(test_dataset, batch_size=batch_size, shuffle=False,\n",
        "                             collate_fn=collate_fn)\n",
        "    \n",
        "    model.eval()\n",
        "    all_preds = []\n",
        "    all_labels = []\n",
        "\n",
        "    with torch.no_grad():\n",
        "        for _, data in enumerate(test_loader):\n",
        "            if is_test:\n",
        "                input_ids, attn_mask, keywords, countries = data\n",
        "            else:\n",
        "                input_ids, attn_mask, labels, keywords, countries = data\n",
        "            input_ids = input_ids.to(device)\n",
        "            attn_mask = attn_mask.to(device)\n",
        "\n",
        "            cat_feats = torch.cat((keywords, countries), 1).to(device)\n",
        "\n",
        "            outputs = model(input_ids=input_ids,\n",
        "                            attention_mask=attn_mask,\n",
        "                            cat_feats=cat_feats,\n",
        "                            labels=None)\n",
        "            \n",
        "            predictions = torch.argmax(outputs, dim=1).detach().cpu().numpy()\n",
        "            all_preds.extend(predictions)\n",
        "            if not is_test:\n",
        "                all_labels.extend(labels)\n",
        "    \n",
        "    if is_test:\n",
        "        return all_preds\n",
        "    else:\n",
        "        return all_preds, all_labels\n",
        "\n",
        "# Helper function to save predictions to an output file:\n",
        "def labels2file(p, outf_path):\n",
        "\twith open(outf_path,'w') as outf:\n",
        "\t\tfor pi in p:\n",
        "\t\t\toutf.write(','.join([str(k) for k in pi])+'\\n')\n",
        "\n",
        "def main_test():\n",
        "    model = torch.load(\"./model.pt\")\n",
        "    preds = test_model(test_df, model, tokenizer, BATCH_SIZE, MAX_LEN)\n",
        "    Counter(preds)\n",
        "    labels2file([[k] for k in preds], 'task1.txt')\n",
        "\n",
        "main_test()"
      ],
      "metadata": {
        "id": "7MWaoY1-ZE_g"
      },
      "execution_count": null,
      "outputs": []
    },
    {
      "cell_type": "markdown",
      "source": [
        "# Analysis"
      ],
      "metadata": {
        "id": "k7iDx02QJBcg"
      }
    },
    {
      "cell_type": "code",
      "source": [
        "# Analysis on whether the model is better at predicting examples with a higher level of patronising content\n",
        "def get_correct_idx(preds, labels):\n",
        "    return [i for i in range(len(preds)) if preds[i] == labels[i]]\n",
        "\n",
        "def count_label(dev_df, orig_label):\n",
        "    return len([idx for idx, row in dev_df.iterrows() if row['orig_label'] == orig_label])\n",
        "\n",
        "def count_label_correct(dev_df, orig_label, correct_idx):\n",
        "    return len([idx for idx, row in dev_df.iterrows() if row['orig_label'] == orig_label and idx in correct_idx])\n",
        "\n",
        "def predict_patronize(model, dev_df, correct_idx):\n",
        "    label_2_count = count_label(dev_df, 2)\n",
        "    label_3_count = count_label(dev_df, 3)\n",
        "    label_4_count = count_label(dev_df, 4)\n",
        "    label_2_correct = count_label_correct(dev_df, 2, correct_idx)\n",
        "    label_3_correct = count_label_correct(dev_df, 3, correct_idx)\n",
        "    label_4_correct = count_label_correct(dev_df, 4, correct_idx)\n",
        "\n",
        "    x_labels = ['Label 2','Label 3','Label 4']\n",
        "    y_labels = [label_2_count, label_3_count, label_4_count]\n",
        "    z_labels = [label_2_correct, label_3_correct, label_4_correct]\n",
        "      \n",
        "    x_axis = np.arange(len(x_labels))\n",
        "      \n",
        "    plt.bar(x_axis - 0.2, y_labels, 0.4, label = 'Total Labels')\n",
        "    plt.bar(x_axis + 0.2, z_labels, 0.4, label = 'Correct Labels')\n",
        "\n",
        "    plt.xticks(x_axis, x_labels)\n",
        "    plt.xlabel(\"Labels\")\n",
        "    plt.ylabel(\"Number of Labels\")\n",
        "    plt.title(\"Analysis of Predicting Patronizing Content\")\n",
        "    plt.legend()\n",
        "    plt.show()\n",
        "\n",
        "    correct_percentage_2 = label_2_correct / label_2_count * 100\n",
        "    correct_percentage_3 = label_3_correct / label_3_count * 100\n",
        "    correct_percentage_4 = label_4_correct / label_4_count * 100\n",
        "\n",
        "    print('{:.2f}% of patronizing content with label 2 are correctly predicted'.format(correct_percentage_2))\n",
        "    print('{:.2f}% of patronizing content with label 3 are correctly predicted'.format(correct_percentage_3))\n",
        "    print('{:.2f}% of patronizing content with label 4 are correctly predicted'.format(correct_percentage_4))"
      ],
      "metadata": {
        "id": "rCmbGOWbM45y"
      },
      "execution_count": null,
      "outputs": []
    },
    {
      "cell_type": "code",
      "source": [
        "# Plot predictions for different levels of patronizing texts\n",
        "model = torch.load(\"./model.pt\")\n",
        "preds, labels = test_model(model, tokenizer, BATCH_SIZE, MAX_LEN, dev_df, is_test=False)\n",
        "correct_idx = get_correct_idx(preds, labels)\n",
        "predict_patronize(model, dev_df, correct_idx)"
      ],
      "metadata": {
        "id": "dez8vSVDM7Au",
        "colab": {
          "base_uri": "https://localhost:8080/",
          "height": 348
        },
        "outputId": "59a1589e-f33c-4b53-fd83-7b1543698c6a"
      },
      "execution_count": null,
      "outputs": [
        {
          "output_type": "display_data",
          "data": {
            "image/png": "[encoded data removed]",
            "text/plain": [
              "<Figure size 432x288 with 1 Axes>"
            ]
          },
          "metadata": {
            "needs_background": "light"
          }
        },
        {
          "output_type": "stream",
          "name": "stdout",
          "text": [
            "33.33% of patronizing content with label 2 are correctly predicted\n",
            "52.81% of patronizing content with label 3 are correctly predicted\n",
            "69.57% of patronizing content with label 4 are correctly predicted\n"
          ]
        }
      ]
    },
    {
      "cell_type": "code",
      "source": [
        "# How does the length of the input sequence impact the model performance?\n",
        "# short: 0-50, medium: 50-100, long: 100+\n",
        "import sys\n",
        "\n",
        "def get_text_in_range(low, high, df):\n",
        "    word_splits = df.text_preprocessed.str.split()\n",
        "    drop_idx = []\n",
        "    for idx, row in df.iterrows():\n",
        "        word_count = len(word_splits[idx])\n",
        "        if idx < len(df) and (word_count <= low or word_count > high):\n",
        "            drop_idx.append(idx)\n",
        "    df = df.drop(drop_idx)\n",
        "    return df\n",
        "\n",
        "df_dev_short = get_text_in_range(0, 50, dev_df)\n",
        "df_dev_medium = get_text_in_range(50, 100, dev_df)\n",
        "df_dev_long = get_text_in_range(100, sys.maxsize, dev_df)\n",
        "\n",
        "def eval_performance(model, tokenizer, batch_size, tokenizer_max_len, test_df):\n",
        "    test_dataset = DPMDataset(test_df)\n",
        "    collate_fn = CollateSequence(tokenizer, tokenizer_max_len)\n",
        "    test_loader = DataLoader(test_dataset, batch_size=batch_size, shuffle=False,\n",
        "                             collate_fn=collate_fn)\n",
        "    model.eval()\n",
        "    all_preds = []\n",
        "    all_labels = []\n",
        "\n",
        "    with torch.no_grad():\n",
        "        for idx, data in enumerate(test_loader):\n",
        "            input_ids, attn_mask, labels, keywords, countries = data\n",
        "            input_ids = input_ids.to(device)\n",
        "            attn_mask = attn_mask.to(device)\n",
        "            labels = labels.to(device)\n",
        "            cat_feats = torch.cat((keywords, countries), 1).to(device)\n",
        "\n",
        "            outputs = model(input_ids=input_ids,\n",
        "                            attention_mask=attn_mask,\n",
        "                            labels=labels,\n",
        "                            cat_feats=cat_feats)\n",
        "            \n",
        "            predictions = torch.argmax(outputs, dim=1).detach().cpu().numpy()\n",
        "            all_preds.extend(predictions)\n",
        "\n",
        "            labels = labels.detach().cpu().numpy()\n",
        "            all_labels.extend(labels)\n",
        "            \n",
        "    acc = balanced_accuracy_score(all_labels, all_preds)\n",
        "    precision, recall, f1, _ = precision_recall_fscore_support(all_labels,\n",
        "                                                               all_preds,\n",
        "                                                               average=None)\n",
        "\n",
        "    return acc, precision, recall, f1\n"
      ],
      "metadata": {
        "id": "bG5Ap-ENJ7tc"
      },
      "execution_count": null,
      "outputs": []
    },
    {
      "cell_type": "code",
      "source": [
        "acc_short, precision_short, recall_short, f1_short = eval_performance(model, tokenizer, BATCH_SIZE, MAX_LEN, df_dev_short)\n",
        "acc_medium, precision_medium, recall_medium, f1_medium = eval_performance(model, tokenizer, BATCH_SIZE, MAX_LEN, df_dev_medium)\n",
        "acc_long, precision_long, recall_long, f1_long = eval_performance(model, tokenizer, BATCH_SIZE, MAX_LEN, df_dev_long)"
      ],
      "metadata": {
        "id": "bQKnd10RPEuh"
      },
      "execution_count": null,
      "outputs": []
    },
    {
      "cell_type": "markdown",
      "source": [
        "# Hyperparameter Tuning"
      ],
      "metadata": {
        "id": "i-Kb3aagRCFI"
      }
    },
    {
      "cell_type": "code",
      "source": [
        "MODEL_NAME = \"microsoft/deberta-v3-base\"\n",
        "tokenizer = AutoTokenizer.from_pretrained(MODEL_NAME)"
      ],
      "metadata": {
        "colab": {
          "base_uri": "https://localhost:8080/"
        },
        "id": "nFwb-ZaCwjTf",
        "outputId": "94fa4a2d-0464-47f4-8040-a0401e341e90"
      },
      "execution_count": null,
      "outputs": [
        {
          "output_type": "stream",
          "name": "stderr",
          "text": [
            "Special tokens have been added in the vocabulary, make sure the associated word embeddings are fine-tuned or trained.\n"
          ]
        }
      ]
    },
    {
      "cell_type": "markdown",
      "source": [
        "## Learning Rate & Tokenizer Max Length"
      ],
      "metadata": {
        "id": "tKwzNGzy3lH4"
      }
    },
    {
      "cell_type": "code",
      "source": [
        "def get_tokenized_lengths(df, tokenizer):\n",
        "    all_lengths = []\n",
        "    for text in df[\"text_preprocessed\"]:\n",
        "        tokens_dict = tokenizer(text, return_length=True)\n",
        "        all_lengths.append(tokens_dict[\"length\"])\n",
        "    \n",
        "    return all_lengths\n",
        "\n",
        "def plot_tokenized_length_distribution(df, tokenizer, bins):\n",
        "    tokenized_lengths = get_tokenized_lengths(train_df, tokenizer)\n",
        "    lengths_df = pd.DataFrame(tokenized_lengths, columns=[\"length\"])\n",
        "    cuts = pd.cut(lengths_df.length, bins)\n",
        "    lengths_df = lengths_df.groupby(cuts).size()\n",
        "\n",
        "    fig, ax = plt.subplots(figsize=(8, 4), dpi=80)\n",
        "    lengths_df.plot(kind=\"bar\", ax=ax)\n",
        "    plt.title(\"Tokenized Text Length Distribution\")\n",
        "    plt.show()\n",
        "\n",
        "    count, _ = np.histogram(tokenized_lengths, bins)\n",
        "    print(count)"
      ],
      "metadata": {
        "id": "8SEaQqbSHrHK"
      },
      "execution_count": null,
      "outputs": []
    },
    {
      "cell_type": "code",
      "source": [
        "plot_tokenized_length_distribution(train_df, tokenizer, bins=[0, 64, 128, 256, 512, 1024])"
      ],
      "metadata": {
        "id": "Q_kpYDk5wYrW",
        "colab": {
          "base_uri": "https://localhost:8080/",
          "height": 395
        },
        "outputId": "8f12c2bd-e539-48be-afe4-5de6fa99dc76"
      },
      "execution_count": null,
      "outputs": [
        {
          "output_type": "display_data",
          "data": {
            "image/png": "[encoded data removed]",
            "text/plain": [
              "<Figure size 640x320 with 1 Axes>"
            ]
          },
          "metadata": {
            "needs_background": "light"
          }
        },
        {
          "output_type": "stream",
          "name": "stdout",
          "text": [
            "[4855 1657  183    3    2]\n"
          ]
        }
      ]
    },
    {
      "cell_type": "code",
      "source": [
        "BATCH_SIZE = 32 # fixed due to memory capacity\n",
        "EPOCHS = 10\n",
        "EPSILON = 1e-6  # same as HuggingFace default\n",
        "tokenizer_max_lens = [64, 128]\n",
        "lrs = [5e-6, 1e-5, 2e-5]\n",
        "\n",
        "all_train_losses = []\n",
        "all_dev_f1s = []\n",
        "\n",
        "for max_len in tokenizer_max_lens:\n",
        "    for lr in lrs:\n",
        "        model = CustomBERT(MODEL_NAME).to(device)\n",
        "        optimizer = AdamW(model.parameters(), lr=lr, eps=EPSILON)\n",
        "        train_losses, dev_f1s = run_train(train_df,\n",
        "                                          val_df,\n",
        "                                          model,\n",
        "                                          tokenizer,\n",
        "                                          optimizer,\n",
        "                                          BATCH_SIZE,\n",
        "                                          max_len,\n",
        "                                          epochs=EPOCHS)\n",
        "        all_train_losses.append(train_losses)\n",
        "        all_dev_f1s.append([dev[1] for dev in dev_f1s])\n",
        "\n",
        "        print(f'=====lr = {lr}. len = {max_len}=====')\n",
        "        print(train_losses)\n",
        "        print(dev_f1s)\n",
        "\n",
        "        with torch.no_grad():\n",
        "            torch.cuda.empty_cache()"
      ],
      "metadata": {
        "colab": {
          "base_uri": "https://localhost:8080/"
        },
        "id": "h9NjcKqvxP2o",
        "outputId": "6f685804-f3ab-4cdb-a430-b76782b33af9"
      },
      "execution_count": null,
      "outputs": [
        {
          "output_type": "stream",
          "name": "stderr",
          "text": [
            "Some weights of the model checkpoint at microsoft/deberta-v3-base were not used when initializing DebertaV2ForSequenceClassification: ['mask_predictions.classifier.bias', 'lm_predictions.lm_head.LayerNorm.bias', 'mask_predictions.classifier.weight', 'lm_predictions.lm_head.bias', 'mask_predictions.LayerNorm.weight', 'lm_predictions.lm_head.dense.bias', 'mask_predictions.dense.weight', 'lm_predictions.lm_head.LayerNorm.weight', 'lm_predictions.lm_head.dense.weight', 'mask_predictions.dense.bias', 'mask_predictions.LayerNorm.bias']\n",
            "- This IS expected if you are initializing DebertaV2ForSequenceClassification from the checkpoint of a model trained on another task or with another architecture (e.g. initializing a BertForSequenceClassification model from a BertForPreTraining model).\n",
            "- This IS NOT expected if you are initializing DebertaV2ForSequenceClassification from the checkpoint of a model that you expect to be exactly identical (initializing a BertForSequenceClassification model from a BertForSequenceClassification model).\n",
            "Some weights of DebertaV2ForSequenceClassification were not initialized from the model checkpoint at microsoft/deberta-v3-base and are newly initialized: ['classifier.weight', 'pooler.dense.weight', 'classifier.bias', 'pooler.dense.bias']\n",
            "You should probably TRAIN this model on a down-stream task to be able to use it for predictions and inference.\n",
            "Epoch 1: 100%|██████████| 210/210 [01:09<00:00,  3.03batch/s, loss=0.275]\n"
          ]
        },
        {
          "output_type": "stream",
          "name": "stdout",
          "text": [
            "Epoch: 1. Loss: 121.2419. Dev Acc: 0.8145. Dev Precision [0.99055713 0.24188312]. Dev Recall: [0.69195251 0.93710692]. Dev F1: [0.81475728 0.38451613].\n"
          ]
        },
        {
          "output_type": "stream",
          "name": "stderr",
          "text": [
            "Epoch 2: 100%|██████████| 210/210 [01:09<00:00,  3.03batch/s, loss=0.153]\n"
          ]
        },
        {
          "output_type": "stream",
          "name": "stdout",
          "text": [
            "Epoch: 2. Loss: 62.0827. Dev Acc: 0.8147. Dev Precision [0.97041847 0.4083045 ]. Dev Recall: [0.88720317 0.74213836]. Dev F1: [0.92694693 0.52678571].\n"
          ]
        },
        {
          "output_type": "stream",
          "name": "stderr",
          "text": [
            "Epoch 3: 100%|██████████| 210/210 [01:09<00:00,  3.03batch/s, loss=0.0392]\n"
          ]
        },
        {
          "output_type": "stream",
          "name": "stdout",
          "text": [
            "Epoch: 3. Loss: 46.7495. Dev Acc: 0.8081. Dev Precision [0.97100372 0.36363636]. Dev Recall: [0.86147757 0.75471698]. Dev F1: [0.91296749 0.49079755].\n"
          ]
        },
        {
          "output_type": "stream",
          "name": "stderr",
          "text": [
            "Epoch 4: 100%|██████████| 210/210 [01:09<00:00,  3.03batch/s, loss=0.021]\n"
          ]
        },
        {
          "output_type": "stream",
          "name": "stdout",
          "text": [
            "Epoch: 4. Loss: 34.5901. Dev Acc: 0.8095. Dev Precision [0.96861626 0.42124542]. Dev Recall: [0.89577836 0.72327044]. Dev F1: [0.9307745  0.53240741].\n"
          ]
        },
        {
          "output_type": "stream",
          "name": "stderr",
          "text": [
            "Epoch 5: 100%|██████████| 210/210 [01:09<00:00,  3.02batch/s, loss=0.11]\n"
          ]
        },
        {
          "output_type": "stream",
          "name": "stdout",
          "text": [
            "Epoch: 5. Loss: 23.8296. Dev Acc: 0.8025. Dev Precision [0.96537396 0.47186147]. Dev Recall: [0.91952507 0.68553459]. Dev F1: [0.94189189 0.55897436].\n"
          ]
        },
        {
          "output_type": "stream",
          "name": "stderr",
          "text": [
            "Epoch 6: 100%|██████████| 210/210 [01:09<00:00,  3.03batch/s, loss=0.00789]\n"
          ]
        },
        {
          "output_type": "stream",
          "name": "stdout",
          "text": [
            "Epoch: 6. Loss: 21.1956. Dev Acc: 0.8207. Dev Precision [0.97283407 0.38977636]. Dev Recall: [0.87401055 0.7672956 ]. Dev F1: [0.92077832 0.51694915].\n"
          ]
        },
        {
          "output_type": "stream",
          "name": "stderr",
          "text": [
            "Epoch 7: 100%|██████████| 210/210 [01:09<00:00,  3.03batch/s, loss=0.332]\n"
          ]
        },
        {
          "output_type": "stream",
          "name": "stdout",
          "text": [
            "Epoch: 7. Loss: 17.4460. Dev Acc: 0.7654. Dev Precision [0.956      0.53142857]. Dev Recall: [0.94591029 0.58490566]. Dev F1: [0.95092838 0.55688623].\n"
          ]
        },
        {
          "output_type": "stream",
          "name": "stderr",
          "text": [
            "Epoch 8: 100%|██████████| 210/210 [01:09<00:00,  3.02batch/s, loss=0.00974]\n"
          ]
        },
        {
          "output_type": "stream",
          "name": "stdout",
          "text": [
            "Epoch: 8. Loss: 17.0910. Dev Acc: 0.8049. Dev Precision [0.96643357 0.45306122]. Dev Recall: [0.9116095  0.69811321]. Dev F1: [0.93822132 0.54950495].\n"
          ]
        },
        {
          "output_type": "stream",
          "name": "stderr",
          "text": [
            "Epoch 9: 100%|██████████| 210/210 [01:09<00:00,  3.02batch/s, loss=0.0247]\n"
          ]
        },
        {
          "output_type": "stream",
          "name": "stdout",
          "text": [
            "Epoch: 9. Loss: 13.3224. Dev Acc: 0.7929. Dev Precision [0.96293754 0.48165138]. Dev Recall: [0.92546174 0.66037736]. Dev F1: [0.94382778 0.55702918].\n"
          ]
        },
        {
          "output_type": "stream",
          "name": "stderr",
          "text": [
            "Epoch 10: 100%|██████████| 210/210 [01:09<00:00,  3.02batch/s, loss=0.00963]\n"
          ]
        },
        {
          "output_type": "stream",
          "name": "stdout",
          "text": [
            "Epoch: 10. Loss: 11.7210. Dev Acc: 0.7954. Dev Precision [0.96354883 0.47963801]. Dev Recall: [0.92414248 0.66666667]. Dev F1: [0.94343434 0.55789474].\n",
            "=====lr = 5e-06. len = 64=====\n",
            "[121.24189420044422, 62.08265632018447, 46.74951322376728, 34.590082101523876, 23.829632338136435, 21.195571688003838, 17.44601278519258, 17.091046996880323, 13.322365320753306, 11.721027330495417]\n",
            "[array([0.81475728, 0.38451613]), array([0.92694693, 0.52678571]), array([0.91296749, 0.49079755]), array([0.9307745 , 0.53240741]), array([0.94189189, 0.55897436]), array([0.92077832, 0.51694915]), array([0.95092838, 0.55688623]), array([0.93822132, 0.54950495]), array([0.94382778, 0.55702918]), array([0.94343434, 0.55789474])]\n"
          ]
        },
        {
          "output_type": "stream",
          "name": "stderr",
          "text": [
            "Some weights of the model checkpoint at microsoft/deberta-v3-base were not used when initializing DebertaV2ForSequenceClassification: ['mask_predictions.classifier.bias', 'lm_predictions.lm_head.LayerNorm.bias', 'mask_predictions.classifier.weight', 'lm_predictions.lm_head.bias', 'mask_predictions.LayerNorm.weight', 'lm_predictions.lm_head.dense.bias', 'mask_predictions.dense.weight', 'lm_predictions.lm_head.LayerNorm.weight', 'lm_predictions.lm_head.dense.weight', 'mask_predictions.dense.bias', 'mask_predictions.LayerNorm.bias']\n",
            "- This IS expected if you are initializing DebertaV2ForSequenceClassification from the checkpoint of a model trained on another task or with another architecture (e.g. initializing a BertForSequenceClassification model from a BertForPreTraining model).\n",
            "- This IS NOT expected if you are initializing DebertaV2ForSequenceClassification from the checkpoint of a model that you expect to be exactly identical (initializing a BertForSequenceClassification model from a BertForSequenceClassification model).\n",
            "Some weights of DebertaV2ForSequenceClassification were not initialized from the model checkpoint at microsoft/deberta-v3-base and are newly initialized: ['classifier.weight', 'pooler.dense.weight', 'classifier.bias', 'pooler.dense.bias']\n",
            "You should probably TRAIN this model on a down-stream task to be able to use it for predictions and inference.\n",
            "Epoch 1: 100%|██████████| 210/210 [01:09<00:00,  3.02batch/s, loss=0.273]\n"
          ]
        },
        {
          "output_type": "stream",
          "name": "stdout",
          "text": [
            "Epoch: 1. Loss: 103.1004. Dev Acc: 0.8424. Dev Precision [0.97899475 0.38304094]. Dev Recall: [0.86081794 0.82389937]. Dev F1: [0.91611092 0.52295409].\n"
          ]
        },
        {
          "output_type": "stream",
          "name": "stderr",
          "text": [
            "Epoch 2: 100%|██████████| 210/210 [01:09<00:00,  3.03batch/s, loss=0.15]\n"
          ]
        },
        {
          "output_type": "stream",
          "name": "stdout",
          "text": [
            "Epoch: 2. Loss: 49.7251. Dev Acc: 0.7624. Dev Precision [0.95502646 0.55828221]. Dev Recall: [0.9525066  0.57232704]. Dev F1: [0.95376486 0.56521739].\n"
          ]
        },
        {
          "output_type": "stream",
          "name": "stderr",
          "text": [
            "Epoch 3: 100%|██████████| 210/210 [01:09<00:00,  3.02batch/s, loss=0.00551]\n"
          ]
        },
        {
          "output_type": "stream",
          "name": "stdout",
          "text": [
            "Epoch: 3. Loss: 32.5631. Dev Acc: 0.7928. Dev Precision [0.96421053 0.432     ]. Dev Recall: [0.90633245 0.67924528]. Dev F1: [0.93437606 0.52811736].\n"
          ]
        },
        {
          "output_type": "stream",
          "name": "stderr",
          "text": [
            "Epoch 4: 100%|██████████| 210/210 [01:09<00:00,  3.02batch/s, loss=0.0135]\n"
          ]
        },
        {
          "output_type": "stream",
          "name": "stdout",
          "text": [
            "Epoch: 4. Loss: 21.0085. Dev Acc: 0.7851. Dev Precision [0.9602961  0.52910053]. Dev Recall: [0.94129288 0.62893082]. Dev F1: [0.95069953 0.57471264].\n"
          ]
        },
        {
          "output_type": "stream",
          "name": "stderr",
          "text": [
            "Epoch 5: 100%|██████████| 210/210 [01:09<00:00,  3.03batch/s, loss=0.372]\n"
          ]
        },
        {
          "output_type": "stream",
          "name": "stdout",
          "text": [
            "Epoch: 5. Loss: 17.1435. Dev Acc: 0.7898. Dev Precision [0.96146045 0.52040816]. Dev Recall: [0.93799472 0.64150943]. Dev F1: [0.94958264 0.57464789].\n"
          ]
        },
        {
          "output_type": "stream",
          "name": "stderr",
          "text": [
            "Epoch 6: 100%|██████████| 210/210 [01:09<00:00,  3.03batch/s, loss=0.00828]\n"
          ]
        },
        {
          "output_type": "stream",
          "name": "stdout",
          "text": [
            "Epoch: 6. Loss: 12.4905. Dev Acc: 0.7889. Dev Precision [0.96099529 0.53723404]. Dev Recall: [0.94261214 0.63522013]. Dev F1: [0.95171495 0.58213256].\n"
          ]
        },
        {
          "output_type": "stream",
          "name": "stderr",
          "text": [
            "Epoch 7: 100%|██████████| 210/210 [01:09<00:00,  3.02batch/s, loss=0.00193]\n"
          ]
        },
        {
          "output_type": "stream",
          "name": "stdout",
          "text": [
            "Epoch: 7. Loss: 7.7198. Dev Acc: 0.7863. Dev Precision [0.96       0.56571429]. Dev Recall: [0.94986807 0.62264151]. Dev F1: [0.95490716 0.59281437].\n"
          ]
        },
        {
          "output_type": "stream",
          "name": "stderr",
          "text": [
            "Epoch 8: 100%|██████████| 210/210 [01:09<00:00,  3.03batch/s, loss=0.00159]\n"
          ]
        },
        {
          "output_type": "stream",
          "name": "stdout",
          "text": [
            "Epoch: 8. Loss: 6.0438. Dev Acc: 0.7644. Dev Precision [0.95520422 0.57961783]. Dev Recall: [0.95646438 0.57232704]. Dev F1: [0.95583388 0.57594937].\n"
          ]
        },
        {
          "output_type": "stream",
          "name": "stderr",
          "text": [
            "Epoch 9: 100%|██████████| 210/210 [01:09<00:00,  3.03batch/s, loss=0.00124]\n"
          ]
        },
        {
          "output_type": "stream",
          "name": "stdout",
          "text": [
            "Epoch: 9. Loss: 4.7252. Dev Acc: 0.7636. Dev Precision [0.95478375 0.60402685]. Dev Recall: [0.96108179 0.56603774]. Dev F1: [0.95792242 0.58441558].\n"
          ]
        },
        {
          "output_type": "stream",
          "name": "stderr",
          "text": [
            "Epoch 10: 100%|██████████| 210/210 [01:09<00:00,  3.03batch/s, loss=0.00114]\n"
          ]
        },
        {
          "output_type": "stream",
          "name": "stdout",
          "text": [
            "Epoch: 10. Loss: 6.4560. Dev Acc: 0.7573. Dev Precision [0.95353403 0.59863946]. Dev Recall: [0.96108179 0.55345912]. Dev F1: [0.95729304 0.5751634 ].\n",
            "=====lr = 1e-05. len = 64=====\n",
            "[103.100386030972, 49.72510198317468, 32.56312507065013, 21.008514070883393, 17.143533813767135, 12.490485318936408, 7.71980743505992, 6.043819535174407, 4.725153329083696, 6.4559818355483]\n",
            "[array([0.91611092, 0.52295409]), array([0.95376486, 0.56521739]), array([0.93437606, 0.52811736]), array([0.95069953, 0.57471264]), array([0.94958264, 0.57464789]), array([0.95171495, 0.58213256]), array([0.95490716, 0.59281437]), array([0.95583388, 0.57594937]), array([0.95792242, 0.58441558]), array([0.95729304, 0.5751634 ])]\n"
          ]
        },
        {
          "output_type": "stream",
          "name": "stderr",
          "text": [
            "Some weights of the model checkpoint at microsoft/deberta-v3-base were not used when initializing DebertaV2ForSequenceClassification: ['mask_predictions.classifier.bias', 'lm_predictions.lm_head.LayerNorm.bias', 'mask_predictions.classifier.weight', 'lm_predictions.lm_head.bias', 'mask_predictions.LayerNorm.weight', 'lm_predictions.lm_head.dense.bias', 'mask_predictions.dense.weight', 'lm_predictions.lm_head.LayerNorm.weight', 'lm_predictions.lm_head.dense.weight', 'mask_predictions.dense.bias', 'mask_predictions.LayerNorm.bias']\n",
            "- This IS expected if you are initializing DebertaV2ForSequenceClassification from the checkpoint of a model trained on another task or with another architecture (e.g. initializing a BertForSequenceClassification model from a BertForPreTraining model).\n",
            "- This IS NOT expected if you are initializing DebertaV2ForSequenceClassification from the checkpoint of a model that you expect to be exactly identical (initializing a BertForSequenceClassification model from a BertForSequenceClassification model).\n",
            "Some weights of DebertaV2ForSequenceClassification were not initialized from the model checkpoint at microsoft/deberta-v3-base and are newly initialized: ['classifier.weight', 'pooler.dense.weight', 'classifier.bias', 'pooler.dense.bias']\n",
            "You should probably TRAIN this model on a down-stream task to be able to use it for predictions and inference.\n",
            "Epoch 1: 100%|██████████| 210/210 [01:09<00:00,  3.02batch/s, loss=0.103]\n"
          ]
        },
        {
          "output_type": "stream",
          "name": "stdout",
          "text": [
            "Epoch: 1. Loss: 91.8927. Dev Acc: 0.7058. Dev Precision [0.94326241 0.57258065]. Dev Recall: [0.96503958 0.44654088]. Dev F1: [0.95402674 0.50176678].\n"
          ]
        },
        {
          "output_type": "stream",
          "name": "stderr",
          "text": [
            "Epoch 2: 100%|██████████| 210/210 [01:09<00:00,  3.03batch/s, loss=0.0103]\n"
          ]
        },
        {
          "output_type": "stream",
          "name": "stdout",
          "text": [
            "Epoch: 2. Loss: 36.1696. Dev Acc: 0.7561. Dev Precision [0.95376486 0.55279503]. Dev Recall: [0.9525066  0.55974843]. Dev F1: [0.95313531 0.55625   ].\n"
          ]
        },
        {
          "output_type": "stream",
          "name": "stderr",
          "text": [
            "Epoch 3: 100%|██████████| 210/210 [01:09<00:00,  3.03batch/s, loss=0.0862]\n"
          ]
        },
        {
          "output_type": "stream",
          "name": "stdout",
          "text": [
            "Epoch: 3. Loss: 21.3924. Dev Acc: 0.7593. Dev Precision [0.95439524 0.55555556]. Dev Recall: [0.9525066  0.56603774]. Dev F1: [0.95344998 0.56074766].\n"
          ]
        },
        {
          "output_type": "stream",
          "name": "stderr",
          "text": [
            "Epoch 4: 100%|██████████| 210/210 [01:09<00:00,  3.03batch/s, loss=0.0032]\n"
          ]
        },
        {
          "output_type": "stream",
          "name": "stdout",
          "text": [
            "Epoch: 4. Loss: 10.4613. Dev Acc: 0.7255. Dev Precision [0.94672657 0.64957265]. Dev Recall: [0.97295515 0.47798742]. Dev F1: [0.95966168 0.55072464].\n"
          ]
        },
        {
          "output_type": "stream",
          "name": "stderr",
          "text": [
            "Epoch 5: 100%|██████████| 210/210 [01:09<00:00,  3.03batch/s, loss=0.00129]\n"
          ]
        },
        {
          "output_type": "stream",
          "name": "stdout",
          "text": [
            "Epoch: 5. Loss: 7.3227. Dev Acc: 0.7238. Dev Precision [0.94655505 0.62295082]. Dev Recall: [0.96965699 0.47798742]. Dev F1: [0.95796676 0.54092527].\n"
          ]
        },
        {
          "output_type": "stream",
          "name": "stderr",
          "text": [
            "Epoch 6: 100%|██████████| 210/210 [01:09<00:00,  3.02batch/s, loss=0.000493]\n"
          ]
        },
        {
          "output_type": "stream",
          "name": "stdout",
          "text": [
            "Epoch: 6. Loss: 4.0110. Dev Acc: 0.7759. Dev Precision [0.95875592 0.5       ]. Dev Recall: [0.9353562 0.6163522]. Dev F1: [0.94691152 0.55211268].\n"
          ]
        },
        {
          "output_type": "stream",
          "name": "stderr",
          "text": [
            "Epoch 7: 100%|██████████| 210/210 [01:09<00:00,  3.03batch/s, loss=0.00044]\n"
          ]
        },
        {
          "output_type": "stream",
          "name": "stdout",
          "text": [
            "Epoch: 7. Loss: 2.3778. Dev Acc: 0.6874. Dev Precision [0.93899371 0.72941176]. Dev Recall: [0.9848285  0.38993711]. Dev F1: [0.9613651  0.50819672].\n"
          ]
        },
        {
          "output_type": "stream",
          "name": "stderr",
          "text": [
            "Epoch 8: 100%|██████████| 210/210 [01:09<00:00,  3.03batch/s, loss=0.000296]\n"
          ]
        },
        {
          "output_type": "stream",
          "name": "stdout",
          "text": [
            "Epoch: 8. Loss: 1.4395. Dev Acc: 0.7242. Dev Precision [0.94658945 0.62809917]. Dev Recall: [0.97031662 0.47798742]. Dev F1: [0.95830619 0.54285714].\n"
          ]
        },
        {
          "output_type": "stream",
          "name": "stderr",
          "text": [
            "Epoch 9: 100%|██████████| 210/210 [01:09<00:00,  3.03batch/s, loss=0.00652]\n"
          ]
        },
        {
          "output_type": "stream",
          "name": "stdout",
          "text": [
            "Epoch: 9. Loss: 1.4260. Dev Acc: 0.6945. Dev Precision [0.94050633 0.68421053]. Dev Recall: [0.98021108 0.40880503]. Dev F1: [0.95994832 0.51181102].\n"
          ]
        },
        {
          "output_type": "stream",
          "name": "stderr",
          "text": [
            "Epoch 10: 100%|██████████| 210/210 [01:09<00:00,  3.03batch/s, loss=0.000305]\n"
          ]
        },
        {
          "output_type": "stream",
          "name": "stdout",
          "text": [
            "Epoch: 10. Loss: 1.2488. Dev Acc: 0.6889. Dev Precision [0.93939394 0.69230769]. Dev Recall: [0.98153034 0.39622642]. Dev F1: [0.96  0.504].\n",
            "=====lr = 2e-05. len = 64=====\n",
            "[91.89265914261341, 36.16959291417152, 21.392370030283928, 10.461311155115254, 7.322658411168959, 4.011033280083211, 2.3778219460655237, 1.4395285752980271, 1.4260395916353446, 1.2488295767543605]\n",
            "[array([0.95402674, 0.50176678]), array([0.95313531, 0.55625   ]), array([0.95344998, 0.56074766]), array([0.95966168, 0.55072464]), array([0.95796676, 0.54092527]), array([0.94691152, 0.55211268]), array([0.9613651 , 0.50819672]), array([0.95830619, 0.54285714]), array([0.95994832, 0.51181102]), array([0.96 , 0.504])]\n"
          ]
        },
        {
          "output_type": "stream",
          "name": "stderr",
          "text": [
            "Some weights of the model checkpoint at microsoft/deberta-v3-base were not used when initializing DebertaV2ForSequenceClassification: ['mask_predictions.classifier.bias', 'lm_predictions.lm_head.LayerNorm.bias', 'mask_predictions.classifier.weight', 'lm_predictions.lm_head.bias', 'mask_predictions.LayerNorm.weight', 'lm_predictions.lm_head.dense.bias', 'mask_predictions.dense.weight', 'lm_predictions.lm_head.LayerNorm.weight', 'lm_predictions.lm_head.dense.weight', 'mask_predictions.dense.bias', 'mask_predictions.LayerNorm.bias']\n",
            "- This IS expected if you are initializing DebertaV2ForSequenceClassification from the checkpoint of a model trained on another task or with another architecture (e.g. initializing a BertForSequenceClassification model from a BertForPreTraining model).\n",
            "- This IS NOT expected if you are initializing DebertaV2ForSequenceClassification from the checkpoint of a model that you expect to be exactly identical (initializing a BertForSequenceClassification model from a BertForSequenceClassification model).\n",
            "Some weights of DebertaV2ForSequenceClassification were not initialized from the model checkpoint at microsoft/deberta-v3-base and are newly initialized: ['classifier.weight', 'pooler.dense.weight', 'classifier.bias', 'pooler.dense.bias']\n",
            "You should probably TRAIN this model on a down-stream task to be able to use it for predictions and inference.\n",
            "Epoch 1: 100%|██████████| 210/210 [01:54<00:00,  1.83batch/s, loss=0.356]\n"
          ]
        },
        {
          "output_type": "stream",
          "name": "stdout",
          "text": [
            "Epoch: 1. Loss: 118.7273. Dev Acc: 0.8258. Dev Precision [0.98543273 0.27952756]. Dev Recall: [0.7585752  0.89308176]. Dev F1: [0.85724935 0.42578711].\n"
          ]
        },
        {
          "output_type": "stream",
          "name": "stderr",
          "text": [
            "Epoch 2: 100%|██████████| 210/210 [01:54<00:00,  1.84batch/s, loss=0.0346]\n"
          ]
        },
        {
          "output_type": "stream",
          "name": "stdout",
          "text": [
            "Epoch: 2. Loss: 61.5491. Dev Acc: 0.8363. Dev Precision [0.97426733 0.44565217]. Dev Recall: [0.89907652 0.77358491]. Dev F1: [0.93516295 0.56551724].\n"
          ]
        },
        {
          "output_type": "stream",
          "name": "stderr",
          "text": [
            "Epoch 3: 100%|██████████| 210/210 [01:54<00:00,  1.83batch/s, loss=0.13]\n"
          ]
        },
        {
          "output_type": "stream",
          "name": "stdout",
          "text": [
            "Epoch: 3. Loss: 39.6954. Dev Acc: 0.8097. Dev Precision [0.96815287 0.4351145 ]. Dev Recall: [0.90237467 0.71698113]. Dev F1: [0.9341072 0.5415677].\n"
          ]
        },
        {
          "output_type": "stream",
          "name": "stderr",
          "text": [
            "Epoch 4: 100%|██████████| 210/210 [01:54<00:00,  1.83batch/s, loss=0.477]\n"
          ]
        },
        {
          "output_type": "stream",
          "name": "stdout",
          "text": [
            "Epoch: 4. Loss: 28.6793. Dev Acc: 0.8289. Dev Precision [0.97332372 0.42361111]. Dev Recall: [0.89050132 0.7672956 ]. Dev F1: [0.93007234 0.5458613 ].\n"
          ]
        },
        {
          "output_type": "stream",
          "name": "stderr",
          "text": [
            "Epoch 5: 100%|██████████| 210/210 [01:54<00:00,  1.83batch/s, loss=0.00863]\n"
          ]
        },
        {
          "output_type": "stream",
          "name": "stdout",
          "text": [
            "Epoch: 5. Loss: 21.2400. Dev Acc: 0.8098. Dev Precision [0.96678201 0.4826087 ]. Dev Recall: [0.92150396 0.69811321]. Dev F1: [0.94360014 0.57069409].\n"
          ]
        },
        {
          "output_type": "stream",
          "name": "stderr",
          "text": [
            "Epoch 6: 100%|██████████| 210/210 [01:54<00:00,  1.84batch/s, loss=0.00619]\n"
          ]
        },
        {
          "output_type": "stream",
          "name": "stdout",
          "text": [
            "Epoch: 6. Loss: 17.2139. Dev Acc: 0.7995. Dev Precision [0.96428571 0.48858447]. Dev Recall: [0.92612137 0.67295597]. Dev F1: [0.9448183  0.56613757].\n"
          ]
        },
        {
          "output_type": "stream",
          "name": "stderr",
          "text": [
            "Epoch 7: 100%|██████████| 210/210 [01:54<00:00,  1.84batch/s, loss=0.00432]\n"
          ]
        },
        {
          "output_type": "stream",
          "name": "stdout",
          "text": [
            "Epoch: 7. Loss: 12.2609. Dev Acc: 0.7972. Dev Precision [0.96326531 0.51219512]. Dev Recall: [0.93403694 0.66037736]. Dev F1: [0.94842599 0.57692308].\n"
          ]
        },
        {
          "output_type": "stream",
          "name": "stderr",
          "text": [
            "Epoch 8: 100%|██████████| 210/210 [01:55<00:00,  1.82batch/s, loss=0.403]\n"
          ]
        },
        {
          "output_type": "stream",
          "name": "stdout",
          "text": [
            "Epoch: 8. Loss: 9.3972. Dev Acc: 0.7926. Dev Precision [0.96208531 0.52020202]. Dev Recall: [0.93733509 0.64779874]. Dev F1: [0.94954895 0.57703081].\n"
          ]
        },
        {
          "output_type": "stream",
          "name": "stderr",
          "text": [
            "Epoch 9: 100%|██████████| 210/210 [01:55<00:00,  1.82batch/s, loss=0.00286]\n"
          ]
        },
        {
          "output_type": "stream",
          "name": "stdout",
          "text": [
            "Epoch: 9. Loss: 9.7261. Dev Acc: 0.7912. Dev Precision [0.96198235 0.50990099]. Dev Recall: [0.93469657 0.64779874]. Dev F1: [0.94814319 0.57063712].\n"
          ]
        },
        {
          "output_type": "stream",
          "name": "stderr",
          "text": [
            "Epoch 10: 100%|██████████| 210/210 [01:53<00:00,  1.84batch/s, loss=0.00338]\n"
          ]
        },
        {
          "output_type": "stream",
          "name": "stdout",
          "text": [
            "Epoch: 10. Loss: 10.0925. Dev Acc: 0.7945. Dev Precision [0.96223871 0.53645833]. Dev Recall: [0.94129288 0.64779874]. Dev F1: [0.95165055 0.58689459].\n",
            "=====lr = 5e-06. len = 128=====\n",
            "[118.72725862264633, 61.54908676818013, 39.695449098944664, 28.67934787273407, 21.239957408048213, 17.21394068840891, 12.260856427717954, 9.397201264742762, 9.726072393357754, 10.092548036482185]\n",
            "[array([0.85724935, 0.42578711]), array([0.93516295, 0.56551724]), array([0.9341072, 0.5415677]), array([0.93007234, 0.5458613 ]), array([0.94360014, 0.57069409]), array([0.9448183 , 0.56613757]), array([0.94842599, 0.57692308]), array([0.94954895, 0.57703081]), array([0.94814319, 0.57063712]), array([0.95165055, 0.58689459])]\n"
          ]
        },
        {
          "output_type": "stream",
          "name": "stderr",
          "text": [
            "Some weights of the model checkpoint at microsoft/deberta-v3-base were not used when initializing DebertaV2ForSequenceClassification: ['mask_predictions.classifier.bias', 'lm_predictions.lm_head.LayerNorm.bias', 'mask_predictions.classifier.weight', 'lm_predictions.lm_head.bias', 'mask_predictions.LayerNorm.weight', 'lm_predictions.lm_head.dense.bias', 'mask_predictions.dense.weight', 'lm_predictions.lm_head.LayerNorm.weight', 'lm_predictions.lm_head.dense.weight', 'mask_predictions.dense.bias', 'mask_predictions.LayerNorm.bias']\n",
            "- This IS expected if you are initializing DebertaV2ForSequenceClassification from the checkpoint of a model trained on another task or with another architecture (e.g. initializing a BertForSequenceClassification model from a BertForPreTraining model).\n",
            "- This IS NOT expected if you are initializing DebertaV2ForSequenceClassification from the checkpoint of a model that you expect to be exactly identical (initializing a BertForSequenceClassification model from a BertForSequenceClassification model).\n",
            "Some weights of DebertaV2ForSequenceClassification were not initialized from the model checkpoint at microsoft/deberta-v3-base and are newly initialized: ['classifier.weight', 'pooler.dense.weight', 'classifier.bias', 'pooler.dense.bias']\n",
            "You should probably TRAIN this model on a down-stream task to be able to use it for predictions and inference.\n",
            "Epoch 1: 100%|██████████| 210/210 [01:54<00:00,  1.83batch/s, loss=0.0952]\n"
          ]
        },
        {
          "output_type": "stream",
          "name": "stdout",
          "text": [
            "Epoch: 1. Loss: 109.5174. Dev Acc: 0.8062. Dev Precision [0.9683908  0.40636042]. Dev Recall: [0.88918206 0.72327044]. Dev F1: [0.92709766 0.52036199].\n"
          ]
        },
        {
          "output_type": "stream",
          "name": "stderr",
          "text": [
            "Epoch 2: 100%|██████████| 210/210 [01:53<00:00,  1.85batch/s, loss=0.0113]\n"
          ]
        },
        {
          "output_type": "stream",
          "name": "stdout",
          "text": [
            "Epoch: 2. Loss: 47.9863. Dev Acc: 0.8214. Dev Precision [0.96940195 0.48523207]. Dev Recall: [0.91952507 0.72327044]. Dev F1: [0.94380501 0.58080808].\n"
          ]
        },
        {
          "output_type": "stream",
          "name": "stderr",
          "text": [
            "Epoch 3: 100%|██████████| 210/210 [01:53<00:00,  1.84batch/s, loss=0.395]\n"
          ]
        },
        {
          "output_type": "stream",
          "name": "stdout",
          "text": [
            "Epoch: 3. Loss: 26.3104. Dev Acc: 0.7796. Dev Precision [0.9586942  0.55747126]. Dev Recall: [0.94920844 0.61006289]. Dev F1: [0.95392774 0.58258258].\n"
          ]
        },
        {
          "output_type": "stream",
          "name": "stderr",
          "text": [
            "Epoch 4: 100%|██████████| 210/210 [01:54<00:00,  1.84batch/s, loss=0.00482]\n"
          ]
        },
        {
          "output_type": "stream",
          "name": "stdout",
          "text": [
            "Epoch: 4. Loss: 17.6115. Dev Acc: 0.8041. Dev Precision [0.9637827  0.57065217]. Dev Recall: [0.94788918 0.66037736]. Dev F1: [0.95576987 0.6122449 ].\n"
          ]
        },
        {
          "output_type": "stream",
          "name": "stderr",
          "text": [
            "Epoch 5: 100%|██████████| 210/210 [01:53<00:00,  1.84batch/s, loss=0.00415]\n"
          ]
        },
        {
          "output_type": "stream",
          "name": "stdout",
          "text": [
            "Epoch: 5. Loss: 11.6488. Dev Acc: 0.7503. Dev Precision [0.95222513 0.58503401]. Dev Recall: [0.95976253 0.5408805 ]. Dev F1: [0.95597898 0.5620915 ].\n"
          ]
        },
        {
          "output_type": "stream",
          "name": "stderr",
          "text": [
            "Epoch 6: 100%|██████████| 210/210 [01:54<00:00,  1.83batch/s, loss=0.0013]\n"
          ]
        },
        {
          "output_type": "stream",
          "name": "stdout",
          "text": [
            "Epoch: 6. Loss: 6.9737. Dev Acc: 0.7624. Dev Precision [0.9543379  0.62676056]. Dev Recall: [0.96503958 0.55974843]. Dev F1: [0.9596589  0.59136213].\n"
          ]
        },
        {
          "output_type": "stream",
          "name": "stderr",
          "text": [
            "Epoch 7: 100%|██████████| 210/210 [01:54<00:00,  1.84batch/s, loss=0.00147]\n"
          ]
        },
        {
          "output_type": "stream",
          "name": "stdout",
          "text": [
            "Epoch: 7. Loss: 6.7936. Dev Acc: 0.7346. Dev Precision [0.94851995 0.65289256]. Dev Recall: [0.97229551 0.49685535]. Dev F1: [0.96026059 0.56428571].\n"
          ]
        },
        {
          "output_type": "stream",
          "name": "stderr",
          "text": [
            "Epoch 8: 100%|██████████| 210/210 [01:54<00:00,  1.83batch/s, loss=0.000524]\n"
          ]
        },
        {
          "output_type": "stream",
          "name": "stdout",
          "text": [
            "Epoch: 8. Loss: 3.4845. Dev Acc: 0.7672. Dev Precision [0.95510735 0.65217391]. Dev Recall: [0.96833773 0.56603774]. Dev F1: [0.96167704 0.60606061].\n"
          ]
        },
        {
          "output_type": "stream",
          "name": "stderr",
          "text": [
            "Epoch 9: 100%|██████████| 210/210 [01:54<00:00,  1.83batch/s, loss=0.000587]\n"
          ]
        },
        {
          "output_type": "stream",
          "name": "stdout",
          "text": [
            "Epoch: 9. Loss: 2.2303. Dev Acc: 0.7753. Dev Precision [0.95686275 0.64137931]. Dev Recall: [0.96569921 0.58490566]. Dev F1: [0.96126067 0.61184211].\n"
          ]
        },
        {
          "output_type": "stream",
          "name": "stderr",
          "text": [
            "Epoch 10: 100%|██████████| 210/210 [01:54<00:00,  1.84batch/s, loss=0.000715]\n"
          ]
        },
        {
          "output_type": "stream",
          "name": "stdout",
          "text": [
            "Epoch: 10. Loss: 3.4923. Dev Acc: 0.7601. Dev Precision [0.95345831 0.6796875 ]. Dev Recall: [0.97295515 0.54716981]. Dev F1: [0.96310806 0.60627178].\n",
            "=====lr = 1e-05. len = 128=====\n",
            "[109.51741995662451, 47.98634082451463, 26.310420220717788, 17.61151347728446, 11.64875642163679, 6.973716214997694, 6.793632844346575, 3.4844888722873293, 2.230335520755034, 3.4922995018132497]\n",
            "[array([0.92709766, 0.52036199]), array([0.94380501, 0.58080808]), array([0.95392774, 0.58258258]), array([0.95576987, 0.6122449 ]), array([0.95597898, 0.5620915 ]), array([0.9596589 , 0.59136213]), array([0.96026059, 0.56428571]), array([0.96167704, 0.60606061]), array([0.96126067, 0.61184211]), array([0.96310806, 0.60627178])]\n"
          ]
        },
        {
          "output_type": "stream",
          "name": "stderr",
          "text": [
            "Some weights of the model checkpoint at microsoft/deberta-v3-base were not used when initializing DebertaV2ForSequenceClassification: ['mask_predictions.classifier.bias', 'lm_predictions.lm_head.LayerNorm.bias', 'mask_predictions.classifier.weight', 'lm_predictions.lm_head.bias', 'mask_predictions.LayerNorm.weight', 'lm_predictions.lm_head.dense.bias', 'mask_predictions.dense.weight', 'lm_predictions.lm_head.LayerNorm.weight', 'lm_predictions.lm_head.dense.weight', 'mask_predictions.dense.bias', 'mask_predictions.LayerNorm.bias']\n",
            "- This IS expected if you are initializing DebertaV2ForSequenceClassification from the checkpoint of a model trained on another task or with another architecture (e.g. initializing a BertForSequenceClassification model from a BertForPreTraining model).\n",
            "- This IS NOT expected if you are initializing DebertaV2ForSequenceClassification from the checkpoint of a model that you expect to be exactly identical (initializing a BertForSequenceClassification model from a BertForSequenceClassification model).\n",
            "Some weights of DebertaV2ForSequenceClassification were not initialized from the model checkpoint at microsoft/deberta-v3-base and are newly initialized: ['classifier.weight', 'pooler.dense.weight', 'classifier.bias', 'pooler.dense.bias']\n",
            "You should probably TRAIN this model on a down-stream task to be able to use it for predictions and inference.\n",
            "Epoch 1: 100%|██████████| 210/210 [01:53<00:00,  1.85batch/s, loss=0.505]\n"
          ]
        },
        {
          "output_type": "stream",
          "name": "stdout",
          "text": [
            "Epoch: 1. Loss: 88.2973. Dev Acc: 0.8466. Dev Precision [0.97805413 0.41883117]. Dev Recall: [0.88192612 0.81132075]. Dev F1: [0.92750607 0.55246253].\n"
          ]
        },
        {
          "output_type": "stream",
          "name": "stderr",
          "text": [
            "Epoch 2: 100%|██████████| 210/210 [01:54<00:00,  1.84batch/s, loss=0.0147]\n"
          ]
        },
        {
          "output_type": "stream",
          "name": "stdout",
          "text": [
            "Epoch: 2. Loss: 35.8426. Dev Acc: 0.8475. Dev Precision [0.97866078 0.41139241]. Dev Recall: [0.87730871 0.81761006]. Dev F1: [0.92521739 0.54736842].\n"
          ]
        },
        {
          "output_type": "stream",
          "name": "stderr",
          "text": [
            "Epoch 3: 100%|██████████| 210/210 [01:55<00:00,  1.82batch/s, loss=0.387]\n"
          ]
        },
        {
          "output_type": "stream",
          "name": "stdout",
          "text": [
            "Epoch: 3. Loss: 21.4273. Dev Acc: 0.7924. Dev Precision [0.96166779 0.54255319]. Dev Recall: [0.94327177 0.64150943]. Dev F1: [0.95238095 0.58789625].\n"
          ]
        },
        {
          "output_type": "stream",
          "name": "stderr",
          "text": [
            "Epoch 4: 100%|██████████| 210/210 [01:54<00:00,  1.83batch/s, loss=0.00206]\n"
          ]
        },
        {
          "output_type": "stream",
          "name": "stdout",
          "text": [
            "Epoch: 4. Loss: 13.8625. Dev Acc: 0.8411. Dev Precision [0.97401685 0.48605578]. Dev Recall: [0.91490765 0.7672956 ]. Dev F1: [0.94353741 0.59512195].\n"
          ]
        },
        {
          "output_type": "stream",
          "name": "stderr",
          "text": [
            "Epoch 5: 100%|██████████| 210/210 [01:53<00:00,  1.85batch/s, loss=0.00213]\n"
          ]
        },
        {
          "output_type": "stream",
          "name": "stdout",
          "text": [
            "Epoch: 5. Loss: 11.0467. Dev Acc: 0.7122. Dev Precision [0.94370651 0.74468085]. Dev Recall: [0.98416887 0.44025157]. Dev F1: [0.96351308 0.55335968].\n"
          ]
        },
        {
          "output_type": "stream",
          "name": "stderr",
          "text": [
            "Epoch 6: 100%|██████████| 210/210 [01:54<00:00,  1.83batch/s, loss=0.472]\n"
          ]
        },
        {
          "output_type": "stream",
          "name": "stdout",
          "text": [
            "Epoch: 6. Loss: 7.1324. Dev Acc: 0.7697. Dev Precision [0.95567145 0.64539007]. Dev Recall: [0.96701847 0.57232704]. Dev F1: [0.96131148 0.60666667].\n"
          ]
        },
        {
          "output_type": "stream",
          "name": "stderr",
          "text": [
            "Epoch 7: 100%|██████████| 210/210 [01:54<00:00,  1.84batch/s, loss=0.000501]\n"
          ]
        },
        {
          "output_type": "stream",
          "name": "stdout",
          "text": [
            "Epoch: 7. Loss: 3.2468. Dev Acc: 0.7352. Dev Precision [0.94858612 0.66386555]. Dev Recall: [0.97361478 0.49685535]. Dev F1: [0.9609375  0.56834532].\n"
          ]
        },
        {
          "output_type": "stream",
          "name": "stderr",
          "text": [
            "Epoch 8: 100%|██████████| 210/210 [01:53<00:00,  1.85batch/s, loss=0.000387]\n"
          ]
        },
        {
          "output_type": "stream",
          "name": "stdout",
          "text": [
            "Epoch: 8. Loss: 2.7236. Dev Acc: 0.7352. Dev Precision [0.94858612 0.66386555]. Dev Recall: [0.97361478 0.49685535]. Dev F1: [0.9609375  0.56834532].\n"
          ]
        },
        {
          "output_type": "stream",
          "name": "stderr",
          "text": [
            "Epoch 9: 100%|██████████| 210/210 [01:54<00:00,  1.83batch/s, loss=0.000201]\n"
          ]
        },
        {
          "output_type": "stream",
          "name": "stdout",
          "text": [
            "Epoch: 9. Loss: 1.6909. Dev Acc: 0.7222. Dev Precision [0.94582537 0.69811321]. Dev Recall: [0.97889182 0.46540881]. Dev F1: [0.96207455 0.55849057].\n"
          ]
        },
        {
          "output_type": "stream",
          "name": "stderr",
          "text": [
            "Epoch 10: 100%|██████████| 210/210 [01:54<00:00,  1.84batch/s, loss=0.000393]\n"
          ]
        },
        {
          "output_type": "stream",
          "name": "stdout",
          "text": [
            "Epoch: 10. Loss: 0.5327. Dev Acc: 0.7356. Dev Precision [0.94861914 0.66949153]. Dev Recall: [0.97427441 0.49685535]. Dev F1: [0.96127563 0.57039711].\n",
            "=====lr = 2e-05. len = 128=====\n",
            "[88.29729498177767, 35.84255663584918, 21.427270451094955, 13.862536373198964, 11.046712195733562, 7.132410555961542, 3.2467917783069424, 2.7235541605041362, 1.6909095276350854, 0.5327352400927339]\n",
            "[array([0.92750607, 0.55246253]), array([0.92521739, 0.54736842]), array([0.95238095, 0.58789625]), array([0.94353741, 0.59512195]), array([0.96351308, 0.55335968]), array([0.96131148, 0.60666667]), array([0.9609375 , 0.56834532]), array([0.9609375 , 0.56834532]), array([0.96207455, 0.55849057]), array([0.96127563, 0.57039711])]\n"
          ]
        }
      ]
    },
    {
      "cell_type": "code",
      "source": [
        "plt.figure(dpi=100)\n",
        "for i, dev_f1s in enumerate(all_train_losses):\n",
        "    a, b = divmod(i, len(lrs))\n",
        "    plt.plot(dev_f1s, label=f\"lr = {lrs[b]}; max_len = {tokenizer_max_lens[a]}\")\n",
        "plt.legend()\n",
        "plt.title(\"Train Losses\")\n",
        "plt.show()"
      ],
      "metadata": {
        "colab": {
          "base_uri": "https://localhost:8080/",
          "height": 385
        },
        "id": "qmlVX1a2Vwke",
        "outputId": "37fe06ff-d469-42fe-ae99-f334bd048ffd"
      },
      "execution_count": null,
      "outputs": [
        {
          "output_type": "display_data",
          "data": {
            "image/png": "[encoded data removed]",
            "text/plain": [
              "<Figure size 600x400 with 1 Axes>"
            ]
          },
          "metadata": {
            "needs_background": "light"
          }
        }
      ]
    },
    {
      "cell_type": "code",
      "source": [
        "plt.figure(dpi=100)\n",
        "for i, dev_f1s in enumerate(all_dev_f1s):\n",
        "    a, b = divmod(i, len(lrs))\n",
        "    plt.plot(dev_f1s, label=f\"lr = {lrs[b]}; max_len = {tokenizer_max_lens[a]}\")\n",
        "plt.legend()\n",
        "plt.title(\"Positive F1 (Internal Dev)\")\n",
        "plt.show()"
      ],
      "metadata": {
        "colab": {
          "base_uri": "https://localhost:8080/",
          "height": 385
        },
        "id": "xHpxfFq4Vsts",
        "outputId": "7a776df0-d667-4c28-d14c-82f719a064fc"
      },
      "execution_count": null,
      "outputs": [
        {
          "output_type": "display_data",
          "data": {
            "image/png": "[encoded data removed]",
            "text/plain": [
              "<Figure size 600x400 with 1 Axes>"
            ]
          },
          "metadata": {
            "needs_background": "light"
          }
        }
      ]
    },
    {
      "cell_type": "code",
      "source": [
        "for i, dev_f1s in enumerate(all_dev_f1s):\n",
        "    a, b = divmod(i, len(lrs))\n",
        "    print(f\"lr = {lrs[b]}; max_len = {tokenizer_max_lens[a]}. Final Pos F1 (Internal Dev): {dev_f1s[-1]}\")"
      ],
      "metadata": {
        "colab": {
          "base_uri": "https://localhost:8080/"
        },
        "id": "o_Bhqi5ceqa7",
        "outputId": "7d4f2bba-219d-4637-96de-ce78f033f5ef"
      },
      "execution_count": null,
      "outputs": [
        {
          "output_type": "stream",
          "name": "stdout",
          "text": [
            "lr = 5e-06; max_len = 64. Final Pos F1 (Internal Dev): 0.5578947368421052\n",
            "lr = 1e-05; max_len = 64. Final Pos F1 (Internal Dev): 0.5751633986928104\n",
            "lr = 2e-05; max_len = 64. Final Pos F1 (Internal Dev): 0.5040000000000001\n",
            "lr = 5e-06; max_len = 128. Final Pos F1 (Internal Dev): 0.586894586894587\n",
            "lr = 1e-05; max_len = 128. Final Pos F1 (Internal Dev): 0.6062717770034842\n",
            "lr = 2e-05; max_len = 128. Final Pos F1 (Internal Dev): 0.5703971119133574\n"
          ]
        }
      ]
    },
    {
      "cell_type": "markdown",
      "source": [
        "## Weight Decay & Dropout Probability"
      ],
      "metadata": {
        "id": "AL7_f9yi3qiG"
      }
    },
    {
      "cell_type": "code",
      "source": [
        "BATCH_SIZE = 32 # fixed due to memory capacity\n",
        "EPOCHS = 10\n",
        "EPSILON = 1e-6  # same as HuggingFace default\n",
        "LEARNING_RATE = 1e-5\n",
        "MAX_LEN = 128\n",
        "weight_decays = [0.005, 0.01, 0.02]\n",
        "dropout_probs = [0.1, 0.2, 0.3]\n",
        "\n",
        "all_train_losses = []\n",
        "all_dev_f1s = []\n",
        "\n",
        "for w_decay in weight_decays:\n",
        "    for dropout_prob in dropout_probs:\n",
        "        model = CustomBERT(MODEL_NAME, dropout_prob=dropout_prob).to(device)\n",
        "        optimizer = AdamW(model.parameters(), lr=LEARNING_RATE, eps=EPSILON,\n",
        "                          weight_decay=w_decay)\n",
        "        train_losses, dev_f1s = run_train(train_df,\n",
        "                                          val_df,\n",
        "                                          model,\n",
        "                                          tokenizer,\n",
        "                                          optimizer,\n",
        "                                          BATCH_SIZE,\n",
        "                                          MAX_LEN,\n",
        "                                          epochs=EPOCHS)\n",
        "        all_train_losses.append(train_losses)\n",
        "        all_dev_f1s.append([dev[1] for dev in dev_f1s])\n",
        "\n",
        "        print(f'=====w_decay = {w_decay}. dropout_prob = {dropout_prob}=====')\n",
        "        print(train_losses)\n",
        "        print([dev[1] for dev in dev_f1s])\n",
        "        print('\\n')\n",
        "\n",
        "        with torch.no_grad():\n",
        "            torch.cuda.empty_cache()"
      ],
      "metadata": {
        "colab": {
          "base_uri": "https://localhost:8080/"
        },
        "id": "XpEe2vv5w37j",
        "outputId": "4ea74a49-c45a-4f9d-be2d-92caf0021c4c"
      },
      "execution_count": null,
      "outputs": [
        {
          "metadata": {
            "tags": null
          },
          "name": "stderr",
          "output_type": "stream",
          "text": [
            "Some weights of the model checkpoint at microsoft/deberta-v3-base were not used when initializing DebertaV2ForSequenceClassification: ['lm_predictions.lm_head.LayerNorm.weight', 'lm_predictions.lm_head.dense.weight', 'mask_predictions.dense.bias', 'mask_predictions.classifier.bias', 'lm_predictions.lm_head.dense.bias', 'mask_predictions.dense.weight', 'lm_predictions.lm_head.bias', 'mask_predictions.LayerNorm.bias', 'lm_predictions.lm_head.LayerNorm.bias', 'mask_predictions.classifier.weight', 'mask_predictions.LayerNorm.weight']\n",
            "- This IS expected if you are initializing DebertaV2ForSequenceClassification from the checkpoint of a model trained on another task or with another architecture (e.g. initializing a BertForSequenceClassification model from a BertForPreTraining model).\n",
            "- This IS NOT expected if you are initializing DebertaV2ForSequenceClassification from the checkpoint of a model that you expect to be exactly identical (initializing a BertForSequenceClassification model from a BertForSequenceClassification model).\n",
            "Some weights of DebertaV2ForSequenceClassification were not initialized from the model checkpoint at microsoft/deberta-v3-base and are newly initialized: ['classifier.weight', 'classifier.bias', 'pooler.dense.weight', 'pooler.dense.bias']\n",
            "You should probably TRAIN this model on a down-stream task to be able to use it for predictions and inference.\n",
            "Epoch 1: 100%|██████████| 210/210 [01:54<00:00,  1.84batch/s, loss=0.0742]\n"
          ]
        },
        {
          "metadata": {
            "tags": null
          },
          "name": "stdout",
          "output_type": "stream",
          "text": [
            "Epoch: 1. Loss: 99.1344. Dev Acc: 0.8304. Dev Precision [0.97289586 0.44322344]. Dev Recall: [0.89973615 0.76100629]. Dev F1: [0.93488691 0.56018519].\n"
          ]
        },
        {
          "metadata": {
            "tags": null
          },
          "name": "stderr",
          "output_type": "stream",
          "text": [
            "Epoch 2: 100%|██████████| 210/210 [01:54<00:00,  1.84batch/s, loss=0.226]\n"
          ]
        },
        {
          "metadata": {
            "tags": null
          },
          "name": "stdout",
          "output_type": "stream",
          "text": [
            "Epoch: 2. Loss: 43.3658. Dev Acc: 0.7974. Dev Precision [0.96369863 0.49302326]. Dev Recall: [0.92810026 0.66666667]. Dev F1: [0.94556452 0.56684492].\n"
          ]
        },
        {
          "metadata": {
            "tags": null
          },
          "name": "stderr",
          "output_type": "stream",
          "text": [
            "Epoch 3: 100%|██████████| 210/210 [01:54<00:00,  1.84batch/s, loss=0.0191]\n"
          ]
        },
        {
          "metadata": {
            "tags": null
          },
          "name": "stdout",
          "output_type": "stream",
          "text": [
            "Epoch: 3. Loss: 23.9175. Dev Acc: 0.7907. Dev Precision [0.96074518 0.58139535]. Dev Recall: [0.9525066  0.62893082]. Dev F1: [0.95660815 0.60422961].\n"
          ]
        },
        {
          "metadata": {
            "tags": null
          },
          "name": "stderr",
          "output_type": "stream",
          "text": [
            "Epoch 4: 100%|██████████| 210/210 [01:54<00:00,  1.84batch/s, loss=0.00484]\n"
          ]
        },
        {
          "metadata": {
            "tags": null
          },
          "name": "stdout",
          "output_type": "stream",
          "text": [
            "Epoch: 4. Loss: 17.8557. Dev Acc: 0.7856. Dev Precision [0.9599466  0.55932203]. Dev Recall: [0.94854881 0.62264151]. Dev F1: [0.95421367 0.58928571].\n"
          ]
        },
        {
          "metadata": {
            "tags": null
          },
          "name": "stderr",
          "output_type": "stream",
          "text": [
            "Epoch 5: 100%|██████████| 210/210 [01:54<00:00,  1.84batch/s, loss=0.00386]\n"
          ]
        },
        {
          "metadata": {
            "tags": null
          },
          "name": "stdout",
          "output_type": "stream",
          "text": [
            "Epoch: 5. Loss: 11.8623. Dev Acc: 0.8022. Dev Precision [0.96363636 0.55263158]. Dev Recall: [0.9439314  0.66037736]. Dev F1: [0.95368211 0.6017192 ].\n"
          ]
        },
        {
          "metadata": {
            "tags": null
          },
          "name": "stderr",
          "output_type": "stream",
          "text": [
            "Epoch 6: 100%|██████████| 210/210 [01:54<00:00,  1.83batch/s, loss=0.00265]\n"
          ]
        },
        {
          "metadata": {
            "tags": null
          },
          "name": "stdout",
          "output_type": "stream",
          "text": [
            "Epoch: 6. Loss: 7.1010. Dev Acc: 0.7846. Dev Precision [0.95986622 0.55      ]. Dev Recall: [0.94656992 0.62264151]. Dev F1: [0.9531717 0.5840708].\n"
          ]
        },
        {
          "metadata": {
            "tags": null
          },
          "name": "stderr",
          "output_type": "stream",
          "text": [
            "Epoch 7: 100%|██████████| 210/210 [01:54<00:00,  1.84batch/s, loss=0.00281]\n"
          ]
        },
        {
          "metadata": {
            "tags": null
          },
          "name": "stdout",
          "output_type": "stream",
          "text": [
            "Epoch: 7. Loss: 7.1619. Dev Acc: 0.7904. Dev Precision [0.96151249 0.5257732 ]. Dev Recall: [0.93931398 0.64150943]. Dev F1: [0.95028362 0.57790368].\n"
          ]
        },
        {
          "metadata": {
            "tags": null
          },
          "name": "stderr",
          "output_type": "stream",
          "text": [
            "Epoch 8: 100%|██████████| 210/210 [01:54<00:00,  1.84batch/s, loss=0.00343]\n"
          ]
        },
        {
          "metadata": {
            "tags": null
          },
          "name": "stdout",
          "output_type": "stream",
          "text": [
            "Epoch: 8. Loss: 6.4343. Dev Acc: 0.7755. Dev Precision [0.95797198 0.54545455]. Dev Recall: [0.94722955 0.60377358]. Dev F1: [0.95257048 0.57313433].\n"
          ]
        },
        {
          "metadata": {
            "tags": null
          },
          "name": "stderr",
          "output_type": "stream",
          "text": [
            "Epoch 9: 100%|██████████| 210/210 [01:53<00:00,  1.84batch/s, loss=0.00145]\n"
          ]
        },
        {
          "metadata": {
            "tags": null
          },
          "name": "stdout",
          "output_type": "stream",
          "text": [
            "Epoch: 9. Loss: 4.8365. Dev Acc: 0.7647. Dev Precision [0.95523371 0.58333333]. Dev Recall: [0.95712401 0.57232704]. Dev F1: [0.95617792 0.57777778].\n"
          ]
        },
        {
          "metadata": {
            "tags": null
          },
          "name": "stderr",
          "output_type": "stream",
          "text": [
            "Epoch 10: 100%|██████████| 210/210 [01:54<00:00,  1.84batch/s, loss=0.00117]\n"
          ]
        },
        {
          "metadata": {
            "tags": null
          },
          "name": "stdout",
          "output_type": "stream",
          "text": [
            "Epoch: 10. Loss: 3.4268. Dev Acc: 0.7613. Dev Precision [0.95457538 0.57692308]. Dev Recall: [0.95646438 0.56603774]. Dev F1: [0.95551895 0.57142857].\n",
            "=====w_decay = 0.005. dropout_prob = 0.1=====\n",
            "[99.13437408953905, 43.365826888009906, 23.917489276267588, 17.855662253918126, 11.862261099275202, 7.100984524586238, 7.161925256601535, 6.434278255212121, 4.83647039567586, 3.426764585718047]\n",
            "[0.5601851851851852, 0.5668449197860963, 0.6042296072507554, 0.5892857142857142, 0.6017191977077364, 0.5840707964601771, 0.5779036827195467, 0.573134328358209, 0.5777777777777778, 0.5714285714285713]\n",
            "\n",
            "\n"
          ]
        },
        {
          "metadata": {
            "tags": null
          },
          "name": "stderr",
          "output_type": "stream",
          "text": [
            "Some weights of the model checkpoint at microsoft/deberta-v3-base were not used when initializing DebertaV2ForSequenceClassification: ['lm_predictions.lm_head.LayerNorm.weight', 'lm_predictions.lm_head.dense.weight', 'mask_predictions.dense.bias', 'mask_predictions.classifier.bias', 'lm_predictions.lm_head.dense.bias', 'mask_predictions.dense.weight', 'lm_predictions.lm_head.bias', 'mask_predictions.LayerNorm.bias', 'lm_predictions.lm_head.LayerNorm.bias', 'mask_predictions.classifier.weight', 'mask_predictions.LayerNorm.weight']\n",
            "- This IS expected if you are initializing DebertaV2ForSequenceClassification from the checkpoint of a model trained on another task or with another architecture (e.g. initializing a BertForSequenceClassification model from a BertForPreTraining model).\n",
            "- This IS NOT expected if you are initializing DebertaV2ForSequenceClassification from the checkpoint of a model that you expect to be exactly identical (initializing a BertForSequenceClassification model from a BertForSequenceClassification model).\n",
            "Some weights of DebertaV2ForSequenceClassification were not initialized from the model checkpoint at microsoft/deberta-v3-base and are newly initialized: ['classifier.weight', 'classifier.bias', 'pooler.dense.weight', 'pooler.dense.bias']\n",
            "You should probably TRAIN this model on a down-stream task to be able to use it for predictions and inference.\n",
            "Epoch 1: 100%|██████████| 210/210 [01:54<00:00,  1.84batch/s, loss=0.652]\n"
          ]
        },
        {
          "metadata": {
            "tags": null
          },
          "name": "stdout",
          "output_type": "stream",
          "text": [
            "Epoch: 1. Loss: 97.8879. Dev Acc: 0.7891. Dev Precision [0.96140826 0.51515152]. Dev Recall: [0.93667546 0.64150943]. Dev F1: [0.94888072 0.57142857].\n"
          ]
        },
        {
          "metadata": {
            "tags": null
          },
          "name": "stderr",
          "output_type": "stream",
          "text": [
            "Epoch 2: 100%|██████████| 210/210 [01:53<00:00,  1.85batch/s, loss=0.098]\n"
          ]
        },
        {
          "metadata": {
            "tags": null
          },
          "name": "stdout",
          "output_type": "stream",
          "text": [
            "Epoch: 2. Loss: 46.8919. Dev Acc: 0.8040. Dev Precision [0.9659249  0.46413502]. Dev Recall: [0.91622691 0.6918239 ]. Dev F1: [0.94041977 0.55555556].\n"
          ]
        },
        {
          "metadata": {
            "tags": null
          },
          "name": "stderr",
          "output_type": "stream",
          "text": [
            "Epoch 3: 100%|██████████| 210/210 [01:53<00:00,  1.86batch/s, loss=0.0147]\n"
          ]
        },
        {
          "metadata": {
            "tags": null
          },
          "name": "stdout",
          "output_type": "stream",
          "text": [
            "Epoch: 3. Loss: 27.4513. Dev Acc: 0.7732. Dev Precision [0.957039   0.58024691]. Dev Recall: [0.95514512 0.59119497]. Dev F1: [0.95609112 0.58566978].\n"
          ]
        },
        {
          "metadata": {
            "tags": null
          },
          "name": "stderr",
          "output_type": "stream",
          "text": [
            "Epoch 4: 100%|██████████| 210/210 [01:54<00:00,  1.83batch/s, loss=0.05]\n"
          ]
        },
        {
          "metadata": {
            "tags": null
          },
          "name": "stdout",
          "output_type": "stream",
          "text": [
            "Epoch: 4. Loss: 17.7222. Dev Acc: 0.8264. Dev Precision [0.97067039 0.48148148]. Dev Recall: [0.91688654 0.73584906]. Dev F1: [0.94301221 0.58208955].\n"
          ]
        },
        {
          "metadata": {
            "tags": null
          },
          "name": "stderr",
          "output_type": "stream",
          "text": [
            "Epoch 5: 100%|██████████| 210/210 [01:54<00:00,  1.83batch/s, loss=0.0133]\n"
          ]
        },
        {
          "metadata": {
            "tags": null
          },
          "name": "stdout",
          "output_type": "stream",
          "text": [
            "Epoch: 5. Loss: 11.0611. Dev Acc: 0.7591. Dev Precision [0.95403808 0.58552632]. Dev Recall: [0.95844327 0.55974843]. Dev F1: [0.9562356  0.57234727].\n"
          ]
        },
        {
          "metadata": {
            "tags": null
          },
          "name": "stderr",
          "output_type": "stream",
          "text": [
            "Epoch 6: 100%|██████████| 210/210 [01:53<00:00,  1.85batch/s, loss=0.00171]\n"
          ]
        },
        {
          "metadata": {
            "tags": null
          },
          "name": "stdout",
          "output_type": "stream",
          "text": [
            "Epoch: 6. Loss: 7.2417. Dev Acc: 0.7414. Dev Precision [0.95009721 0.62121212]. Dev Recall: [0.96701847 0.51572327]. Dev F1: [0.95848316 0.56357388].\n"
          ]
        },
        {
          "metadata": {
            "tags": null
          },
          "name": "stderr",
          "output_type": "stream",
          "text": [
            "Epoch 7: 100%|██████████| 210/210 [01:54<00:00,  1.83batch/s, loss=0.0011]\n"
          ]
        },
        {
          "metadata": {
            "tags": null
          },
          "name": "stdout",
          "output_type": "stream",
          "text": [
            "Epoch: 7. Loss: 6.6181. Dev Acc: 0.6952. Dev Precision [0.94058154 0.69892473]. Dev Recall: [0.98153034 0.40880503]. Dev F1: [0.96061975 0.51587302].\n"
          ]
        },
        {
          "metadata": {
            "tags": null
          },
          "name": "stderr",
          "output_type": "stream",
          "text": [
            "Epoch 8: 100%|██████████| 210/210 [01:53<00:00,  1.85batch/s, loss=0.0014]\n"
          ]
        },
        {
          "metadata": {
            "tags": null
          },
          "name": "stdout",
          "output_type": "stream",
          "text": [
            "Epoch: 8. Loss: 4.3766. Dev Acc: 0.7472. Dev Precision [0.95096774 0.664     ]. Dev Recall: [0.97229551 0.52201258]. Dev F1: [0.96151337 0.58450704].\n"
          ]
        },
        {
          "metadata": {
            "tags": null
          },
          "name": "stderr",
          "output_type": "stream",
          "text": [
            "Epoch 9: 100%|██████████| 210/210 [01:54<00:00,  1.84batch/s, loss=0.000879]\n"
          ]
        },
        {
          "metadata": {
            "tags": null
          },
          "name": "stdout",
          "output_type": "stream",
          "text": [
            "Epoch: 9. Loss: 3.2133. Dev Acc: 0.7380. Dev Precision [0.94916345 0.66115702]. Dev Recall: [0.97295515 0.50314465]. Dev F1: [0.96091205 0.57142857].\n"
          ]
        },
        {
          "metadata": {
            "tags": null
          },
          "name": "stderr",
          "output_type": "stream",
          "text": [
            "Epoch 10: 100%|██████████| 210/210 [01:53<00:00,  1.85batch/s, loss=0.00101]\n"
          ]
        },
        {
          "metadata": {
            "tags": null
          },
          "name": "stdout",
          "output_type": "stream",
          "text": [
            "Epoch: 10. Loss: 3.6581. Dev Acc: 0.7380. Dev Precision [0.94916345 0.66115702]. Dev Recall: [0.97295515 0.50314465]. Dev F1: [0.96091205 0.57142857].\n",
            "=====w_decay = 0.005. dropout_prob = 0.2=====\n",
            "[97.887869104743, 46.891862192191184, 27.451280186884105, 17.722156720934436, 11.061131787486374, 7.241659439867362, 6.6180535345338285, 4.376570305088535, 3.2132695667096414, 3.658107593189925]\n",
            "[0.5714285714285715, 0.5555555555555556, 0.5856697819314642, 0.5820895522388059, 0.572347266881029, 0.563573883161512, 0.5158730158730159, 0.5845070422535211, 0.5714285714285715, 0.5714285714285715]\n",
            "\n",
            "\n"
          ]
        },
        {
          "metadata": {
            "tags": null
          },
          "name": "stderr",
          "output_type": "stream",
          "text": [
            "Some weights of the model checkpoint at microsoft/deberta-v3-base were not used when initializing DebertaV2ForSequenceClassification: ['lm_predictions.lm_head.LayerNorm.weight', 'lm_predictions.lm_head.dense.weight', 'mask_predictions.dense.bias', 'mask_predictions.classifier.bias', 'lm_predictions.lm_head.dense.bias', 'mask_predictions.dense.weight', 'lm_predictions.lm_head.bias', 'mask_predictions.LayerNorm.bias', 'lm_predictions.lm_head.LayerNorm.bias', 'mask_predictions.classifier.weight', 'mask_predictions.LayerNorm.weight']\n",
            "- This IS expected if you are initializing DebertaV2ForSequenceClassification from the checkpoint of a model trained on another task or with another architecture (e.g. initializing a BertForSequenceClassification model from a BertForPreTraining model).\n",
            "- This IS NOT expected if you are initializing DebertaV2ForSequenceClassification from the checkpoint of a model that you expect to be exactly identical (initializing a BertForSequenceClassification model from a BertForSequenceClassification model).\n",
            "Some weights of DebertaV2ForSequenceClassification were not initialized from the model checkpoint at microsoft/deberta-v3-base and are newly initialized: ['classifier.weight', 'classifier.bias', 'pooler.dense.weight', 'pooler.dense.bias']\n",
            "You should probably TRAIN this model on a down-stream task to be able to use it for predictions and inference.\n",
            "Epoch 1: 100%|██████████| 210/210 [01:53<00:00,  1.84batch/s, loss=0.262]\n"
          ]
        },
        {
          "metadata": {
            "tags": null
          },
          "name": "stdout",
          "output_type": "stream",
          "text": [
            "Epoch: 1. Loss: 108.1114. Dev Acc: 0.8375. Dev Precision [0.97703704 0.39384615]. Dev Recall: [0.87005277 0.80503145]. Dev F1: [0.92044662 0.52892562].\n"
          ]
        },
        {
          "metadata": {
            "tags": null
          },
          "name": "stderr",
          "output_type": "stream",
          "text": [
            "Epoch 2: 100%|██████████| 210/210 [01:54<00:00,  1.83batch/s, loss=0.745]\n"
          ]
        },
        {
          "metadata": {
            "tags": null
          },
          "name": "stdout",
          "output_type": "stream",
          "text": [
            "Epoch: 2. Loss: 52.8080. Dev Acc: 0.8364. Dev Precision [0.97532656 0.42087542]. Dev Recall: [0.88654354 0.78616352]. Dev F1: [0.92881824 0.54824561].\n"
          ]
        },
        {
          "metadata": {
            "tags": null
          },
          "name": "stderr",
          "output_type": "stream",
          "text": [
            "Epoch 3: 100%|██████████| 210/210 [01:54<00:00,  1.84batch/s, loss=0.0252]\n"
          ]
        },
        {
          "metadata": {
            "tags": null
          },
          "name": "stdout",
          "output_type": "stream",
          "text": [
            "Epoch: 3. Loss: 29.5272. Dev Acc: 0.8289. Dev Precision [0.97130861 0.4796748 ]. Dev Recall: [0.91556728 0.74213836]. Dev F1: [0.9426146  0.58271605].\n"
          ]
        },
        {
          "metadata": {
            "tags": null
          },
          "name": "stderr",
          "output_type": "stream",
          "text": [
            "Epoch 4: 100%|██████████| 210/210 [01:53<00:00,  1.84batch/s, loss=0.00569]\n"
          ]
        },
        {
          "metadata": {
            "tags": null
          },
          "name": "stdout",
          "output_type": "stream",
          "text": [
            "Epoch: 4. Loss: 18.8312. Dev Acc: 0.8136. Dev Precision [0.9665985  0.52884615]. Dev Recall: [0.9353562 0.6918239]. Dev F1: [0.95072075 0.59945504].\n"
          ]
        },
        {
          "metadata": {
            "tags": null
          },
          "name": "stderr",
          "output_type": "stream",
          "text": [
            "Epoch 5: 100%|██████████| 210/210 [01:54<00:00,  1.83batch/s, loss=0.0111]\n"
          ]
        },
        {
          "metadata": {
            "tags": null
          },
          "name": "stdout",
          "output_type": "stream",
          "text": [
            "Epoch: 5. Loss: 19.0064. Dev Acc: 0.8340. Dev Precision [0.97310686 0.46183206]. Dev Recall: [0.90699208 0.76100629]. Dev F1: [0.93888699 0.57482185].\n"
          ]
        },
        {
          "metadata": {
            "tags": null
          },
          "name": "stderr",
          "output_type": "stream",
          "text": [
            "Epoch 6: 100%|██████████| 210/210 [01:54<00:00,  1.84batch/s, loss=0.00504]\n"
          ]
        },
        {
          "metadata": {
            "tags": null
          },
          "name": "stdout",
          "output_type": "stream",
          "text": [
            "Epoch: 6. Loss: 11.4909. Dev Acc: 0.7722. Dev Precision [0.95695364 0.56969697]. Dev Recall: [0.95316623 0.59119497]. Dev F1: [0.95505618 0.58024691].\n"
          ]
        },
        {
          "metadata": {
            "tags": null
          },
          "name": "stderr",
          "output_type": "stream",
          "text": [
            "Epoch 7: 100%|██████████| 210/210 [01:54<00:00,  1.83batch/s, loss=0.00498]\n"
          ]
        },
        {
          "metadata": {
            "tags": null
          },
          "name": "stdout",
          "output_type": "stream",
          "text": [
            "Epoch: 7. Loss: 9.0309. Dev Acc: 0.7623. Dev Precision [0.95536309 0.52873563]. Dev Recall: [0.94591029 0.57861635]. Dev F1: [0.95061319 0.55255255].\n"
          ]
        },
        {
          "metadata": {
            "tags": null
          },
          "name": "stderr",
          "output_type": "stream",
          "text": [
            "Epoch 8: 100%|██████████| 210/210 [01:53<00:00,  1.85batch/s, loss=0.00197]\n"
          ]
        },
        {
          "metadata": {
            "tags": null
          },
          "name": "stdout",
          "output_type": "stream",
          "text": [
            "Epoch: 8. Loss: 6.0230. Dev Acc: 0.7801. Dev Precision [0.95911528 0.53551913]. Dev Recall: [0.9439314 0.6163522]. Dev F1: [0.95146277 0.57309942].\n"
          ]
        },
        {
          "metadata": {
            "tags": null
          },
          "name": "stderr",
          "output_type": "stream",
          "text": [
            "Epoch 9: 100%|██████████| 210/210 [01:53<00:00,  1.85batch/s, loss=0.00211]\n"
          ]
        },
        {
          "metadata": {
            "tags": null
          },
          "name": "stdout",
          "output_type": "stream",
          "text": [
            "Epoch: 9. Loss: 5.6739. Dev Acc: 0.7714. Dev Precision [0.95724783 0.53370787]. Dev Recall: [0.94525066 0.59748428]. Dev F1: [0.95121142 0.56379822].\n"
          ]
        },
        {
          "metadata": {
            "tags": null
          },
          "name": "stderr",
          "output_type": "stream",
          "text": [
            "Epoch 10: 100%|██████████| 210/210 [01:54<00:00,  1.84batch/s, loss=0.00121]\n"
          ]
        },
        {
          "metadata": {
            "tags": null
          },
          "name": "stdout",
          "output_type": "stream",
          "text": [
            "Epoch: 10. Loss: 5.4885. Dev Acc: 0.7642. Dev Precision [0.95554081 0.54761905]. Dev Recall: [0.94986807 0.57861635]. Dev F1: [0.952696   0.56269113].\n",
            "=====w_decay = 0.005. dropout_prob = 0.3=====\n",
            "[108.1113687902689, 52.80796259641647, 29.527194103226066, 18.83124866290018, 19.00640914682299, 11.49093570257537, 9.030897331889719, 6.022961234557442, 5.673866862663999, 5.488504819106311]\n",
            "[0.5289256198347109, 0.5482456140350878, 0.582716049382716, 0.5994550408719346, 0.5748218527315914, 0.5802469135802469, 0.5525525525525525, 0.5730994152046783, 0.5637982195845698, 0.5626911314984709]\n",
            "\n",
            "\n"
          ]
        },
        {
          "metadata": {
            "tags": null
          },
          "name": "stderr",
          "output_type": "stream",
          "text": [
            "Some weights of the model checkpoint at microsoft/deberta-v3-base were not used when initializing DebertaV2ForSequenceClassification: ['lm_predictions.lm_head.LayerNorm.weight', 'lm_predictions.lm_head.dense.weight', 'mask_predictions.dense.bias', 'mask_predictions.classifier.bias', 'lm_predictions.lm_head.dense.bias', 'mask_predictions.dense.weight', 'lm_predictions.lm_head.bias', 'mask_predictions.LayerNorm.bias', 'lm_predictions.lm_head.LayerNorm.bias', 'mask_predictions.classifier.weight', 'mask_predictions.LayerNorm.weight']\n",
            "- This IS expected if you are initializing DebertaV2ForSequenceClassification from the checkpoint of a model trained on another task or with another architecture (e.g. initializing a BertForSequenceClassification model from a BertForPreTraining model).\n",
            "- This IS NOT expected if you are initializing DebertaV2ForSequenceClassification from the checkpoint of a model that you expect to be exactly identical (initializing a BertForSequenceClassification model from a BertForSequenceClassification model).\n",
            "Some weights of DebertaV2ForSequenceClassification were not initialized from the model checkpoint at microsoft/deberta-v3-base and are newly initialized: ['classifier.weight', 'classifier.bias', 'pooler.dense.weight', 'pooler.dense.bias']\n",
            "You should probably TRAIN this model on a down-stream task to be able to use it for predictions and inference.\n",
            "Epoch 1: 100%|██████████| 210/210 [01:53<00:00,  1.85batch/s, loss=0.199]\n"
          ]
        },
        {
          "metadata": {
            "tags": null
          },
          "name": "stdout",
          "output_type": "stream",
          "text": [
            "Epoch: 1. Loss: 95.9842. Dev Acc: 0.8273. Dev Precision [0.97649735 0.35955056]. Dev Recall: [0.84960422 0.80503145]. Dev F1: [0.90864198 0.49708738].\n"
          ]
        },
        {
          "metadata": {
            "tags": null
          },
          "name": "stderr",
          "output_type": "stream",
          "text": [
            "Epoch 2: 100%|██████████| 210/210 [01:54<00:00,  1.84batch/s, loss=0.138]\n"
          ]
        },
        {
          "metadata": {
            "tags": null
          },
          "name": "stdout",
          "output_type": "stream",
          "text": [
            "Epoch: 2. Loss: 46.1827. Dev Acc: 0.7399. Dev Precision [0.95026178 0.56462585]. Dev Recall: [0.95778364 0.52201258]. Dev F1: [0.95400788 0.54248366].\n"
          ]
        },
        {
          "metadata": {
            "tags": null
          },
          "name": "stderr",
          "output_type": "stream",
          "text": [
            "Epoch 3: 100%|██████████| 210/210 [01:54<00:00,  1.84batch/s, loss=0.0318]\n"
          ]
        },
        {
          "metadata": {
            "tags": null
          },
          "name": "stdout",
          "output_type": "stream",
          "text": [
            "Epoch: 3. Loss: 28.9003. Dev Acc: 0.7843. Dev Precision [0.96062458 0.5       ]. Dev Recall: [0.93337731 0.63522013]. Dev F1: [0.94680495 0.55955679].\n"
          ]
        },
        {
          "metadata": {
            "tags": null
          },
          "name": "stderr",
          "output_type": "stream",
          "text": [
            "Epoch 4: 100%|██████████| 210/210 [01:54<00:00,  1.84batch/s, loss=0.00435]\n"
          ]
        },
        {
          "metadata": {
            "tags": null
          },
          "name": "stdout",
          "output_type": "stream",
          "text": [
            "Epoch: 4. Loss: 16.9811. Dev Acc: 0.7483. Dev Precision [0.95203679 0.5620915 ]. Dev Recall: [0.95580475 0.5408805 ]. Dev F1: [0.95391705 0.55128205].\n"
          ]
        },
        {
          "metadata": {
            "tags": null
          },
          "name": "stderr",
          "output_type": "stream",
          "text": [
            "Epoch 5: 100%|██████████| 210/210 [01:54<00:00,  1.84batch/s, loss=0.0047]\n"
          ]
        },
        {
          "metadata": {
            "tags": null
          },
          "name": "stdout",
          "output_type": "stream",
          "text": [
            "Epoch: 5. Loss: 12.0642. Dev Acc: 0.7429. Dev Precision [0.95055303 0.60144928]. Dev Recall: [0.96372032 0.52201258]. Dev F1: [0.95709139 0.55892256].\n"
          ]
        },
        {
          "metadata": {
            "tags": null
          },
          "name": "stderr",
          "output_type": "stream",
          "text": [
            "Epoch 6: 100%|██████████| 210/210 [01:53<00:00,  1.84batch/s, loss=0.00154]\n"
          ]
        },
        {
          "metadata": {
            "tags": null
          },
          "name": "stdout",
          "output_type": "stream",
          "text": [
            "Epoch: 6. Loss: 7.6485. Dev Acc: 0.7515. Dev Precision [0.95266272 0.56493506]. Dev Recall: [0.95580475 0.54716981]. Dev F1: [0.95423115 0.55591054].\n"
          ]
        },
        {
          "metadata": {
            "tags": null
          },
          "name": "stderr",
          "output_type": "stream",
          "text": [
            "Epoch 7: 100%|██████████| 210/210 [01:54<00:00,  1.83batch/s, loss=0.000862]\n"
          ]
        },
        {
          "metadata": {
            "tags": null
          },
          "name": "stdout",
          "output_type": "stream",
          "text": [
            "Epoch: 7. Loss: 7.7662. Dev Acc: 0.7116. Dev Precision [0.94415918 0.61538462]. Dev Recall: [0.97031662 0.45283019]. Dev F1: [0.95705921 0.52173913].\n"
          ]
        },
        {
          "metadata": {
            "tags": null
          },
          "name": "stderr",
          "output_type": "stream",
          "text": [
            "Epoch 8: 100%|██████████| 210/210 [01:54<00:00,  1.83batch/s, loss=0.000657]\n"
          ]
        },
        {
          "metadata": {
            "tags": null
          },
          "name": "stdout",
          "output_type": "stream",
          "text": [
            "Epoch: 8. Loss: 4.8800. Dev Acc: 0.7101. Dev Precision [0.94373402 0.63963964]. Dev Recall: [0.97361478 0.44654088]. Dev F1: [0.95844156 0.52592593].\n"
          ]
        },
        {
          "metadata": {
            "tags": null
          },
          "name": "stderr",
          "output_type": "stream",
          "text": [
            "Epoch 9: 100%|██████████| 210/210 [01:54<00:00,  1.84batch/s, loss=0.000855]\n"
          ]
        },
        {
          "metadata": {
            "tags": null
          },
          "name": "stdout",
          "output_type": "stream",
          "text": [
            "Epoch: 9. Loss: 4.9111. Dev Acc: 0.7357. Dev Precision [0.94893342 0.625     ]. Dev Recall: [0.96833773 0.50314465]. Dev F1: [0.95853738 0.55749129].\n"
          ]
        },
        {
          "metadata": {
            "tags": null
          },
          "name": "stderr",
          "output_type": "stream",
          "text": [
            "Epoch 10: 100%|██████████| 210/210 [01:54<00:00,  1.83batch/s, loss=0.000646]\n"
          ]
        },
        {
          "metadata": {
            "tags": null
          },
          "name": "stdout",
          "output_type": "stream",
          "text": [
            "Epoch: 10. Loss: 3.9654. Dev Acc: 0.7301. Dev Precision [0.94777563 0.62903226]. Dev Recall: [0.96965699 0.49056604]. Dev F1: [0.95859146 0.55123675].\n",
            "=====w_decay = 0.01. dropout_prob = 0.1=====\n",
            "[95.98418904840946, 46.182727973908186, 28.900269117206335, 16.981123972451314, 12.06424357520882, 7.648531175684184, 7.7661754811997525, 4.880009048676584, 4.911069875583053, 3.965405942988582]\n",
            "[0.4970873786407767, 0.5424836601307189, 0.5595567867036011, 0.5512820512820513, 0.5589225589225588, 0.5559105431309904, 0.5217391304347827, 0.5259259259259259, 0.5574912891986064, 0.5512367491166077]\n",
            "\n",
            "\n"
          ]
        },
        {
          "metadata": {
            "tags": null
          },
          "name": "stderr",
          "output_type": "stream",
          "text": [
            "Some weights of the model checkpoint at microsoft/deberta-v3-base were not used when initializing DebertaV2ForSequenceClassification: ['lm_predictions.lm_head.LayerNorm.weight', 'lm_predictions.lm_head.dense.weight', 'mask_predictions.dense.bias', 'mask_predictions.classifier.bias', 'lm_predictions.lm_head.dense.bias', 'mask_predictions.dense.weight', 'lm_predictions.lm_head.bias', 'mask_predictions.LayerNorm.bias', 'lm_predictions.lm_head.LayerNorm.bias', 'mask_predictions.classifier.weight', 'mask_predictions.LayerNorm.weight']\n",
            "- This IS expected if you are initializing DebertaV2ForSequenceClassification from the checkpoint of a model trained on another task or with another architecture (e.g. initializing a BertForSequenceClassification model from a BertForPreTraining model).\n",
            "- This IS NOT expected if you are initializing DebertaV2ForSequenceClassification from the checkpoint of a model that you expect to be exactly identical (initializing a BertForSequenceClassification model from a BertForSequenceClassification model).\n",
            "Some weights of DebertaV2ForSequenceClassification were not initialized from the model checkpoint at microsoft/deberta-v3-base and are newly initialized: ['classifier.weight', 'classifier.bias', 'pooler.dense.weight', 'pooler.dense.bias']\n",
            "You should probably TRAIN this model on a down-stream task to be able to use it for predictions and inference.\n",
            "Epoch 1: 100%|██████████| 210/210 [01:53<00:00,  1.85batch/s, loss=0.115]\n"
          ]
        },
        {
          "metadata": {
            "tags": null
          },
          "name": "stdout",
          "output_type": "stream",
          "text": [
            "Epoch: 1. Loss: 99.0330. Dev Acc: 0.8235. Dev Precision [0.97572079 0.3557423 ]. Dev Recall: [0.84828496 0.79874214]. Dev F1: [0.90755116 0.49224806].\n"
          ]
        },
        {
          "metadata": {
            "tags": null
          },
          "name": "stderr",
          "output_type": "stream",
          "text": [
            "Epoch 2: 100%|██████████| 210/210 [01:53<00:00,  1.84batch/s, loss=0.0438]\n"
          ]
        },
        {
          "metadata": {
            "tags": null
          },
          "name": "stdout",
          "output_type": "stream",
          "text": [
            "Epoch: 2. Loss: 45.8763. Dev Acc: 0.8343. Dev Precision [0.97312588 0.46360153]. Dev Recall: [0.90765172 0.76100629]. Dev F1: [0.93924915 0.57619048].\n"
          ]
        },
        {
          "metadata": {
            "tags": null
          },
          "name": "stderr",
          "output_type": "stream",
          "text": [
            "Epoch 3: 100%|██████████| 210/210 [01:53<00:00,  1.85batch/s, loss=0.0272]\n"
          ]
        },
        {
          "metadata": {
            "tags": null
          },
          "name": "stdout",
          "output_type": "stream",
          "text": [
            "Epoch: 3. Loss: 28.2747. Dev Acc: 0.7912. Dev Precision [0.96198235 0.50990099]. Dev Recall: [0.93469657 0.64779874]. Dev F1: [0.94814319 0.57063712].\n"
          ]
        },
        {
          "metadata": {
            "tags": null
          },
          "name": "stderr",
          "output_type": "stream",
          "text": [
            "Epoch 4: 100%|██████████| 210/210 [01:54<00:00,  1.83batch/s, loss=0.0061]\n"
          ]
        },
        {
          "metadata": {
            "tags": null
          },
          "name": "stdout",
          "output_type": "stream",
          "text": [
            "Epoch: 4. Loss: 19.6156. Dev Acc: 0.8111. Dev Precision [0.96687371 0.49115044]. Dev Recall: [0.92414248 0.69811321]. Dev F1: [0.9450253  0.57662338].\n"
          ]
        },
        {
          "metadata": {
            "tags": null
          },
          "name": "stderr",
          "output_type": "stream",
          "text": [
            "Epoch 5: 100%|██████████| 210/210 [01:53<00:00,  1.85batch/s, loss=0.00549]\n"
          ]
        },
        {
          "metadata": {
            "tags": null
          },
          "name": "stdout",
          "output_type": "stream",
          "text": [
            "Epoch: 5. Loss: 12.5734. Dev Acc: 0.7869. Dev Precision [0.96005326 0.57225434]. Dev Recall: [0.95118734 0.62264151]. Dev F1: [0.95559973 0.59638554].\n"
          ]
        },
        {
          "metadata": {
            "tags": null
          },
          "name": "stderr",
          "output_type": "stream",
          "text": [
            "Epoch 6: 100%|██████████| 210/210 [01:52<00:00,  1.86batch/s, loss=0.00177]\n"
          ]
        },
        {
          "metadata": {
            "tags": null
          },
          "name": "stdout",
          "output_type": "stream",
          "text": [
            "Epoch: 6. Loss: 10.8990. Dev Acc: 0.7662. Dev Precision [0.95571712 0.56790123]. Dev Recall: [0.95382586 0.57861635]. Dev F1: [0.95477055 0.57320872].\n"
          ]
        },
        {
          "metadata": {
            "tags": null
          },
          "name": "stderr",
          "output_type": "stream",
          "text": [
            "Epoch 7: 100%|██████████| 210/210 [01:53<00:00,  1.85batch/s, loss=0.00174]\n"
          ]
        },
        {
          "metadata": {
            "tags": null
          },
          "name": "stdout",
          "output_type": "stream",
          "text": [
            "Epoch: 7. Loss: 7.6422. Dev Acc: 0.7454. Dev Precision [0.95110821 0.59574468]. Dev Recall: [0.96240106 0.52830189]. Dev F1: [0.95672131 0.56      ].\n"
          ]
        },
        {
          "metadata": {
            "tags": null
          },
          "name": "stderr",
          "output_type": "stream",
          "text": [
            "Epoch 8: 100%|██████████| 210/210 [01:53<00:00,  1.84batch/s, loss=0.00139]\n"
          ]
        },
        {
          "metadata": {
            "tags": null
          },
          "name": "stdout",
          "output_type": "stream",
          "text": [
            "Epoch: 8. Loss: 5.7623. Dev Acc: 0.7975. Dev Precision [0.96329028 0.51470588]. Dev Recall: [0.93469657 0.66037736]. Dev F1: [0.94877804 0.5785124 ].\n"
          ]
        },
        {
          "metadata": {
            "tags": null
          },
          "name": "stderr",
          "output_type": "stream",
          "text": [
            "Epoch 9: 100%|██████████| 210/210 [01:53<00:00,  1.85batch/s, loss=0.00124]\n"
          ]
        },
        {
          "metadata": {
            "tags": null
          },
          "name": "stdout",
          "output_type": "stream",
          "text": [
            "Epoch: 9. Loss: 4.6080. Dev Acc: 0.7621. Dev Precision [0.95499669 0.55487805]. Dev Recall: [0.95184697 0.57232704]. Dev F1: [0.95341923 0.56346749].\n"
          ]
        },
        {
          "metadata": {
            "tags": null
          },
          "name": "stderr",
          "output_type": "stream",
          "text": [
            "Epoch 10: 100%|██████████| 210/210 [01:54<00:00,  1.84batch/s, loss=0.00102]\n"
          ]
        },
        {
          "metadata": {
            "tags": null
          },
          "name": "stdout",
          "output_type": "stream",
          "text": [
            "Epoch: 10. Loss: 2.6987. Dev Acc: 0.7589. Dev Precision [0.95436508 0.55214724]. Dev Recall: [0.95184697 0.56603774]. Dev F1: [0.95310436 0.55900621].\n",
            "=====w_decay = 0.01. dropout_prob = 0.2=====\n",
            "[99.03304738551378, 45.87630481272936, 28.274697160813957, 19.61561863962561, 12.57341922284104, 10.89898186083883, 7.642206314718351, 5.762297565932386, 4.608010628959164, 2.6987244293559343]\n",
            "[0.4922480620155039, 0.5761904761904764, 0.5706371191135734, 0.5766233766233766, 0.5963855421686747, 0.573208722741433, 0.56, 0.5785123966942147, 0.563467492260062, 0.5590062111801242]\n",
            "\n",
            "\n"
          ]
        },
        {
          "metadata": {
            "tags": null
          },
          "name": "stderr",
          "output_type": "stream",
          "text": [
            "Some weights of the model checkpoint at microsoft/deberta-v3-base were not used when initializing DebertaV2ForSequenceClassification: ['lm_predictions.lm_head.LayerNorm.weight', 'lm_predictions.lm_head.dense.weight', 'mask_predictions.dense.bias', 'mask_predictions.classifier.bias', 'lm_predictions.lm_head.dense.bias', 'mask_predictions.dense.weight', 'lm_predictions.lm_head.bias', 'mask_predictions.LayerNorm.bias', 'lm_predictions.lm_head.LayerNorm.bias', 'mask_predictions.classifier.weight', 'mask_predictions.LayerNorm.weight']\n",
            "- This IS expected if you are initializing DebertaV2ForSequenceClassification from the checkpoint of a model trained on another task or with another architecture (e.g. initializing a BertForSequenceClassification model from a BertForPreTraining model).\n",
            "- This IS NOT expected if you are initializing DebertaV2ForSequenceClassification from the checkpoint of a model that you expect to be exactly identical (initializing a BertForSequenceClassification model from a BertForSequenceClassification model).\n",
            "Some weights of DebertaV2ForSequenceClassification were not initialized from the model checkpoint at microsoft/deberta-v3-base and are newly initialized: ['classifier.weight', 'classifier.bias', 'pooler.dense.weight', 'pooler.dense.bias']\n",
            "You should probably TRAIN this model on a down-stream task to be able to use it for predictions and inference.\n",
            "Epoch 1: 100%|██████████| 210/210 [01:54<00:00,  1.83batch/s, loss=0.426]\n"
          ]
        },
        {
          "metadata": {
            "tags": null
          },
          "name": "stdout",
          "output_type": "stream",
          "text": [
            "Epoch: 1. Loss: 107.3275. Dev Acc: 0.8014. Dev Precision [0.96664301 0.42105263]. Dev Recall: [0.89841689 0.70440252]. Dev F1: [0.93128205 0.52705882].\n"
          ]
        },
        {
          "metadata": {
            "tags": null
          },
          "name": "stderr",
          "output_type": "stream",
          "text": [
            "Epoch 2: 100%|██████████| 210/210 [01:54<00:00,  1.83batch/s, loss=0.357]\n"
          ]
        },
        {
          "metadata": {
            "tags": null
          },
          "name": "stdout",
          "output_type": "stream",
          "text": [
            "Epoch: 2. Loss: 53.8758. Dev Acc: 0.7868. Dev Precision [0.96042924 0.54347826]. Dev Recall: [0.94459103 0.62893082]. Dev F1: [0.9524443  0.58309038].\n"
          ]
        },
        {
          "metadata": {
            "tags": null
          },
          "name": "stderr",
          "output_type": "stream",
          "text": [
            "Epoch 3: 100%|██████████| 210/210 [01:53<00:00,  1.85batch/s, loss=0.439]\n"
          ]
        },
        {
          "metadata": {
            "tags": null
          },
          "name": "stdout",
          "output_type": "stream",
          "text": [
            "Epoch: 3. Loss: 34.7257. Dev Acc: 0.7863. Dev Precision [0.96078431 0.51530612]. Dev Recall: [0.93733509 0.63522013]. Dev F1: [0.94891486 0.56901408].\n"
          ]
        },
        {
          "metadata": {
            "tags": null
          },
          "name": "stderr",
          "output_type": "stream",
          "text": [
            "Epoch 4: 100%|██████████| 210/210 [01:53<00:00,  1.85batch/s, loss=0.00395]\n"
          ]
        },
        {
          "metadata": {
            "tags": null
          },
          "name": "stdout",
          "output_type": "stream",
          "text": [
            "Epoch: 4. Loss: 19.0143. Dev Acc: 0.7861. Dev Precision [0.96037609 0.53763441]. Dev Recall: [0.94327177 0.62893082]. Dev F1: [0.95174709 0.57971014].\n"
          ]
        },
        {
          "metadata": {
            "tags": null
          },
          "name": "stderr",
          "output_type": "stream",
          "text": [
            "Epoch 5: 100%|██████████| 210/210 [01:54<00:00,  1.83batch/s, loss=0.00288]\n"
          ]
        },
        {
          "metadata": {
            "tags": null
          },
          "name": "stdout",
          "output_type": "stream",
          "text": [
            "Epoch: 5. Loss: 13.4988. Dev Acc: 0.7932. Dev Precision [0.96213658 0.5255102 ]. Dev Recall: [0.93865435 0.64779874]. Dev F1: [0.95025042 0.58028169].\n"
          ]
        },
        {
          "metadata": {
            "tags": null
          },
          "name": "stderr",
          "output_type": "stream",
          "text": [
            "Epoch 6: 100%|██████████| 210/210 [01:54<00:00,  1.84batch/s, loss=0.00167]\n"
          ]
        },
        {
          "metadata": {
            "tags": null
          },
          "name": "stdout",
          "output_type": "stream",
          "text": [
            "Epoch: 6. Loss: 7.9612. Dev Acc: 0.7715. Dev Precision [0.95689655 0.56287425]. Dev Recall: [0.95184697 0.59119497]. Dev F1: [0.95436508 0.57668712].\n"
          ]
        },
        {
          "metadata": {
            "tags": null
          },
          "name": "stderr",
          "output_type": "stream",
          "text": [
            "Epoch 7: 100%|██████████| 210/210 [01:54<00:00,  1.84batch/s, loss=0.0013]\n"
          ]
        },
        {
          "metadata": {
            "tags": null
          },
          "name": "stdout",
          "output_type": "stream",
          "text": [
            "Epoch: 7. Loss: 6.9292. Dev Acc: 0.7339. Dev Precision [0.94845361 0.64227642]. Dev Recall: [0.97097625 0.49685535]. Dev F1: [0.95958279 0.56028369].\n"
          ]
        },
        {
          "metadata": {
            "tags": null
          },
          "name": "stderr",
          "output_type": "stream",
          "text": [
            "Epoch 8: 100%|██████████| 210/210 [01:54<00:00,  1.83batch/s, loss=0.0038]\n"
          ]
        },
        {
          "metadata": {
            "tags": null
          },
          "name": "stdout",
          "output_type": "stream",
          "text": [
            "Epoch: 8. Loss: 5.3455. Dev Acc: 0.7177. Dev Precision [0.94508301 0.66972477]. Dev Recall: [0.9762533 0.4591195]. Dev F1: [0.96041531 0.54477612].\n"
          ]
        },
        {
          "metadata": {
            "tags": null
          },
          "name": "stderr",
          "output_type": "stream",
          "text": [
            "Epoch 9: 100%|██████████| 210/210 [01:54<00:00,  1.84batch/s, loss=0.00112]\n"
          ]
        },
        {
          "metadata": {
            "tags": null
          },
          "name": "stdout",
          "output_type": "stream",
          "text": [
            "Epoch: 9. Loss: 4.1743. Dev Acc: 0.7561. Dev Precision [0.95309446 0.62142857]. Dev Recall: [0.96503958 0.54716981]. Dev F1: [0.95902983 0.5819398 ].\n"
          ]
        },
        {
          "metadata": {
            "tags": null
          },
          "name": "stderr",
          "output_type": "stream",
          "text": [
            "Epoch 10: 100%|██████████| 210/210 [01:53<00:00,  1.85batch/s, loss=0.000995]\n"
          ]
        },
        {
          "metadata": {
            "tags": null
          },
          "name": "stdout",
          "output_type": "stream",
          "text": [
            "Epoch: 10. Loss: 2.5008. Dev Acc: 0.7405. Dev Precision [0.94970986 0.65322581]. Dev Recall: [0.97163588 0.50943396]. Dev F1: [0.96054777 0.57243816].\n",
            "=====w_decay = 0.01. dropout_prob = 0.3=====\n",
            "[107.3274996727705, 53.875848699361086, 34.725713218562305, 19.014341599307954, 13.498788557946682, 7.961237159674056, 6.929159788182005, 5.345495724235661, 4.174317970057018, 2.500800794339739]\n",
            "[0.5270588235294118, 0.5830903790087463, 0.5690140845070423, 0.5797101449275363, 0.580281690140845, 0.5766871165644172, 0.5602836879432626, 0.5447761194029851, 0.5819397993311036, 0.5724381625441697]\n",
            "\n",
            "\n"
          ]
        },
        {
          "metadata": {
            "tags": null
          },
          "name": "stderr",
          "output_type": "stream",
          "text": [
            "Some weights of the model checkpoint at microsoft/deberta-v3-base were not used when initializing DebertaV2ForSequenceClassification: ['lm_predictions.lm_head.LayerNorm.weight', 'lm_predictions.lm_head.dense.weight', 'mask_predictions.dense.bias', 'mask_predictions.classifier.bias', 'lm_predictions.lm_head.dense.bias', 'mask_predictions.dense.weight', 'lm_predictions.lm_head.bias', 'mask_predictions.LayerNorm.bias', 'lm_predictions.lm_head.LayerNorm.bias', 'mask_predictions.classifier.weight', 'mask_predictions.LayerNorm.weight']\n",
            "- This IS expected if you are initializing DebertaV2ForSequenceClassification from the checkpoint of a model trained on another task or with another architecture (e.g. initializing a BertForSequenceClassification model from a BertForPreTraining model).\n",
            "- This IS NOT expected if you are initializing DebertaV2ForSequenceClassification from the checkpoint of a model that you expect to be exactly identical (initializing a BertForSequenceClassification model from a BertForSequenceClassification model).\n",
            "Some weights of DebertaV2ForSequenceClassification were not initialized from the model checkpoint at microsoft/deberta-v3-base and are newly initialized: ['classifier.weight', 'classifier.bias', 'pooler.dense.weight', 'pooler.dense.bias']\n",
            "You should probably TRAIN this model on a down-stream task to be able to use it for predictions and inference.\n",
            "Epoch 1: 100%|██████████| 210/210 [01:53<00:00,  1.85batch/s, loss=0.282]\n"
          ]
        },
        {
          "metadata": {
            "tags": null
          },
          "name": "stdout",
          "output_type": "stream",
          "text": [
            "Epoch: 1. Loss: 97.5287. Dev Acc: 0.8115. Dev Precision [0.98879552 0.24337748]. Dev Recall: [0.69854881 0.9245283 ]. Dev F1: [0.81870893 0.3853211 ].\n"
          ]
        },
        {
          "metadata": {
            "tags": null
          },
          "name": "stderr",
          "output_type": "stream",
          "text": [
            "Epoch 2: 100%|██████████| 210/210 [01:53<00:00,  1.84batch/s, loss=0.0307]\n"
          ]
        },
        {
          "metadata": {
            "tags": null
          },
          "name": "stdout",
          "output_type": "stream",
          "text": [
            "Epoch: 2. Loss: 46.5984. Dev Acc: 0.8035. Dev Precision [0.96457766 0.51690821]. Dev Recall: [0.93403694 0.67295597]. Dev F1: [0.94906166 0.58469945].\n"
          ]
        },
        {
          "metadata": {
            "tags": null
          },
          "name": "stderr",
          "output_type": "stream",
          "text": [
            "Epoch 3: 100%|██████████| 210/210 [01:53<00:00,  1.85batch/s, loss=0.448]\n"
          ]
        },
        {
          "metadata": {
            "tags": null
          },
          "name": "stdout",
          "output_type": "stream",
          "text": [
            "Epoch: 3. Loss: 29.9395. Dev Acc: 0.8221. Dev Precision [0.97040169 0.45703125]. Dev Recall: [0.90831135 0.73584906]. Dev F1: [0.93833049 0.56385542].\n"
          ]
        },
        {
          "metadata": {
            "tags": null
          },
          "name": "stderr",
          "output_type": "stream",
          "text": [
            "Epoch 4: 100%|██████████| 210/210 [01:54<00:00,  1.84batch/s, loss=0.00777]\n"
          ]
        },
        {
          "metadata": {
            "tags": null
          },
          "name": "stdout",
          "output_type": "stream",
          "text": [
            "Epoch: 4. Loss: 17.1975. Dev Acc: 0.8075. Dev Precision [0.96572995 0.50462963]. Dev Recall: [0.92941953 0.68553459]. Dev F1: [0.94722689 0.58133333].\n"
          ]
        },
        {
          "metadata": {
            "tags": null
          },
          "name": "stderr",
          "output_type": "stream",
          "text": [
            "Epoch 5: 100%|██████████| 210/210 [01:54<00:00,  1.83batch/s, loss=0.00583]\n"
          ]
        },
        {
          "metadata": {
            "tags": null
          },
          "name": "stdout",
          "output_type": "stream",
          "text": [
            "Epoch: 5. Loss: 14.3150. Dev Acc: 0.8010. Dev Precision [0.96397009 0.51960784]. Dev Recall: [0.9353562  0.66666667]. Dev F1: [0.94944761 0.58402204].\n"
          ]
        },
        {
          "output_type": "stream",
          "name": "stderr",
          "text": [
            "Epoch 6: 100%|██████████| 210/210 [01:55<00:00,  1.83batch/s, loss=0.397]\n"
          ]
        },
        {
          "output_type": "stream",
          "name": "stdout",
          "text": [
            "Epoch: 6. Loss: 12.2637. Dev Acc: 0.8171. Dev Precision [0.96818811 0.49344978]. Dev Recall: [0.92348285 0.71069182]. Dev F1: [0.94530722 0.58247423].\n"
          ]
        },
        {
          "output_type": "stream",
          "name": "stderr",
          "text": [
            "Epoch 7: 100%|██████████| 210/210 [01:54<00:00,  1.84batch/s, loss=0.00235]\n"
          ]
        },
        {
          "output_type": "stream",
          "name": "stdout",
          "text": [
            "Epoch: 7. Loss: 6.9861. Dev Acc: 0.7717. Dev Precision [0.95727637 0.53672316]. Dev Recall: [0.94591029 0.59748428]. Dev F1: [0.95155939 0.56547619].\n"
          ]
        },
        {
          "output_type": "stream",
          "name": "stderr",
          "text": [
            "Epoch 8: 100%|██████████| 210/210 [01:54<00:00,  1.84batch/s, loss=0.00243]\n"
          ]
        },
        {
          "output_type": "stream",
          "name": "stdout",
          "text": [
            "Epoch: 8. Loss: 5.1217. Dev Acc: 0.7578. Dev Precision [0.95391705 0.57051282]. Dev Recall: [0.95580475 0.55974843]. Dev F1: [0.95485997 0.56507937].\n"
          ]
        },
        {
          "output_type": "stream",
          "name": "stderr",
          "text": [
            "Epoch 9: 100%|██████████| 210/210 [01:54<00:00,  1.84batch/s, loss=0.00137]\n"
          ]
        },
        {
          "output_type": "stream",
          "name": "stdout",
          "text": [
            "Epoch: 9. Loss: 4.3886. Dev Acc: 0.7792. Dev Precision [0.95903291 0.52688172]. Dev Recall: [0.94195251 0.6163522 ]. Dev F1: [0.95041597 0.56811594].\n"
          ]
        },
        {
          "output_type": "stream",
          "name": "stderr",
          "text": [
            "Epoch 10: 100%|██████████| 210/210 [01:53<00:00,  1.85batch/s, loss=0.241]\n"
          ]
        },
        {
          "output_type": "stream",
          "name": "stdout",
          "text": [
            "Epoch: 10. Loss: 3.5479. Dev Acc: 0.7679. Dev Precision [0.95586298 0.58598726]. Dev Recall: [0.95712401 0.57861635]. Dev F1: [0.95649308 0.58227848].\n",
            "=====w_decay = 0.02. dropout_prob = 0.1=====\n",
            "[97.52867184579372, 46.598417380824685, 29.93954831548035, 17.197515297681093, 14.31504341843538, 12.263656822731718, 6.98611302417703, 5.121706383943092, 4.38860240962822, 3.547859429207165]\n",
            "[0.3853211009174312, 0.5846994535519124, 0.5638554216867468, 0.5813333333333333, 0.5840220385674931, 0.5824742268041236, 0.5654761904761904, 0.5650793650793651, 0.5681159420289855, 0.5822784810126582]\n",
            "\n",
            "\n"
          ]
        },
        {
          "output_type": "stream",
          "name": "stderr",
          "text": [
            "Some weights of the model checkpoint at microsoft/deberta-v3-base were not used when initializing DebertaV2ForSequenceClassification: ['lm_predictions.lm_head.LayerNorm.weight', 'lm_predictions.lm_head.dense.weight', 'mask_predictions.dense.bias', 'mask_predictions.classifier.bias', 'lm_predictions.lm_head.dense.bias', 'mask_predictions.dense.weight', 'lm_predictions.lm_head.bias', 'mask_predictions.LayerNorm.bias', 'lm_predictions.lm_head.LayerNorm.bias', 'mask_predictions.classifier.weight', 'mask_predictions.LayerNorm.weight']\n",
            "- This IS expected if you are initializing DebertaV2ForSequenceClassification from the checkpoint of a model trained on another task or with another architecture (e.g. initializing a BertForSequenceClassification model from a BertForPreTraining model).\n",
            "- This IS NOT expected if you are initializing DebertaV2ForSequenceClassification from the checkpoint of a model that you expect to be exactly identical (initializing a BertForSequenceClassification model from a BertForSequenceClassification model).\n",
            "Some weights of DebertaV2ForSequenceClassification were not initialized from the model checkpoint at microsoft/deberta-v3-base and are newly initialized: ['classifier.weight', 'classifier.bias', 'pooler.dense.weight', 'pooler.dense.bias']\n",
            "You should probably TRAIN this model on a down-stream task to be able to use it for predictions and inference.\n",
            "Epoch 1: 100%|██████████| 210/210 [01:54<00:00,  1.83batch/s, loss=0.249]\n"
          ]
        },
        {
          "output_type": "stream",
          "name": "stdout",
          "text": [
            "Epoch: 1. Loss: 101.6622. Dev Acc: 0.8241. Dev Precision [0.9725235  0.41438356]. Dev Recall: [0.88720317 0.76100629]. Dev F1: [0.92790617 0.53658537].\n"
          ]
        },
        {
          "output_type": "stream",
          "name": "stderr",
          "text": [
            "Epoch 2: 100%|██████████| 210/210 [01:53<00:00,  1.84batch/s, loss=0.158]\n"
          ]
        },
        {
          "output_type": "stream",
          "name": "stdout",
          "text": [
            "Epoch: 2. Loss: 43.0845. Dev Acc: 0.8365. Dev Precision [0.97480202 0.43356643]. Dev Recall: [0.89313984 0.77987421]. Dev F1: [0.93218589 0.55730337].\n"
          ]
        },
        {
          "output_type": "stream",
          "name": "stderr",
          "text": [
            "Epoch 3: 100%|██████████| 210/210 [01:54<00:00,  1.83batch/s, loss=0.0152]\n"
          ]
        },
        {
          "output_type": "stream",
          "name": "stdout",
          "text": [
            "Epoch: 3. Loss: 23.8587. Dev Acc: 0.8212. Dev Precision [0.96892265 0.50220264]. Dev Recall: [0.92546174 0.71698113]. Dev F1: [0.94669366 0.59067358].\n"
          ]
        },
        {
          "output_type": "stream",
          "name": "stderr",
          "text": [
            "Epoch 4: 100%|██████████| 210/210 [01:54<00:00,  1.84batch/s, loss=0.00391]\n"
          ]
        },
        {
          "output_type": "stream",
          "name": "stdout",
          "text": [
            "Epoch: 4. Loss: 18.2647. Dev Acc: 0.8224. Dev Precision [0.96853625 0.53051643]. Dev Recall: [0.93403694 0.71069182]. Dev F1: [0.95097381 0.60752688].\n"
          ]
        },
        {
          "output_type": "stream",
          "name": "stderr",
          "text": [
            "Epoch 5: 100%|██████████| 210/210 [01:54<00:00,  1.83batch/s, loss=0.00382]\n"
          ]
        },
        {
          "output_type": "stream",
          "name": "stdout",
          "text": [
            "Epoch: 5. Loss: 12.8398. Dev Acc: 0.8002. Dev Precision [0.96266667 0.58857143]. Dev Recall: [0.9525066  0.64779874]. Dev F1: [0.95755968 0.61676647].\n"
          ]
        },
        {
          "output_type": "stream",
          "name": "stderr",
          "text": [
            "Epoch 6: 100%|██████████| 210/210 [01:54<00:00,  1.84batch/s, loss=0.00299]\n"
          ]
        },
        {
          "output_type": "stream",
          "name": "stdout",
          "text": [
            "Epoch: 6. Loss: 7.6260. Dev Acc: 0.8045. Dev Precision [0.9646499 0.5245098]. Dev Recall: [0.93601583 0.67295597]. Dev F1: [0.95011717 0.58953168].\n"
          ]
        },
        {
          "output_type": "stream",
          "name": "stderr",
          "text": [
            "Epoch 7: 100%|██████████| 210/210 [01:53<00:00,  1.84batch/s, loss=0.00177]\n"
          ]
        },
        {
          "output_type": "stream",
          "name": "stdout",
          "text": [
            "Epoch: 7. Loss: 6.8559. Dev Acc: 0.8045. Dev Precision [0.96380697 0.57377049]. Dev Recall: [0.94854881 0.66037736]. Dev F1: [0.95611702 0.61403509].\n"
          ]
        },
        {
          "output_type": "stream",
          "name": "stderr",
          "text": [
            "Epoch 8: 100%|██████████| 210/210 [01:53<00:00,  1.85batch/s, loss=0.00116]\n"
          ]
        },
        {
          "output_type": "stream",
          "name": "stdout",
          "text": [
            "Epoch: 8. Loss: 6.2615. Dev Acc: 0.7924. Dev Precision [0.96166779 0.54255319]. Dev Recall: [0.94327177 0.64150943]. Dev F1: [0.95238095 0.58789625].\n"
          ]
        },
        {
          "output_type": "stream",
          "name": "stderr",
          "text": [
            "Epoch 9: 100%|██████████| 210/210 [01:55<00:00,  1.83batch/s, loss=0.000922]\n"
          ]
        },
        {
          "output_type": "stream",
          "name": "stdout",
          "text": [
            "Epoch: 9. Loss: 4.5474. Dev Acc: 0.7790. Dev Precision [0.95789474 0.61290323]. Dev Recall: [0.96042216 0.59748428]. Dev F1: [0.95915679 0.60509554].\n"
          ]
        },
        {
          "output_type": "stream",
          "name": "stderr",
          "text": [
            "Epoch 10: 100%|██████████| 210/210 [01:54<00:00,  1.83batch/s, loss=0.000753]\n"
          ]
        },
        {
          "output_type": "stream",
          "name": "stdout",
          "text": [
            "Epoch: 10. Loss: 2.4213. Dev Acc: 0.7748. Dev Precision [0.9571805  0.59872611]. Dev Recall: [0.95844327 0.59119497]. Dev F1: [0.95781147 0.59493671].\n",
            "=====w_decay = 0.02. dropout_prob = 0.2=====\n",
            "[101.66216714680195, 43.084517342969775, 23.858732115477324, 18.26466310536489, 12.839783167466521, 7.625960071687587, 6.855890835751779, 6.261478052765597, 4.5474228439852595, 2.4212564491317607]\n",
            "[0.5365853658536585, 0.5573033707865169, 0.5906735751295337, 0.6075268817204301, 0.6167664670658681, 0.5895316804407713, 0.6140350877192982, 0.5878962536023054, 0.6050955414012739, 0.5949367088607594]\n",
            "\n",
            "\n"
          ]
        },
        {
          "output_type": "stream",
          "name": "stderr",
          "text": [
            "Some weights of the model checkpoint at microsoft/deberta-v3-base were not used when initializing DebertaV2ForSequenceClassification: ['lm_predictions.lm_head.LayerNorm.weight', 'lm_predictions.lm_head.dense.weight', 'mask_predictions.dense.bias', 'mask_predictions.classifier.bias', 'lm_predictions.lm_head.dense.bias', 'mask_predictions.dense.weight', 'lm_predictions.lm_head.bias', 'mask_predictions.LayerNorm.bias', 'lm_predictions.lm_head.LayerNorm.bias', 'mask_predictions.classifier.weight', 'mask_predictions.LayerNorm.weight']\n",
            "- This IS expected if you are initializing DebertaV2ForSequenceClassification from the checkpoint of a model trained on another task or with another architecture (e.g. initializing a BertForSequenceClassification model from a BertForPreTraining model).\n",
            "- This IS NOT expected if you are initializing DebertaV2ForSequenceClassification from the checkpoint of a model that you expect to be exactly identical (initializing a BertForSequenceClassification model from a BertForSequenceClassification model).\n",
            "Some weights of DebertaV2ForSequenceClassification were not initialized from the model checkpoint at microsoft/deberta-v3-base and are newly initialized: ['classifier.weight', 'classifier.bias', 'pooler.dense.weight', 'pooler.dense.bias']\n",
            "You should probably TRAIN this model on a down-stream task to be able to use it for predictions and inference.\n",
            "Epoch 1: 100%|██████████| 210/210 [01:54<00:00,  1.84batch/s, loss=0.0609]\n"
          ]
        },
        {
          "output_type": "stream",
          "name": "stdout",
          "text": [
            "Epoch: 1. Loss: 102.2035. Dev Acc: 0.8229. Dev Precision [0.98680739 0.26765799]. Dev Recall: [0.74010554 0.90566038]. Dev F1: [0.8458349  0.41319943].\n"
          ]
        },
        {
          "output_type": "stream",
          "name": "stderr",
          "text": [
            "Epoch 2: 100%|██████████| 210/210 [01:53<00:00,  1.84batch/s, loss=0.144]\n"
          ]
        },
        {
          "output_type": "stream",
          "name": "stdout",
          "text": [
            "Epoch: 2. Loss: 49.2417. Dev Acc: 0.8322. Dev Precision [0.97351467 0.43884892]. Dev Recall: [0.89709763 0.7672956 ]. Dev F1: [0.93374528 0.5583524 ].\n"
          ]
        },
        {
          "output_type": "stream",
          "name": "stderr",
          "text": [
            "Epoch 3: 100%|██████████| 210/210 [01:53<00:00,  1.85batch/s, loss=0.218]\n"
          ]
        },
        {
          "output_type": "stream",
          "name": "stdout",
          "text": [
            "Epoch: 3. Loss: 22.6729. Dev Acc: 0.7965. Dev Precision [0.96239087 0.55376344]. Dev Recall: [0.94525066 0.64779874]. Dev F1: [0.95374376 0.59710145].\n"
          ]
        },
        {
          "output_type": "stream",
          "name": "stderr",
          "text": [
            "Epoch 4: 100%|██████████| 210/210 [01:54<00:00,  1.83batch/s, loss=0.00364]\n"
          ]
        },
        {
          "output_type": "stream",
          "name": "stdout",
          "text": [
            "Epoch: 4. Loss: 16.3461. Dev Acc: 0.8168. Dev Precision [0.97006415 0.43014706]. Dev Recall: [0.89775726 0.73584906]. Dev F1: [0.93251113 0.54292343].\n"
          ]
        },
        {
          "output_type": "stream",
          "name": "stderr",
          "text": [
            "Epoch 5: 100%|██████████| 210/210 [01:52<00:00,  1.86batch/s, loss=0.00125]\n"
          ]
        },
        {
          "output_type": "stream",
          "name": "stdout",
          "text": [
            "Epoch: 5. Loss: 11.3943. Dev Acc: 0.8088. Dev Precision [0.96495957 0.56020942]. Dev Recall: [0.94459103 0.67295597]. Dev F1: [0.95466667 0.61142857].\n"
          ]
        },
        {
          "output_type": "stream",
          "name": "stderr",
          "text": [
            "Epoch 6: 100%|██████████| 210/210 [01:54<00:00,  1.83batch/s, loss=0.00365]\n"
          ]
        },
        {
          "output_type": "stream",
          "name": "stdout",
          "text": [
            "Epoch: 6. Loss: 8.3091. Dev Acc: 0.7682. Dev Precision [0.95589203 0.58974359]. Dev Recall: [0.95778364 0.57861635]. Dev F1: [0.9568369  0.58412698].\n"
          ]
        },
        {
          "output_type": "stream",
          "name": "stderr",
          "text": [
            "Epoch 7: 100%|██████████| 210/210 [01:53<00:00,  1.84batch/s, loss=0.00092]\n"
          ]
        },
        {
          "output_type": "stream",
          "name": "stdout",
          "text": [
            "Epoch: 7. Loss: 5.0566. Dev Acc: 0.7586. Dev Precision [0.95365535 0.61538462]. Dev Recall: [0.96372032 0.55345912]. Dev F1: [0.95866142 0.58278146].\n"
          ]
        },
        {
          "output_type": "stream",
          "name": "stderr",
          "text": [
            "Epoch 8: 100%|██████████| 210/210 [01:54<00:00,  1.83batch/s, loss=0.000996]\n"
          ]
        },
        {
          "output_type": "stream",
          "name": "stdout",
          "text": [
            "Epoch: 8. Loss: 5.5721. Dev Acc: 0.7493. Dev Precision [0.95148771 0.65116279]. Dev Recall: [0.97031662 0.52830189]. Dev F1: [0.96080993 0.58333333].\n"
          ]
        },
        {
          "output_type": "stream",
          "name": "stderr",
          "text": [
            "Epoch 9: 100%|██████████| 210/210 [01:54<00:00,  1.83batch/s, loss=0.000531]\n"
          ]
        },
        {
          "output_type": "stream",
          "name": "stdout",
          "text": [
            "Epoch: 9. Loss: 3.7278. Dev Acc: 0.7788. Dev Precision [0.9582505  0.57831325]. Dev Recall: [0.95382586 0.60377358]. Dev F1: [0.95603306 0.59076923].\n"
          ]
        },
        {
          "output_type": "stream",
          "name": "stderr",
          "text": [
            "Epoch 10: 100%|██████████| 210/210 [01:54<00:00,  1.84batch/s, loss=0.00124]\n"
          ]
        },
        {
          "output_type": "stream",
          "name": "stdout",
          "text": [
            "Epoch: 10. Loss: 3.5230. Dev Acc: 0.7611. Dev Precision [0.95421844 0.60958904]. Dev Recall: [0.96240106 0.55974843]. Dev F1: [0.95829228 0.58360656].\n",
            "=====w_decay = 0.02. dropout_prob = 0.3=====\n",
            "[102.20349880680442, 49.24168164841831, 22.672865951433778, 16.346093812491745, 11.394256022758782, 8.309073231532238, 5.056561748380773, 5.572089490422513, 3.7278369709383696, 3.5230084802024066]\n",
            "[0.4131994261119082, 0.5583524027459955, 0.5971014492753622, 0.5429234338747099, 0.6114285714285714, 0.5841269841269842, 0.5827814569536425, 0.5833333333333333, 0.5907692307692307, 0.583606557377049]\n",
            "\n",
            "\n"
          ]
        }
      ]
    },
    {
      "cell_type": "code",
      "source": [
        "plt.figure(dpi=100)\n",
        "for i, dev_f1s in enumerate(all_train_losses):\n",
        "    a, b = divmod(i, len(dropout_probs))\n",
        "    plt.plot(dev_f1s, label=f\"dropout_prob = {dropout_probs[b]}; weight_decay = {weight_decays[a]}\")\n",
        "plt.legend(bbox_to_anchor=(1.8, 1))\n",
        "plt.title(\"Train Losses\")\n",
        "plt.show()"
      ],
      "metadata": {
        "id": "3Zg6qrw2-Heb",
        "colab": {
          "base_uri": "https://localhost:8080/",
          "height": 385
        },
        "outputId": "5eb6c71e-e7eb-40d0-ef07-6bdd5ef6627b"
      },
      "execution_count": null,
      "outputs": [
        {
          "output_type": "display_data",
          "data": {
            "image/png": "[encoded data removed]",
            "text/plain": [
              "<Figure size 600x400 with 1 Axes>"
            ]
          },
          "metadata": {
            "needs_background": "light"
          }
        }
      ]
    },
    {
      "cell_type": "code",
      "source": [
        "plt.figure(dpi=100)\n",
        "for i, dev_f1s in enumerate(all_dev_f1s):\n",
        "    a, b = divmod(i, len(dropout_probs))\n",
        "    plt.plot(dev_f1s, label=f\"dropout_prob = {dropout_probs[b]}; weight_decay = {weight_decays[a]}\")\n",
        "plt.legend(bbox_to_anchor=(1.8, 1))\n",
        "plt.title(\"Positive F1 (Internal Dev)\")\n",
        "plt.show()"
      ],
      "metadata": {
        "id": "j-9OUg-v-Hec",
        "colab": {
          "base_uri": "https://localhost:8080/",
          "height": 385
        },
        "outputId": "3b86ae80-e8c5-41b3-9090-fd4633de37c3"
      },
      "execution_count": null,
      "outputs": [
        {
          "output_type": "display_data",
          "data": {
            "image/png": "[encoded data removed]",
            "text/plain": [
              "<Figure size 600x400 with 1 Axes>"
            ]
          },
          "metadata": {
            "needs_background": "light"
          }
        }
      ]
    },
    {
      "cell_type": "code",
      "source": [
        "for i, dev_f1s in enumerate(all_dev_f1s):\n",
        "    a, b = divmod(i, len(dropout_probs))\n",
        "    print(f\"dropout_prob = {dropout_probs[b]}; weight_decay = {weight_decays[a]}. Final Pos F1 (Internal Dev): {dev_f1s[-1]}\")"
      ],
      "metadata": {
        "id": "FGP-NT9Q-Hec",
        "colab": {
          "base_uri": "https://localhost:8080/"
        },
        "outputId": "19496627-fad7-4713-d924-62c7f7f74c65"
      },
      "execution_count": null,
      "outputs": [
        {
          "output_type": "stream",
          "name": "stdout",
          "text": [
            "dropout_prob = 0.1; weight_decay = 0.005. Final Pos F1 (Internal Dev): 0.5714285714285713\n",
            "dropout_prob = 0.2; weight_decay = 0.005. Final Pos F1 (Internal Dev): 0.5714285714285715\n",
            "dropout_prob = 0.3; weight_decay = 0.005. Final Pos F1 (Internal Dev): 0.5626911314984709\n",
            "dropout_prob = 0.1; weight_decay = 0.01. Final Pos F1 (Internal Dev): 0.5512367491166077\n",
            "dropout_prob = 0.2; weight_decay = 0.01. Final Pos F1 (Internal Dev): 0.5590062111801242\n",
            "dropout_prob = 0.3; weight_decay = 0.01. Final Pos F1 (Internal Dev): 0.5724381625441697\n",
            "dropout_prob = 0.1; weight_decay = 0.02. Final Pos F1 (Internal Dev): 0.5822784810126582\n",
            "dropout_prob = 0.2; weight_decay = 0.02. Final Pos F1 (Internal Dev): 0.5949367088607594\n",
            "dropout_prob = 0.3; weight_decay = 0.02. Final Pos F1 (Internal Dev): 0.583606557377049\n"
          ]
        }
      ]
    },
    {
      "cell_type": "code",
      "source": [
        ""
      ],
      "metadata": {
        "id": "W59pl2czREBR"
      },
      "execution_count": null,
      "outputs": []
    }
  ],
  "metadata": {
    "accelerator": "GPU",
    "colab": {
      "collapsed_sections": [],
      "machine_shape": "hm",
      "name": "nlp_cw.ipynb",
      "provenance": [],
      "toc_visible": true
    },
    "kernelspec": {
      "display_name": "Python 3",
      "name": "python3"
    },
    "language_info": {
      "name": "python"
    }
  },
  "nbformat": 4,
  "nbformat_minor": 0
}